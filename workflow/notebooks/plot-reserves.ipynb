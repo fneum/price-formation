{
 "cells": [
  {
   "cell_type": "code",
   "execution_count": null,
   "metadata": {},
   "outputs": [],
   "source": [
    "import matplotlib.pyplot as plt\n",
    "import seaborn as sns\n",
    "import pypsa\n",
    "import sys\n",
    "\n",
    "plt.style.use([\"bmh\", \"../../matplotlibrc\"])\n",
    "sns.set_palette(\"colorblind\")\n",
    "\n",
    "import matplotlib as mpl\n",
    "\n",
    "mpl.rcParams[\"figure.dpi\"] = 100\n",
    "\n",
    "sys.path.append(\"../scripts\")\n",
    "from plot import get_price_duration\n",
    "\n",
    "FC_EFFICIENCY = 0.5"
   ]
  },
  {
   "cell_type": "code",
   "execution_count": null,
   "metadata": {},
   "outputs": [],
   "source": [
    "voll_files = {\n",
    "    int(\n",
    "        v * FC_EFFICIENCY\n",
    "    ): f\"../../results/20240625-reserve/network_solved_LT-country+DE-voll+true-reserve+{v}.nc\"\n",
    "    for v in [0, 20, 60, 100, 140, 180]\n",
    "}\n",
    "ns_voll = {k: pypsa.Network(v) for k, v in voll_files.items()}"
   ]
  },
  {
   "cell_type": "code",
   "execution_count": null,
   "metadata": {},
   "outputs": [],
   "source": [
    "elas_files = {\n",
    "    int(\n",
    "        v * FC_EFFICIENCY\n",
    "    ): f\"../../results/20240625-reserve/network_solved_LT-country+DE-elastic+true-elastic_intercept+2000-reserve+{v}.nc\"\n",
    "    for v in [0, 20, 60, 100, 140, 180]\n",
    "}\n",
    "ns_elas = {k: pypsa.Network(v) for k, v in elas_files.items()}"
   ]
  },
  {
   "cell_type": "code",
   "execution_count": null,
   "metadata": {},
   "outputs": [],
   "source": [
    "pdc_voll = {k: get_price_duration(v) for k, v in ns_voll.items()}\n",
    "pdc_elas = {k: get_price_duration(v) for k, v in ns_elas.items()}"
   ]
  },
  {
   "cell_type": "code",
   "execution_count": null,
   "metadata": {},
   "outputs": [],
   "source": [
    "voll_st_files = {\n",
    "    int(\n",
    "        v * FC_EFFICIENCY\n",
    "    ): f\"../../results/20240625-reserve/network_myopic_LT-country+DE-voll+true-reserve+{v}_ST-perfect_foresight+true-hydrogen_bid+0-battery_bid+0-cyclic+true.nc\"\n",
    "    for v in [0, 20, 60, 100, 140, 180]\n",
    "}\n",
    "ns_voll_st = {k: pypsa.Network(v) for k, v in voll_st_files.items()}"
   ]
  },
  {
   "cell_type": "code",
   "execution_count": null,
   "metadata": {},
   "outputs": [],
   "source": [
    "elas_st_files = {\n",
    "    int(\n",
    "        v * FC_EFFICIENCY\n",
    "    ): f\"../../results/20240625-reserve/network_myopic_LT-country+DE-elastic+true-elastic_intercept+2000-reserve+{v}_ST-perfect_foresight+true-hydrogen_bid+0-battery_bid+0-cyclic+true.nc\"\n",
    "    for v in [0, 20, 60, 100, 140, 180]\n",
    "}\n",
    "ns_elas_st = {k: pypsa.Network(v) for k, v in elas_st_files.items()}"
   ]
  },
  {
   "cell_type": "code",
   "execution_count": null,
   "metadata": {},
   "outputs": [],
   "source": [
    "pdc_voll_st = {k: get_price_duration(v) for k, v in ns_voll_st.items()}\n",
    "pdc_elas_st = {k: get_price_duration(v) for k, v in ns_elas_st.items()}"
   ]
  },
  {
   "cell_type": "code",
   "execution_count": null,
   "metadata": {},
   "outputs": [],
   "source": [
    "pu_colors = sns.color_palette(\"rocket\", 6)\n",
    "cat_colors = sns.color_palette(\"colorblind\")\n",
    "lw = 1.25\n",
    "\n",
    "fig, axs = plt.subplots(2, 2, figsize=(10, 7))\n",
    "\n",
    "for i, (k, pdc) in enumerate(pdc_voll.items()):\n",
    "    pdc.plot(\n",
    "        ax=axs[0, 0],\n",
    "        label=rf\"{k} MW$_e$\",\n",
    "        color=pu_colors[i],\n",
    "        clip_on=False,\n",
    "        linewidth=lw,\n",
    "    )\n",
    "\n",
    "for i, (k, pdc) in enumerate(pdc_elas.items()):\n",
    "    pdc.plot(\n",
    "        ax=axs[0, 1],\n",
    "        label=rf\"{k} MW$_e$\",\n",
    "        color=pu_colors[i],\n",
    "        clip_on=False,\n",
    "        linewidth=lw,\n",
    "    )\n",
    "\n",
    "for i, (k, pdc) in enumerate(pdc_voll_st.items()):\n",
    "    pdc.plot(\n",
    "        ax=axs[1, 0],\n",
    "        label=rf\"{k} MW$_e$\",\n",
    "        color=pu_colors[i],\n",
    "        clip_on=False,\n",
    "        linewidth=lw,\n",
    "    )\n",
    "\n",
    "for i, (k, pdc) in enumerate(pdc_elas_st.items()):\n",
    "    pdc.plot(\n",
    "        ax=axs[1, 1],\n",
    "        label=rf\"{k} MW$_e$\",\n",
    "        color=pu_colors[i],\n",
    "        clip_on=False,\n",
    "        linewidth=lw,\n",
    "    )\n",
    "\n",
    "axs[0, 0].set_title(\n",
    "    \"a) VOLL: long-term capacity expansion\", loc=\"left\", fontsize=\"medium\"\n",
    ")\n",
    "axs[0, 1].set_title(\n",
    "    \"b) linear-elastic: long-term capacity expansion\", loc=\"left\", fontsize=\"medium\"\n",
    ")\n",
    "\n",
    "axs[1, 0].set_title(\n",
    "    \"c) VOLL: short-term dispatch with perfect foresight\", loc=\"left\", fontsize=\"medium\"\n",
    ")\n",
    "axs[1, 1].set_title(\n",
    "    \"d) linear-elastic: short-term dispatch with perfect foresight\",\n",
    "    loc=\"left\",\n",
    "    fontsize=\"medium\",\n",
    ")\n",
    "\n",
    "\n",
    "for i in range(2):\n",
    "    axs[0, i].set_ylim(-100, 2200)\n",
    "    axs[0, i].set_ylabel(\"Electricity Price [€/MWh]\")\n",
    "    axs[0, i].set_yticks(range(0, 2001, 250), minor=True)\n",
    "\n",
    "for i in range(2):\n",
    "    axs[1, i].set_ylim(-100, 2200)\n",
    "    axs[1, i].set_ylabel(\"Electricity Price [€/MWh]\")\n",
    "    axs[1, i].set_yticks(range(0, 2001, 250), minor=True)\n",
    "\n",
    "for i in range(2):\n",
    "    for j in range(2):\n",
    "        axs[i, j].set_xlabel(\"Fraction of time [%]\")\n",
    "        axs[i, j].axhline(0, linewidth=1, color=\"#bbb\", zorder=0)\n",
    "        axs[i, j].set_xlim(0, 100)\n",
    "        axs[i, j].legend(title=\"reserve\")\n",
    "\n",
    "for ext in [\"png\", \"pdf\"]:\n",
    "    plt.savefig(f\"../../figures/figure-reserve.{ext}\", bbox_inches=\"tight\", dpi=300)"
   ]
  },
  {
   "cell_type": "code",
   "execution_count": null,
   "metadata": {},
   "outputs": [],
   "source": []
  }
 ],
 "metadata": {
  "kernelspec": {
   "display_name": "price-formation",
   "language": "python",
   "name": "python3"
  },
  "language_info": {
   "codemirror_mode": {
    "name": "ipython",
    "version": 3
   },
   "file_extension": ".py",
   "mimetype": "text/x-python",
   "name": "python",
   "nbconvert_exporter": "python",
   "pygments_lexer": "ipython3",
   "version": "3.11.0"
  }
 },
 "nbformat": 4,
 "nbformat_minor": 2
}
