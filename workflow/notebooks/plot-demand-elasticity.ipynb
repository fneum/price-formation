{
 "cells": [
  {
   "cell_type": "code",
   "execution_count": null,
   "metadata": {},
   "outputs": [],
   "source": [
    "import matplotlib.pyplot as plt\n",
    "import seaborn as sns\n",
    "import numpy as np\n",
    "\n",
    "plt.style.use([\"bmh\", \"../../matplotlibrc\"])\n",
    "sns.set_palette(\"colorblind\")"
   ]
  },
  {
   "cell_type": "code",
   "execution_count": null,
   "metadata": {},
   "outputs": [],
   "source": [
    "colors = sns.color_palette(\"colorblind\")"
   ]
  },
  {
   "cell_type": "code",
   "execution_count": null,
   "metadata": {},
   "outputs": [],
   "source": [
    "fig, ax = plt.subplots(figsize=(6, 4))\n",
    "\n",
    "\n",
    "# inelastic\n",
    "ax.axvline(60.5, c=colors[4], linestyle=\"--\", label=\"perfectly inelastic\")\n",
    "\n",
    "\n",
    "# VOLL\n",
    "c = colors[1]\n",
    "x = [0, 60]\n",
    "y = [75, 75]\n",
    "ax.plot(x, y, c=c, label=\"perfectly inelastic\\nup to VOLL\")\n",
    "\n",
    "x = [60, 60]\n",
    "y = [75, 0]\n",
    "ax.plot(x, y, c=c)\n",
    "\n",
    "\n",
    "# linear demand curve\n",
    "d = np.linspace(0, 70, 100)\n",
    "ax.plot(d, 200 - 200 / 70 * d, c=colors[0], label=\"linear\")\n",
    "\n",
    "# PWL\n",
    "c = colors[2]\n",
    "cross1 = [50, 30]\n",
    "cross2 = [65, 4]\n",
    "\n",
    "x = [41, cross1[0]]\n",
    "y = [100, cross1[1]]\n",
    "ax.plot(x, y, c=c, label=\"piecewise linear\")\n",
    "\n",
    "x = [cross1[0], cross2[0]]\n",
    "y = [cross1[1], cross2[1]]\n",
    "ax.plot(x, y, c=c)\n",
    "\n",
    "x = [cross2[0], 90]\n",
    "y = [cross2[1], 0]\n",
    "ax.plot(x, y, c=c)\n",
    "\n",
    "\n",
    "# log-log function\n",
    "d = np.linspace(0, 120, 100)\n",
    "ax.plot(\n",
    "    d, np.exp(120 - 25 * np.log(0.5 * d + 80)), c=\"k\", linestyle=\"--\", label=\"log-log\"\n",
    ")\n",
    "\n",
    "ax.set_ylim(0.5, 100)\n",
    "ax.set_xlim(0, 120)\n",
    "\n",
    "ax.set_ylabel(\"price [€/MWh]\")\n",
    "ax.set_xlabel(\"quantity [MW]\")\n",
    "\n",
    "# ax.set_xticks([])\n",
    "# ax.set_yticks([])\n",
    "\n",
    "plt.legend(loc=\"upper right\", title=\"demand curves\", fontsize=10.5)\n",
    "\n",
    "plt.tight_layout()\n",
    "\n",
    "for ext in [\"pdf\", \"png\"]:\n",
    "    plt.savefig(f\"../../figures/figure-elasticity.{ext}\", bbox_inches=\"tight\")"
   ]
  },
  {
   "cell_type": "code",
   "execution_count": null,
   "metadata": {},
   "outputs": [],
   "source": [
    "np.exp(120 - 25 * np.log(d + 30))"
   ]
  },
  {
   "cell_type": "code",
   "execution_count": null,
   "metadata": {},
   "outputs": [],
   "source": []
  }
 ],
 "metadata": {
  "kernelspec": {
   "display_name": "price-formation",
   "language": "python",
   "name": "python3"
  },
  "language_info": {
   "codemirror_mode": {
    "name": "ipython",
    "version": 3
   },
   "file_extension": ".py",
   "mimetype": "text/x-python",
   "name": "python",
   "nbconvert_exporter": "python",
   "pygments_lexer": "ipython3",
   "version": "3.11.0"
  }
 },
 "nbformat": 4,
 "nbformat_minor": 2
}
