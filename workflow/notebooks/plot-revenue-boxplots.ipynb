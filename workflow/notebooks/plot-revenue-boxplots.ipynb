{
 "cells": [
  {
   "cell_type": "code",
   "execution_count": null,
   "metadata": {},
   "outputs": [],
   "source": [
    "import matplotlib.pyplot as plt\n",
    "import seaborn as sns\n",
    "import pypsa\n",
    "import pandas as pd\n",
    "import os\n",
    "\n",
    "plt.style.use([\"bmh\", \"../../matplotlibrc\"])\n",
    "sns.set_palette(\"colorblind\")\n",
    "\n",
    "COUNTRY = \"UK\""
   ]
  },
  {
   "cell_type": "code",
   "execution_count": null,
   "metadata": {},
   "outputs": [],
   "source": [
    "files = {\n",
    "    \"VOLL\": f\"../../results/20240506-70a/network_solved_LT-country+{COUNTRY}-voll+true.nc\",\n",
    "    \"PWL-elastic\": f\"../../results/20240506-70a/network_solved_LT-country+{COUNTRY}-elastic_pwl+default.nc\",\n",
    "}\n",
    "ns = {k: pypsa.Network(v) for k, v in files.items()}"
   ]
  },
  {
   "cell_type": "code",
   "execution_count": null,
   "metadata": {},
   "outputs": [],
   "source": [
    "def get_annual_revenues(n):\n",
    "    revenue = (\n",
    "        n.statistics.revenue(aggregate_time=False)\n",
    "        .groupby(\"carrier\")\n",
    "        .sum()\n",
    "        .T.drop(\"load\", axis=1)\n",
    "    )\n",
    "    annual_revenue = revenue.groupby(revenue.index.year).sum()\n",
    "    to_combine = [\"battery charger\", \"battery discharger\"]\n",
    "    annual_revenue[\"battery dis-/charging\"] = annual_revenue[to_combine].sum(axis=1)\n",
    "    annual_revenue = annual_revenue.drop(to_combine, axis=1)\n",
    "    normed_annual_revenue = annual_revenue / annual_revenue.mean() * 1 - 1\n",
    "    return normed_annual_revenue  # p.u."
   ]
  },
  {
   "cell_type": "code",
   "execution_count": null,
   "metadata": {},
   "outputs": [],
   "source": [
    "revenues = pd.concat({k: get_annual_revenues(v) for k, v in ns.items()})\n",
    "revenues.index.names = [\"scenario\", \"year\"]\n",
    "revenues"
   ]
  },
  {
   "cell_type": "code",
   "execution_count": null,
   "metadata": {},
   "outputs": [],
   "source": [
    "revenues_long = pd.melt(\n",
    "    revenues.reset_index(),\n",
    "    id_vars=[\"scenario\", \"year\"],\n",
    "    var_name=\"carrier\",\n",
    "    value_name=\"value\",\n",
    ")"
   ]
  },
  {
   "cell_type": "code",
   "execution_count": null,
   "metadata": {},
   "outputs": [],
   "source": [
    "revenues_long[\"carrier\"] = revenues_long[\"carrier\"].str.replace(\"fuel cell\", \"turbine\")\n",
    "revenues_long[\"carrier\"] = revenues_long[\"carrier\"].str.replace(\" \", \"\\n\")\n",
    "revenues_long.sort_values(by=\"carrier\", ascending=False, inplace=True)"
   ]
  },
  {
   "cell_type": "code",
   "execution_count": null,
   "metadata": {},
   "outputs": [],
   "source": [
    "fig, ax = plt.subplots(1, 1, figsize=(10, 4))\n",
    "\n",
    "sns.stripplot(\n",
    "    revenues_long,\n",
    "    ax=ax,\n",
    "    orient=\"v\",\n",
    "    x=\"carrier\",\n",
    "    y=\"value\",\n",
    "    hue=\"scenario\",\n",
    "    dodge=True,\n",
    "    alpha=0.5,\n",
    "    size=3,\n",
    "    jitter=0.2,\n",
    "    hue_order=[\"VOLL\", \"PWL-elastic\"],\n",
    ")\n",
    "sns.violinplot(\n",
    "    revenues_long,\n",
    "    ax=ax,\n",
    "    orient=\"v\",\n",
    "    x=\"carrier\",\n",
    "    y=\"value\",\n",
    "    hue=\"scenario\",\n",
    "    dodge=True,\n",
    "    facecolor=\"#fff\",\n",
    "    edgecolor=\"#ccc\",\n",
    "    inner=\"quart\",\n",
    "    # density_norm=\"area\",\n",
    "    cut=True,\n",
    "    hue_order=[\"VOLL\", \"PWL-elastic\"],\n",
    "    legend=False,\n",
    "    bw_adjust=0.5,\n",
    ")\n",
    "\n",
    "plt.ylabel(\"Annual revenue\\n[per-unit relative to mean]\")\n",
    "plt.ylim(-10, 20)\n",
    "plt.yticks(range(-10, 20, 1), minor=True)\n",
    "plt.axhline(0, color=\"#444\", lw=0.5)\n",
    "plt.xlabel(\"\")\n",
    "\n",
    "for ext in [\"png\", \"pdf\"]:\n",
    "    plt.savefig(\n",
    "        f\"../../figures/figure-annual-revenue-{COUNTRY}.{ext}\",\n",
    "        bbox_inches=\"tight\",\n",
    "        dpi=300,\n",
    "    )"
   ]
  },
  {
   "cell_type": "code",
   "execution_count": null,
   "metadata": {},
   "outputs": [],
   "source": []
  },
  {
   "cell_type": "code",
   "execution_count": null,
   "metadata": {},
   "outputs": [],
   "source": []
  },
  {
   "cell_type": "code",
   "execution_count": null,
   "metadata": {},
   "outputs": [],
   "source": []
  },
  {
   "cell_type": "code",
   "execution_count": null,
   "metadata": {},
   "outputs": [],
   "source": []
  }
 ],
 "metadata": {
  "kernelspec": {
   "display_name": "price-formation",
   "language": "python",
   "name": "python3"
  },
  "language_info": {
   "codemirror_mode": {
    "name": "ipython",
    "version": 3
   },
   "file_extension": ".py",
   "mimetype": "text/x-python",
   "name": "python",
   "nbconvert_exporter": "python",
   "pygments_lexer": "ipython3",
   "version": "3.11.0"
  }
 },
 "nbformat": 4,
 "nbformat_minor": 2
}
