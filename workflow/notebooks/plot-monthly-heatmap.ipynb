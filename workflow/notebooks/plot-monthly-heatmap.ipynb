{
 "cells": [
  {
   "cell_type": "code",
   "execution_count": null,
   "metadata": {},
   "outputs": [],
   "source": [
    "import matplotlib.pyplot as plt\n",
    "import seaborn as sns\n",
    "import pypsa\n",
    "\n",
    "plt.style.use([\"bmh\", \"../../matplotlibrc\"])\n",
    "sns.set_palette(\"colorblind\")\n",
    "\n",
    "import matplotlib as mpl\n",
    "\n",
    "mpl.rcParams[\"figure.dpi\"] = 100\n",
    "\n",
    "COUNTRY = \"DE\""
   ]
  },
  {
   "cell_type": "code",
   "execution_count": null,
   "metadata": {},
   "outputs": [],
   "source": [
    "files = {\n",
    "    \"perfectly inelastic\": f\"../../results/20240506-70a/network_solved_LT-country+{COUNTRY}-inelastic+true.nc\",\n",
    "    \"VOLL 2000 €/MWh\": f\"../../results/20240506-70a/network_solved_LT-country+{COUNTRY}-voll+true.nc\",\n",
    "    \"PWL-elastic\": f\"../../results/20240506-70a/network_solved_LT-country+{COUNTRY}-elastic_pwl+default.nc\",\n",
    "}\n",
    "ns = {k: pypsa.Network(v) for k, v in files.items()}"
   ]
  },
  {
   "cell_type": "code",
   "execution_count": null,
   "metadata": {},
   "outputs": [],
   "source": [
    "fig, axs = plt.subplots(\n",
    "    3,\n",
    "    1,\n",
    "    figsize=(7, 6.5),\n",
    "    sharey=True,\n",
    "    sharex=False,\n",
    "    gridspec_kw={\"wspace\": 0.1, \"hspace\": 0.1},\n",
    ")\n",
    "\n",
    "norm = plt.Normalize(0, 500)\n",
    "cmap = \"YlGn\"\n",
    "\n",
    "for i, ax in enumerate(axs.flatten()):\n",
    "\n",
    "    key = list(ns.keys())[i]\n",
    "    n = ns[key]\n",
    "    lmp = n.buses_t.marginal_price[\"electricity\"]\n",
    "    lmp = lmp.groupby([lmp.index.year, lmp.index.month]).mean().unstack()\n",
    "\n",
    "    sns.heatmap(lmp.T, ax=ax, square=True, cbar=False, cmap=cmap, norm=norm)\n",
    "\n",
    "    ax.set_title(key, loc=\"left\", fontsize=\"medium\")\n",
    "    ax.set_ylabel(\"Month\")\n",
    "\n",
    "    if i == 3:\n",
    "        ax.set_xlabel(\"Year\")\n",
    "    else:\n",
    "        ax.set_xlabel(\"\")\n",
    "\n",
    "    plt.setp(ax.get_yticklabels(), rotation=0)\n",
    "\n",
    "    xtick_labels = [1951] + [year for year in range(1955, 2020, 5)]\n",
    "    xtick_positions = [lmp.index.get_loc(year) for year in xtick_labels]\n",
    "\n",
    "    ax.set_xticks(xtick_positions)\n",
    "    ax.set_xticklabels(xtick_labels)\n",
    "    plt.setp(ax.get_xticklabels(), rotation=0, ha=\"left\")\n",
    "\n",
    "\n",
    "cbar_ax = fig.add_axes([0.92, 0.2, 0.03, 0.6])\n",
    "\n",
    "fig.colorbar(\n",
    "    plt.cm.ScalarMappable(norm=norm, cmap=cmap),\n",
    "    cax=cbar_ax,\n",
    "    orientation=\"vertical\",\n",
    "    fraction=0.1,\n",
    "    # shrink=0.5,\n",
    "    label=\"Mean Electricity Price [€/MWh]\",\n",
    "    extend=\"max\",\n",
    ")\n",
    "\n",
    "fig.subplots_adjust(right=0.9)\n",
    "\n",
    "# plt.tight_layout()\n",
    "\n",
    "\n",
    "for ext in [\"png\", \"pdf\"]:\n",
    "    plt.savefig(\n",
    "        f\"../../figures/figure-heatmaps-{COUNTRY}.{ext}\", bbox_inches=\"tight\", dpi=300\n",
    "    )"
   ]
  },
  {
   "cell_type": "code",
   "execution_count": null,
   "metadata": {},
   "outputs": [],
   "source": []
  }
 ],
 "metadata": {
  "kernelspec": {
   "display_name": "price-formation",
   "language": "python",
   "name": "python3"
  },
  "language_info": {
   "codemirror_mode": {
    "name": "ipython",
    "version": 3
   },
   "file_extension": ".py",
   "mimetype": "text/x-python",
   "name": "python",
   "nbconvert_exporter": "python",
   "pygments_lexer": "ipython3",
   "version": "3.11.0"
  }
 },
 "nbformat": 4,
 "nbformat_minor": 2
}
