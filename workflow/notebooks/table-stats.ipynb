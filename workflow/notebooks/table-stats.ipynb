{
 "cells": [
  {
   "cell_type": "code",
   "execution_count": null,
   "metadata": {},
   "outputs": [],
   "source": [
    "import pandas as pd\n",
    "\n",
    "COUNTRY = \"UK\""
   ]
  },
  {
   "cell_type": "code",
   "execution_count": null,
   "metadata": {},
   "outputs": [],
   "source": [
    "to_rename = {\n",
    "    \"system-costs\": \"system costs (bn€/period)\",\n",
    "    \"utility\": \"utility (bn€/period)\",\n",
    "    \"welfare\": \"welfare (bn€/period)\",\n",
    "    \"average-costs\": \"average system costs (€/MWh)\",\n",
    "    \"average-load-served\": \"average load served (MW)\",\n",
    "    \"peak-load-shedding\": \"peak load shedding (MW)\",\n",
    "    \"primary-energy\": \"primary energy (TWh/period)\",\n",
    "    \"wind-share\": \"wind share (\\\\%)\",\n",
    "    \"solar-share\": \"solar share (\\\\%)\",\n",
    "    \"wind-lcoe\": \"wind market value (€/MWh)\",\n",
    "    \"solar-lcoe\": \"solar market value (€/MWh)\",\n",
    "    \"wind-cf\": \"wind capacity factor (\\\\%)\",\n",
    "    \"solar-cf\": \"solar capacity factor (\\\\%)\",\n",
    "    \"hydrogen-consumed\": \"hydrogen consumed (TWh/period)\",\n",
    "    \"curtailment\": \"curtailment (\\\\%)\",\n",
    "    \"p_nom_opt-wind\": \"wind capacity (MW)\",\n",
    "    \"p_nom_opt-solar\": \"solar capacity (MW)\",\n",
    "    \"p_nom_opt-hydrogen-electrolyser\": \"electrolyser capacity (MW)\",\n",
    "    \"p_nom_opt-hydrogen-fuel-cell\": \"fuel cell capacity (MW)\",\n",
    "    \"p_nom_opt-battery-charger\": \"battery inverter capacity (MW)\",\n",
    "    \"p_nom_opt-battery-storage\": \"battery storage capacity (GWh)\",\n",
    "    \"p_nom_opt-hydrogen-storage\": \"hydrogen storage capacity (GWh)\",\n",
    "    \"average-electricity-price\": \"mean electricity price (€/MWh)\",\n",
    "    \"average-hydrogen-price\": \"mean hydrogen price (€/MWh)\",\n",
    "    \"std-electricity-price\": \"STD electricity price (€/MWh)\",\n",
    "    \"std-hydrogen-price\": \"STD hydrogen price (€/MWh)\",\n",
    "    \"average-hydrogen-msv\": \"mean hydrogen MSV (€/MWh)\",\n",
    "    \"average-battery-msv\": \"mean battery MSV (€/MWh)\",\n",
    "    \"std-hydrogen-msv\": \"STD hydrogen MSV (€/MWh)\",\n",
    "    \"std-battery-msv\": \"STD battery MSV (€/MWh)\",\n",
    "}"
   ]
  },
  {
   "cell_type": "code",
   "execution_count": null,
   "metadata": {},
   "outputs": [],
   "source": [
    "sets = {}\n",
    "\n",
    "sets[\"70a\"] = {\n",
    "    \"\\shortstack[r]{perfectly\\\\\\\\inelastic,\\\\\\\\LT,\\\\\\\\70a}\": f\"../../results/20240506-70a/summary/LT-country+{COUNTRY}-inelastic+true/metrics.csv\",\n",
    "    \"\\shortstack[r]{VOLL,\\\\\\\\LT,\\\\\\\\70a}\": f\"../../results/20240506-70a/summary/LT-country+{COUNTRY}-voll+true/metrics.csv\",\n",
    "    \"\\shortstack[r]{PWL-elastic\\\\\\\\default,\\\\\\\\LT,\\\\\\\\70a}\": f\"../../results/20240506-70a/summary/LT-country+{COUNTRY}-elastic_pwl+default/metrics.csv\",\n",
    "    \"\\shortstack[r]{PWL-elastic\\\\\\\\higher,\\\\\\\\LT,\\\\\\\\70a}\": f\"../../results/20240506-70a/summary/LT-country+{COUNTRY}-elastic_pwl+higher/metrics.csv\",\n",
    "    \"\\shortstack[r]{PWL-elastic\\\\\\\\lower,\\\\\\\\LT,\\\\\\\\70a}\": f\"../../results/20240506-70a/summary/LT-country+{COUNTRY}-elastic_pwl+lower/metrics.csv\",\n",
    "    \"\\shortstack[r]{VOLL,\\\\\\\\ST,\\\\\\\\70a,\\\\\\\\PF}\": f\"../../results/20240506-70a/summary/LT-country+{COUNTRY}-voll+true/ST-perfect_foresight+true-hydrogen_bid+0-battery_bid+0-cyclic+true/metrics.csv\",\n",
    "    \"\\shortstack[r]{VOLL,\\\\\\\\ST,\\\\\\\\70a,\\\\\\\\PF,\\\\\\\\C+5\\%}\": f\"../../results/20240506-70a/summary/LT-country+{COUNTRY}-voll+true/ST-perfect_foresight+true-hydrogen_bid+0-battery_bid+0-cyclic+true-perturbation+1.05/metrics.csv\",\n",
    "    \"\\shortstack[r]{VOLL,\\\\\\\\ST,\\\\\\\\70a,\\\\\\\\PF,\\\\\\\\C-5\\%}\": f\"../../results/20240506-70a/summary/LT-country+{COUNTRY}-voll+true/ST-perfect_foresight+true-hydrogen_bid+0-battery_bid+0-cyclic+true-perturbation+0.95/metrics.csv\",\n",
    "    \"\\shortstack[r]{PWL-elastic,\\\\\\\\ST,\\\\\\\\70a,\\\\\\\\PF}\": f\"../../results/20240506-70a/summary/LT-country+{COUNTRY}-elastic_pwl+default/ST-perfect_foresight+true-hydrogen_bid+0-battery_bid+0-cyclic+true/metrics.csv\",\n",
    "    \"\\shortstack[r]{PWL-elastic,\\\\\\\\ST,\\\\\\\\70a,\\\\\\\\PF,\\\\\\\\C+5\\%}\": f\"../../results/20240506-70a/summary/LT-country+{COUNTRY}-elastic_pwl+default/ST-perfect_foresight+true-hydrogen_bid+0-battery_bid+0-cyclic+true-perturbation+1.05/metrics.csv\",\n",
    "    \"\\shortstack[r]{PWL-elastic,\\\\\\\\ST,\\\\\\\\70a,\\\\\\\\PF,\\\\\\\\C-5\\%}\": f\"../../results/20240506-70a/summary/LT-country+{COUNTRY}-elastic_pwl+default/ST-perfect_foresight+true-hydrogen_bid+0-battery_bid+0-cyclic+true-perturbation+0.95/metrics.csv\",\n",
    "}\n",
    "\n",
    "\n",
    "sets[\"35a-35a\"] = {\n",
    "    \"\\shortstack[r]{VOLL,\\\\\\\\LT,\\\\\\\\35a-35a}\": f\"../../results/20240506-35a-35a/summary/LT-country+{COUNTRY}-number_years+35-voll+true/metrics.csv\",\n",
    "    \"\\shortstack[r]{VOLL,\\\\\\\\ST,\\\\\\\\35a-35a,\\\\\\\\PF}\": f\"../../results/20240506-35a-35a/summary/LT-country+{COUNTRY}-number_years+35-voll+true/ST-number_years+35-perfect_foresight+true-hydrogen_bid+0-battery_bid+0/metrics.csv\",\n",
    "    \"\\shortstack[r]{VOLL,\\\\\\\\ST,\\\\\\\\35a-35a,\\\\\\\\myopic\\\\\\\\48/24}\": f\"../../results/20240506-35a-35a/summary/LT-country+{COUNTRY}-number_years+35-voll+true/ST-number_years+35-horizon+48-overlap+24/metrics.csv\",\n",
    "    \"\\shortstack[r]{VOLL,\\\\\\\\ST,\\\\\\\\35a-35a,\\\\\\\\myopic\\\\\\\\96/48}\": f\"../../results/20240506-35a-35a/summary/LT-country+{COUNTRY}-number_years+35-voll+true/ST-number_years+35-horizon+96-overlap+48/metrics.csv\",\n",
    "    \"\\shortstack[r]{VOLL,\\\\\\\\ST,\\\\\\\\35a-35a,\\\\\\\\myopic\\\\\\\\96/48,\\\\\\\\C+5\\%}\": f\"../../results/20240506-35a-35a/summary/LT-country+{COUNTRY}-number_years+35-voll+true/ST-number_years+35-horizon+96-overlap+48-perturbation+1.05/metrics.csv\",\n",
    "    \"\\shortstack[r]{VOLL,\\\\\\\\ST,\\\\\\\\35a-35a,\\\\\\\\myopic\\\\\\\\96/48,\\\\\\\\C-5\\%}\": f\"../../results/20240506-35a-35a/summary/LT-country+{COUNTRY}-number_years+35-voll+true/ST-number_years+35-horizon+96-overlap+48-perturbation+0.95/metrics.csv\",\n",
    "    \"\\shortstack[r]{PWL-elastic\\\\\\\\default,\\\\\\\\LT,\\\\\\\\35a-35a}\": f\"../../results/20240506-35a-35a/summary/LT-country+{COUNTRY}-number_years+35-elastic_pwl+default/metrics.csv\",\n",
    "    \"\\shortstack[r]{PWL-elastic\\\\\\\\default,\\\\\\\\ST,\\\\\\\\35a-35a,\\\\\\\\PF}\": f\"../../results/20240506-35a-35a/summary/LT-country+{COUNTRY}-number_years+35-elastic_pwl+default/ST-number_years+35-perfect_foresight+true-hydrogen_bid+0-battery_bid+0/metrics.csv\",\n",
    "    \"\\shortstack[r]{PWL-elastic\\\\\\\\default,\\\\\\\\ST,\\\\\\\\35a-35a,\\\\\\\\myopic\\\\\\\\48/24}\": f\"../../results/20240506-35a-35a/summary/LT-country+{COUNTRY}-number_years+35-elastic_pwl+default/ST-number_years+35-horizon+48-overlap+24/metrics.csv\",\n",
    "    \"\\shortstack[r]{PWL-elastic\\\\\\\\default,\\\\\\\\ST,\\\\\\\\35a-35a,\\\\\\\\myopic\\\\\\\\96/48}\": f\"../../results/20240506-35a-35a/summary/LT-country+{COUNTRY}-number_years+35-elastic_pwl+default/ST-number_years+35-horizon+96-overlap+48/metrics.csv\",\n",
    "    \"\\shortstack[r]{PWL-elastic\\\\\\\\default,\\\\\\\\ST,\\\\\\\\35a-35a,\\\\\\\\myopic\\\\\\\\96/48,\\\\\\\\C+5\\%}\": f\"../../results/20240506-35a-35a/summary/LT-country+{COUNTRY}-number_years+35-elastic_pwl+default/ST-number_years+35-horizon+96-overlap+48-perturbation+1.05/metrics.csv\",\n",
    "    \"\\shortstack[r]{PWL-elastic\\\\\\\\default,\\\\\\\\ST,\\\\\\\\35a-35a,\\\\\\\\myopic\\\\\\\\96/48,\\\\\\\\C-5\\%}\": f\"../../results/20240506-35a-35a/summary/LT-country+{COUNTRY}-number_years+35-elastic_pwl+default/ST-number_years+35-horizon+96-overlap+48-perturbation+0.95/metrics.csv\",\n",
    "}"
   ]
  },
  {
   "cell_type": "code",
   "execution_count": null,
   "metadata": {},
   "outputs": [],
   "source": [
    "for k, d in sets.items():\n",
    "\n",
    "    df = pd.concat(\n",
    "        {k: pd.read_csv(v, index_col=0, skiprows=0).squeeze() for k, v in d.items()},\n",
    "        axis=1,\n",
    "    )\n",
    "\n",
    "    df.loc[to_rename.keys()].rename(to_rename, axis=0).to_latex(\n",
    "        f\"../../report/paper/tables/metrics-{k}-{COUNTRY}.tex\",\n",
    "        na_rep=\"--\",\n",
    "        float_format=\"%.2f\",\n",
    "    )"
   ]
  },
  {
   "cell_type": "code",
   "execution_count": null,
   "metadata": {},
   "outputs": [],
   "source": [
    "reserve_fns = {\n",
    "    \"\\shortstack[r]{VOLL,\\\\\\\\0 MW}\": f\"../../results/20240625-reserve/summary/LT-country+DE-voll+true-reserve+0/metrics.csv\",\n",
    "    \"\\shortstack[r]{VOLL,\\\\\\\\10 MW}\": f\"../../results/20240625-reserve/summary/LT-country+DE-voll+true-reserve+20/metrics.csv\",\n",
    "    \"\\shortstack[r]{VOLL,\\\\\\\\30 MW}\": f\"../../results/20240625-reserve/summary/LT-country+DE-voll+true-reserve+60/metrics.csv\",\n",
    "    \"\\shortstack[r]{VOLL,\\\\\\\\50 MW}\": f\"../../results/20240625-reserve/summary/LT-country+DE-voll+true-reserve+100/metrics.csv\",\n",
    "    \"\\shortstack[r]{VOLL,\\\\\\\\70 MW}\": f\"../../results/20240625-reserve/summary/LT-country+DE-voll+true-reserve+140/metrics.csv\",\n",
    "    \"\\shortstack[r]{VOLL,\\\\\\\\90 MW}\": f\"../../results/20240625-reserve/summary/LT-country+DE-voll+true-reserve+180/metrics.csv\",\n",
    "    \"\\shortstack[r]{linear-elastic,\\\\\\\\0 MW}\": f\"../../results/20240625-reserve/summary/LT-country+DE-elastic+true-elastic_intercept+2000-reserve+0/metrics.csv\",\n",
    "    \"\\shortstack[r]{linear-elastic,\\\\\\\\10 MW}\": f\"../../results/20240625-reserve/summary/LT-country+DE-elastic+true-elastic_intercept+2000-reserve+20/metrics.csv\",\n",
    "    \"\\shortstack[r]{linear-elastic,\\\\\\\\30 MW}\": f\"../../results/20240625-reserve/summary/LT-country+DE-elastic+true-elastic_intercept+2000-reserve+60/metrics.csv\",\n",
    "    \"\\shortstack[r]{linear-elastic,\\\\\\\\50 MW}\": f\"../../results/20240625-reserve/summary/LT-country+DE-elastic+true-elastic_intercept+2000-reserve+100/metrics.csv\",\n",
    "    \"\\shortstack[r]{linear-elastic,\\\\\\\\70 MW}\": f\"../../results/20240625-reserve/summary/LT-country+DE-elastic+true-elastic_intercept+2000-reserve+140/metrics.csv\",\n",
    "    \"\\shortstack[r]{linear-elastic,\\\\\\\\90 MW}\": f\"../../results/20240625-reserve/summary/LT-country+DE-elastic+true-elastic_intercept+2000-reserve+180/metrics.csv\",\n",
    "}"
   ]
  },
  {
   "cell_type": "code",
   "execution_count": null,
   "metadata": {},
   "outputs": [],
   "source": [
    "df = pd.concat(\n",
    "    {\n",
    "        k: pd.read_csv(v, index_col=0, skiprows=0).squeeze()\n",
    "        for k, v in reserve_fns.items()\n",
    "    },\n",
    "    axis=1,\n",
    ")"
   ]
  },
  {
   "cell_type": "code",
   "execution_count": null,
   "metadata": {},
   "outputs": [],
   "source": [
    "df.loc[to_rename.keys()].rename(to_rename, axis=0).to_latex(\n",
    "    f\"../../report/paper/tables/metrics-reserve.tex\", na_rep=\"--\", float_format=\"%.2f\"\n",
    ")"
   ]
  },
  {
   "cell_type": "code",
   "execution_count": null,
   "metadata": {},
   "outputs": [],
   "source": []
  }
 ],
 "metadata": {
  "kernelspec": {
   "display_name": "price-formation",
   "language": "python",
   "name": "python3"
  },
  "language_info": {
   "codemirror_mode": {
    "name": "ipython",
    "version": 3
   },
   "file_extension": ".py",
   "mimetype": "text/x-python",
   "name": "python",
   "nbconvert_exporter": "python",
   "pygments_lexer": "ipython3",
   "version": "3.11.0"
  }
 },
 "nbformat": 4,
 "nbformat_minor": 2
}
