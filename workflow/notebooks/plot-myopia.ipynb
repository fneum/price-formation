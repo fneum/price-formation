{
 "cells": [
  {
   "cell_type": "code",
   "execution_count": null,
   "metadata": {},
   "outputs": [],
   "source": [
    "import matplotlib.pyplot as plt\n",
    "import seaborn as sns\n",
    "import pypsa\n",
    "import pandas as pd\n",
    "import yaml\n",
    "import sys\n",
    "\n",
    "plt.style.use([\"bmh\", \"../../matplotlibrc\"])\n",
    "sns.set_palette(\"colorblind\")\n",
    "\n",
    "import matplotlib as mpl\n",
    "\n",
    "mpl.rcParams[\"figure.dpi\"] = 100\n",
    "\n",
    "sys.path.append(\"../scripts\")\n",
    "from plot import get_price_duration, get_cost_recovery, get_load_duration\n",
    "\n",
    "COUNTRY = \"UK\""
   ]
  },
  {
   "cell_type": "code",
   "execution_count": null,
   "metadata": {},
   "outputs": [],
   "source": [
    "with open(\"../../config/config.yaml\", \"r\") as file:\n",
    "    config = yaml.safe_load(file)"
   ]
  },
  {
   "cell_type": "code",
   "execution_count": null,
   "metadata": {},
   "outputs": [],
   "source": [
    "voll_files = {\n",
    "    \"LT\": f\"../../results/20240506-35a-35a/network_solved_LT-country+{COUNTRY}-number_years+35-voll+true.nc\",\n",
    "    \"ST perfect foresight\": f\"../../results/20240506-35a-35a/network_myopic_LT-country+{COUNTRY}-number_years+35-voll+true_ST-number_years+35-perfect_foresight+true-hydrogen_bid+0-battery_bid+0.nc\",\n",
    "    \"ST myopic\": f\"../../results/20240506-35a-35a/network_myopic_LT-country+{COUNTRY}-number_years+35-voll+true_ST-number_years+35-horizon+96-overlap+48.nc\",\n",
    "    \"ST myopic / capacities +5%\": f\"../../results/20240506-35a-35a/network_myopic_LT-country+{COUNTRY}-number_years+35-voll+true_ST-number_years+35-horizon+96-overlap+48-perturbation+1.05.nc\",\n",
    "    \"ST myopic / capacities -5%\": f\"../../results/20240506-35a-35a/network_myopic_LT-country+{COUNTRY}-number_years+35-voll+true_ST-number_years+35-horizon+96-overlap+48-perturbation+0.95.nc\",\n",
    "}\n",
    "ns_voll = {k: pypsa.Network(v) for k, v in voll_files.items()}"
   ]
  },
  {
   "cell_type": "code",
   "execution_count": null,
   "metadata": {},
   "outputs": [],
   "source": [
    "pwl_files = {\n",
    "    \"LT\": f\"../../results/20240506-35a-35a/network_solved_LT-country+{COUNTRY}-number_years+35-elastic_pwl+default.nc\",\n",
    "    \"ST perfect foresight\": f\"../../results/20240506-35a-35a/network_myopic_LT-country+{COUNTRY}-number_years+35-elastic_pwl+default_ST-number_years+35-perfect_foresight+true-hydrogen_bid+0-battery_bid+0.nc\",\n",
    "    \"ST myopic\": f\"../../results/20240506-35a-35a/network_myopic_LT-country+{COUNTRY}-number_years+35-elastic_pwl+default_ST-number_years+35-horizon+96-overlap+48.nc\",\n",
    "    \"ST myopic / capacities +5%\": f\"../../results/20240506-35a-35a/network_myopic_LT-country+{COUNTRY}-number_years+35-elastic_pwl+default_ST-number_years+35-horizon+96-overlap+48-perturbation+1.05.nc\",\n",
    "    \"ST myopic / capacities -5%\": f\"../../results/20240506-35a-35a/network_myopic_LT-country+{COUNTRY}-number_years+35-elastic_pwl+default_ST-number_years+35-horizon+96-overlap+48-perturbation+0.95.nc\",\n",
    "}\n",
    "ns_pwl = {k: pypsa.Network(v) for k, v in pwl_files.items()}"
   ]
  },
  {
   "cell_type": "code",
   "execution_count": null,
   "metadata": {},
   "outputs": [],
   "source": [
    "pdc_voll = {k: get_price_duration(v) for k, v in ns_voll.items()}\n",
    "pdc_pwl = {k: get_price_duration(v) for k, v in ns_pwl.items()}"
   ]
  },
  {
   "cell_type": "code",
   "execution_count": null,
   "metadata": {},
   "outputs": [],
   "source": [
    "pu_colors = sns.color_palette(\"rocket\", 5)\n",
    "cat_colors = sns.color_palette(\"colorblind\")\n",
    "lw = 1.25\n",
    "\n",
    "fig, axs = plt.subplots(\n",
    "    2,\n",
    "    2,\n",
    "    figsize=(10, 4),\n",
    "    height_ratios=[1, 3],\n",
    "    gridspec_kw={\"hspace\": 0, \"wspace\": 0.25},\n",
    ")\n",
    "\n",
    "for key, pdc in pdc_voll.items():\n",
    "    ls = \":\" if \"capacities\" in key else \"-\"\n",
    "    for i in range(2):\n",
    "        pdc.plot(ax=axs[i, 0], label=key, linewidth=lw, linestyle=ls)\n",
    "\n",
    "for key, pdc in pdc_pwl.items():\n",
    "    ls = \":\" if \"capacities\" in key else \"-\"\n",
    "    for i in range(2):\n",
    "        pdc.plot(ax=axs[i, 1], label=key, linewidth=lw, linestyle=ls)\n",
    "\n",
    "axs[0, 0].set_title(\"a) VOLL\", loc=\"left\", fontsize=\"medium\")\n",
    "axs[0, 1].set_title(\"b) PWL-elastic\", loc=\"left\", fontsize=\"medium\")\n",
    "\n",
    "for i in range(2):\n",
    "\n",
    "    axs[0, i].set_ylim(2100, 6000)\n",
    "    axs[0, i].set_yscale(\"log\")\n",
    "    axs[0, i].set_yticks([3000, 4000, 6000])\n",
    "    axs[0, i].set_yticklabels([\"3000\", \"4000\", \"6000\"])\n",
    "    axs[0, i].set_yticks([], minor=True)\n",
    "    axs[0, i].set_xticks([])\n",
    "    axs[0, i].set_xticks([], minor=True)\n",
    "    axs[0, i].set_xlim(0, 100)\n",
    "\n",
    "    axs[1, i].set_ylim(-100, 2100)\n",
    "    axs[1, i].set_ylabel(\"Electricity Price [€/MWh]\")\n",
    "    axs[1, i].set_yticks(range(0, 2001, 250), minor=True)\n",
    "    axs[1, i].set_xticks(range(0, 101, 20))\n",
    "    axs[1, i].set_xticks(range(0, 101, 10), minor=True)\n",
    "    axs[1, i].set_xlabel(\"Fraction of time [%]\")\n",
    "    axs[1, i].axhline(0, linewidth=1, color=\"#bbb\", zorder=0)\n",
    "    axs[1, i].set_xlim(0, 100)\n",
    "    axs[1, i].legend()\n",
    "\n",
    "plt.tight_layout()\n",
    "\n",
    "for ext in [\"png\", \"pdf\"]:\n",
    "    plt.savefig(f\"../../figures/figure-myopia-{COUNTRY}.{ext}\", bbox_inches=\"tight\")"
   ]
  },
  {
   "cell_type": "code",
   "execution_count": null,
   "metadata": {},
   "outputs": [],
   "source": [
    "ldc_voll = {k: get_load_duration(v) for k, v in ns_voll.items()}\n",
    "ldc_pwl = {k: get_load_duration(v) for k, v in ns_pwl.items()}"
   ]
  },
  {
   "cell_type": "code",
   "execution_count": null,
   "metadata": {},
   "outputs": [],
   "source": [
    "cat_colors = sns.color_palette(\"colorblind\")\n",
    "lw = 1.25\n",
    "\n",
    "fig, (ax0, ax1) = plt.subplots(\n",
    "    1,\n",
    "    2,\n",
    "    figsize=(10, 4),\n",
    ")\n",
    "\n",
    "for key, ldc in ldc_voll.items():\n",
    "    ls = \":\" if \"capacities\" in key else \"-\"\n",
    "    ldc.plot(ax=ax0, label=key, linewidth=lw, linestyle=ls)\n",
    "\n",
    "for key, ldc in ldc_pwl.items():\n",
    "    ls = \":\" if \"capacities\" in key else \"-\"\n",
    "    ldc.plot(ax=ax1, label=key, linewidth=lw, linestyle=ls)\n",
    "\n",
    "ax0.set_title(\"a) VOLL\", loc=\"left\", fontsize=\"medium\")\n",
    "ax1.set_title(\"b) PWL-elastic\", loc=\"left\", fontsize=\"medium\")\n",
    "\n",
    "ax0.set_ylim(0, 120)\n",
    "ax0.set_ylabel(\"Load [MW]\")\n",
    "ax0.set_yticks(range(0, 121, 10), minor=True)\n",
    "ax0.set_xticks(range(0, 101, 20))\n",
    "ax0.set_xticks(range(0, 101, 10), minor=True)\n",
    "ax0.set_xlabel(\"Fraction of time [%]\")\n",
    "ax0.axhline(100, linewidth=1, color=\"#bbb\", zorder=0)\n",
    "ax0.set_xlim(0, 100)\n",
    "ax0.legend()\n",
    "\n",
    "ax1.set_ylim(0, 120)\n",
    "ax1.set_ylabel(\"Load [MW]\")\n",
    "ax1.set_yticks(range(0, 121, 10), minor=True)\n",
    "ax1.set_xticks(range(0, 101, 20))\n",
    "ax1.set_xticks(range(0, 101, 10), minor=True)\n",
    "ax1.set_xlabel(\"Fraction of time [%]\")\n",
    "ax1.axhline(100, linewidth=1, color=\"#bbb\", zorder=0)\n",
    "ax1.set_xlim(0, 100)\n",
    "ax1.legend()\n",
    "\n",
    "\n",
    "plt.tight_layout()\n",
    "\n",
    "for ext in [\"png\", \"pdf\"]:\n",
    "    plt.savefig(f\"../../figures/figure-myopia-ldc-{COUNTRY}.{ext}\", bbox_inches=\"tight\")"
   ]
  },
  {
   "cell_type": "code",
   "execution_count": null,
   "metadata": {},
   "outputs": [],
   "source": [
    "crf_voll = pd.DataFrame(\n",
    "    {k: get_cost_recovery(v).sum(axis=1) for k, v in ns_voll.items()}\n",
    ")\n",
    "crf_pwl = pd.DataFrame({k: get_cost_recovery(v).sum(axis=1) for k, v in ns_pwl.items()})"
   ]
  },
  {
   "cell_type": "code",
   "execution_count": null,
   "metadata": {},
   "outputs": [],
   "source": [
    "crf_voll.columns = crf_voll.columns.str.replace(\"ST \", \"ST\\n\").str.replace(\" / \", \"\\n\")\n",
    "crf_pwl.columns = crf_pwl.columns.str.replace(\"ST \", \"ST\\n\").str.replace(\" / \", \"\\n\")"
   ]
  },
  {
   "cell_type": "code",
   "execution_count": null,
   "metadata": {},
   "outputs": [],
   "source": [
    "fig, axs = plt.subplots(2, 1, figsize=(7, 4), sharex=True, sharey=True)\n",
    "\n",
    "crf_voll[::-1].T.plot.bar(ax=axs[0], legend=False, color=config[\"colors\"])\n",
    "crf_pwl[::-1].T.plot.bar(ax=axs[1], legend=False, color=config[\"colors\"])\n",
    "\n",
    "for ax in axs:\n",
    "    ax.set_xlabel(\"\")\n",
    "    ax.set_ylabel(\"Cost Recovery [%]\")\n",
    "    ax.grid(axis=\"y\")\n",
    "    ax.set_ylim(0, 270)\n",
    "    ax.set_yticks(range(0, 400, 100))\n",
    "    ax.set_yticks(range(0, 400, 50), minor=True)\n",
    "    ax.axhline(100, color=\"#999\", linewidth=1)\n",
    "\n",
    "plt.setp(ax.get_xticklabels(), rotation=0, ha=\"center\")\n",
    "\n",
    "axs[0].set_title(\"a) VOLL\", loc=\"left\", fontsize=\"medium\")\n",
    "axs[1].set_title(\"b) PWL-elastic\", loc=\"left\", fontsize=\"medium\")\n",
    "\n",
    "handles, labels = axs[0].get_legend_handles_labels()\n",
    "fig.legend(handles, labels, ncol=4, loc=\"outside upper right\", bbox_to_anchor=(1, 1.1))\n",
    "\n",
    "for ext in [\"pdf\", \"png\"]:\n",
    "    plt.savefig(\n",
    "        f\"../../figures/figure-crf-{COUNTRY}.{ext}\", bbox_inches=\"tight\", dpi=300\n",
    "    )"
   ]
  },
  {
   "cell_type": "code",
   "execution_count": null,
   "metadata": {},
   "outputs": [],
   "source": [
    "crf_pwl.round(1)"
   ]
  },
  {
   "cell_type": "code",
   "execution_count": null,
   "metadata": {},
   "outputs": [],
   "source": [
    "crf_voll.round(1)"
   ]
  },
  {
   "cell_type": "code",
   "execution_count": null,
   "metadata": {},
   "outputs": [],
   "source": []
  }
 ],
 "metadata": {
  "kernelspec": {
   "display_name": "price-formation",
   "language": "python",
   "name": "python3"
  },
  "language_info": {
   "codemirror_mode": {
    "name": "ipython",
    "version": 3
   },
   "file_extension": ".py",
   "mimetype": "text/x-python",
   "name": "python",
   "nbconvert_exporter": "python",
   "pygments_lexer": "ipython3",
   "version": "3.11.0"
  }
 },
 "nbformat": 4,
 "nbformat_minor": 2
}
