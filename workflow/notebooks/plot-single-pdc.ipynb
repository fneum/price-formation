{
 "cells": [
  {
   "cell_type": "code",
   "execution_count": null,
   "metadata": {},
   "outputs": [],
   "source": [
    "import matplotlib.pyplot as plt\n",
    "import seaborn as sns\n",
    "import pypsa\n",
    "import sys\n",
    "\n",
    "plt.style.use([\"bmh\", \"../../matplotlibrc\"])\n",
    "sns.set_palette(\"colorblind\")\n",
    "\n",
    "import matplotlib as mpl\n",
    "\n",
    "mpl.rcParams[\"figure.dpi\"] = 100\n",
    "\n",
    "sys.path.append(\"../scripts\")\n",
    "from plot import get_price_duration"
   ]
  },
  {
   "cell_type": "code",
   "execution_count": null,
   "metadata": {},
   "outputs": [],
   "source": [
    "inelastic_files = {\n",
    "    k: f\"../../results/20240506-fixed-years/network_solved_LT-country+DE-fixed_year+{k}-inelastic+true.nc\"\n",
    "    for k in range(1951, 2021)\n",
    "}\n",
    "ns_inelastic = {k: pypsa.Network(v) for k, v in inelastic_files.items()}"
   ]
  },
  {
   "cell_type": "code",
   "execution_count": null,
   "metadata": {},
   "outputs": [],
   "source": [
    "voll_files = {\n",
    "    k: f\"../../results/20240506-fixed-years/network_solved_LT-country+DE-fixed_year+{k}-voll+true.nc\"\n",
    "    for k in range(1951, 2021)\n",
    "}\n",
    "ns_voll = {k: pypsa.Network(v) for k, v in voll_files.items()}"
   ]
  },
  {
   "cell_type": "code",
   "execution_count": null,
   "metadata": {},
   "outputs": [],
   "source": [
    "pwl_files = {\n",
    "    k: f\"../../results/20240506-fixed-years/network_solved_LT-country+DE-fixed_year+{k}-elastic_pwl+default.nc\"\n",
    "    for k in range(1951, 2021)\n",
    "}\n",
    "ns_pwl = {k: pypsa.Network(v) for k, v in pwl_files.items()}"
   ]
  },
  {
   "cell_type": "code",
   "execution_count": null,
   "metadata": {},
   "outputs": [],
   "source": [
    "pdc_inelastic = {k: get_price_duration(v) for k, v in ns_inelastic.items()}\n",
    "pdc_voll = {k: get_price_duration(v) for k, v in ns_voll.items()}\n",
    "pdc_pwl = {k: get_price_duration(v) for k, v in ns_pwl.items()}"
   ]
  },
  {
   "cell_type": "code",
   "execution_count": null,
   "metadata": {},
   "outputs": [],
   "source": [
    "colors = sns.color_palette(\"crest\", 10)\n",
    "lw = 1.25\n",
    "\n",
    "fig, axs = plt.subplots(1, 3, figsize=(11, 4))\n",
    "\n",
    "for year, pdc in pdc_inelastic.items():\n",
    "    decade = int(str(year)[2])\n",
    "    pdc.plot(ax=axs[0], linewidth=lw, color=colors[decade], alpha=0.2)\n",
    "\n",
    "for year, pdc in pdc_voll.items():\n",
    "    decade = int(str(year)[2])\n",
    "    pdc.plot(ax=axs[1], linewidth=lw, color=colors[decade], alpha=0.2)\n",
    "\n",
    "for year, pdc in pdc_pwl.items():\n",
    "    decade = int(str(year)[2])\n",
    "    pdc.plot(ax=axs[2], linewidth=lw, color=colors[decade], alpha=0.2)\n",
    "\n",
    "axs[0].set_title(\"b) inelastic\", loc=\"left\", fontsize=\"medium\")\n",
    "axs[1].set_title(\"b) VOLL\", loc=\"left\", fontsize=\"medium\")\n",
    "axs[2].set_title(\"c) PWL-elastic\", loc=\"left\", fontsize=\"medium\")\n",
    "\n",
    "for i in range(3):\n",
    "\n",
    "    axs[i].set_ylim(-100, 2100)\n",
    "    axs[i].set_ylabel(\"Electricity Price [€/MWh]\")\n",
    "    axs[i].set_yticks(range(0, 2001, 250), minor=True)\n",
    "    axs[i].set_xticks(range(0, 101, 20))\n",
    "    axs[i].set_xticks(range(0, 101, 10), minor=True)\n",
    "    axs[i].set_xlabel(\"Fraction of time [%]\")\n",
    "    axs[i].axhline(0, linewidth=1, color=\"#bbb\", zorder=0)\n",
    "    axs[i].set_xlim(0, 100)\n",
    "\n",
    "plt.tight_layout()\n",
    "\n",
    "for ext in [\"png\", \"pdf\"]:\n",
    "    plt.savefig(f\"../../figures/figure-single-pdc.{ext}\", bbox_inches=\"tight\")"
   ]
  },
  {
   "cell_type": "code",
   "execution_count": null,
   "metadata": {},
   "outputs": [],
   "source": []
  }
 ],
 "metadata": {
  "kernelspec": {
   "display_name": "price-formation",
   "language": "python",
   "name": "python3"
  },
  "language_info": {
   "codemirror_mode": {
    "name": "ipython",
    "version": 3
   },
   "file_extension": ".py",
   "mimetype": "text/x-python",
   "name": "python",
   "nbconvert_exporter": "python",
   "pygments_lexer": "ipython3",
   "version": "3.11.0"
  }
 },
 "nbformat": 4,
 "nbformat_minor": 2
}
