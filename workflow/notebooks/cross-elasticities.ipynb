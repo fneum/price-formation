{
 "cells": [
  {
   "cell_type": "code",
   "execution_count": 500,
   "metadata": {},
   "outputs": [],
   "source": [
    "import pypsa\n",
    "import matplotlib.pyplot as plt\n",
    "import seaborn as sns\n",
    "\n",
    "plt.style.use([\"bmh\", \"../../matplotlibrc\"])\n",
    "sns.set_palette(\"colorblind\")\n",
    "import time\n",
    "\n",
    "import sys\n",
    "sys.path.append(\"../scripts\")\n",
    "from plot import get_price_duration"
   ]
  },
  {
   "cell_type": "code",
   "execution_count": null,
   "metadata": {},
   "outputs": [],
   "source": [
    "base = \"/home/fneum/bwss/papers/price-formation/results/20240506-single/\"\n",
    "\n",
    "fn = base + \"network_solved_LT-country+DE-elastic_pwl+default.nc\"\n",
    "n_oe_default = pypsa.Network(fn)\n",
    "\n",
    "fn = base + \"network_solved_LT-country+DE-elastic_pwl+default-cross_elasticity+default.nc\"\n",
    "n_ce_default = pypsa.Network(fn)\n",
    "\n",
    "fn = base + \"network_solved_LT-country+DE-elastic_pwl+default-cross_elasticity+higher.nc\"\n",
    "n_ce_higher = pypsa.Network(fn)\n",
    "\n",
    "fn = base + \"network_solved_LT-country+DE-elastic_pwl+default-cross_elasticity+lower.nc\"\n",
    "n_ce_lower = pypsa.Network(fn)\n",
    "\n",
    "fn = base + \"network_solved_LT-country+DE-elastic_pwl+default-cross_elasticity+longer.nc\"\n",
    "n_ce_longer = pypsa.Network(fn)\n",
    "\n",
    "fn = base + \"network_solved_LT-country+DE-elastic_pwl+default-cross_elasticity+shorter.nc\"\n",
    "n_ce_shorter = pypsa.Network(fn)\n",
    "\n",
    "case = \"lowerandlonger16\"\n",
    "\n",
    "fn = base + f\"network_solved_LT-country+DE-elastic_pwl+default-cross_elasticity+{case}.nc\"\n",
    "n_ce_lt = pypsa.Network(fn)\n",
    "\n",
    "fn = base + f\"network_myopic_LT-country+DE-elastic_pwl+default-cross_elasticity+{case}_ST-perfect_foresight+true-hydrogen_bid+0-battery_bid+0-cyclic+true.nc\"\n",
    "n_ce_st_pf = pypsa.Network(fn)\n",
    "\n",
    "#fn = base + f\"network_myopic_LT-country+DE-elastic_pwl+default-cross_elasticity+{case}_ST-horizon+96-overlap+48.nc\"\n",
    "#n_ce_st_my = pypsa.Network(fn)"
   ]
  },
  {
   "cell_type": "code",
   "execution_count": null,
   "metadata": {},
   "outputs": [],
   "source": [
    "fig, ax = plt.subplots(1, 2, figsize=(10,4))\n",
    "colors = sns.color_palette(\"colorblind\")\n",
    "lw = 0.8\n",
    "\n",
    "pdc_standard = get_price_duration(n_oe_default)\n",
    "pdc_ce_default = get_price_duration(n_ce_default)\n",
    "pdc_ce_higher = get_price_duration(n_ce_higher)\n",
    "pdc_ce_lower = get_price_duration(n_ce_lower)\n",
    "pdc_ce_longer = get_price_duration(n_ce_longer)\n",
    "pdc_ce_shorter = get_price_duration(n_ce_shorter)\n",
    "pdc_ce_lt = get_price_duration(n_ce_lt)\n",
    "pdc_ce_st_pf = get_price_duration(n_ce_st_pf)\n",
    "#pdc_ce_st_my = get_price_duration(n_ce_st_my)\n",
    "\n",
    "pdc_standard.plot(ax=ax[0], linewidth=lw, color='k', label=\"own-elastic\")\n",
    "pdc_ce_default.plot(ax=ax[0], linewidth=lw, color=colors[0], label=r\"cross-elastic ($\\hat{T}=4h$, $\\gamma_c = b_c / 16$ €/MWh)\")\n",
    "pdc_ce_higher.plot(ax=ax[0], linewidth=lw, color=colors[1], linestyle=':', label=r\"cross-elastic ($\\hat{T}=4h$, $\\gamma_c = b_c / 8$ €/MWh)\")\n",
    "pdc_ce_lower.plot(ax=ax[0], linewidth=lw, color=colors[2], linestyle=':', label=r\"cross-elastic ($\\hat{T}=4h$, $\\gamma_c = b_c / 24$ €/MWh)\")\n",
    "pdc_ce_longer.plot(ax=ax[0], linewidth=lw, color=colors[1], linestyle='--', label=r\"cross-elastic ($\\hat{T}=8h$, $\\gamma_c = b_c / 16$ €/MWh)\")\n",
    "pdc_ce_shorter.plot(ax=ax[0], linewidth=lw, color=colors[2], linestyle='--', label=r\"cross-elastic ($\\hat{T}=2h$, $\\gamma_c = b_c / 16$ €/MWh)\")\n",
    "\n",
    "pdc_standard.plot(ax=ax[1], linewidth=lw, color='k', label=\"own-elastic (LT)\")\n",
    "pdc_ce_lt.plot(ax=ax[1], linewidth=lw, color=colors[0], label=r\"cross-elastic (LT, $\\hat{T}=4h$, $\\gamma_c = b_c / 16$ €/MWh)\")\n",
    "pdc_ce_st_pf.plot(ax=ax[1], linewidth=lw, color=colors[1], linestyle=\":\", label=\"cross-elastic (ST, perfect foresight)\")\n",
    "#pdc_ce_st_my.plot(ax=ax[1], linewidth=lw, color=colors[2], linestyle=\":\", label=\"cross-elastic (ST, myopic)\")\n",
    "\n",
    "for i in range(2):\n",
    "    ax[i].legend()\n",
    "    ax[i].set_ylabel(\"Electricity price [€/MWh]\")\n",
    "    ax[i].set_xlabel(\"Fraction of time [%]\")\n",
    "    ax[i].set_ylim(0, 3000)\n",
    "    ax[i].set_xlim(0, 100)\n",
    "\n",
    "ax[0].set_title(\"a) LT, PWL-elastic default\", loc=\"left\", fontsize=\"medium\")\n",
    "ax[1].set_title(\"b) LT to ST, PWL-elastic default\", loc=\"left\", fontsize=\"medium\")\n",
    "\n",
    "plt.tight_layout()\n",
    "\n",
    "for ext in [\"pdf\", \"png\"]:\n",
    "    timestr = time.strftime(\"%Y%m%d-%H%M%S\")\n",
    "    plt.savefig(f\"../../figures/figure-cross-elasticity-{timestr}.{ext}\", bbox_inches=\"tight\")"
   ]
  },
  {
   "cell_type": "code",
   "execution_count": null,
   "metadata": {},
   "outputs": [],
   "source": [
    "n_ce_lt.statistics.capex().sum() + n_ce_lt.statistics.opex().sum()"
   ]
  },
  {
   "cell_type": "code",
   "execution_count": null,
   "metadata": {},
   "outputs": [],
   "source": [
    "n_ce_st_pf.statistics.capex().sum() + n_ce_st_pf.statistics.opex().sum()"
   ]
  },
  {
   "cell_type": "code",
   "execution_count": null,
   "metadata": {},
   "outputs": [],
   "source": [
    "n_ce_default.statistics.optimal_capacity() #- n_ce_lower.statistics.optimal_capacity()"
   ]
  },
  {
   "cell_type": "code",
   "execution_count": null,
   "metadata": {},
   "outputs": [],
   "source": []
  },
  {
   "cell_type": "code",
   "execution_count": null,
   "metadata": {},
   "outputs": [],
   "source": []
  }
 ],
 "metadata": {
  "kernelspec": {
   "display_name": "price-formation",
   "language": "python",
   "name": "python3"
  },
  "language_info": {
   "codemirror_mode": {
    "name": "ipython",
    "version": 3
   },
   "file_extension": ".py",
   "mimetype": "text/x-python",
   "name": "python",
   "nbconvert_exporter": "python",
   "pygments_lexer": "ipython3",
   "version": "3.11.0"
  }
 },
 "nbformat": 4,
 "nbformat_minor": 2
}
