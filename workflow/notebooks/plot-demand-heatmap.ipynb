{
 "cells": [
  {
   "cell_type": "code",
   "execution_count": null,
   "metadata": {},
   "outputs": [],
   "source": [
    "import matplotlib.pyplot as plt\n",
    "import seaborn as sns\n",
    "import pandas as pd\n",
    "import pypsa\n",
    "\n",
    "plt.style.use([\"bmh\", \"../../matplotlibrc\"])\n",
    "sns.set_palette(\"colorblind\")\n",
    "\n",
    "import matplotlib as mpl\n",
    "\n",
    "mpl.rcParams[\"figure.dpi\"] = 100\n",
    "\n",
    "COUNTRY = \"UK\"\n",
    "CASE = \"VOLL\""
   ]
  },
  {
   "cell_type": "code",
   "execution_count": null,
   "metadata": {},
   "outputs": [],
   "source": [
    "files = {\n",
    "    \"VOLL\": f\"../../results/20240506-70a/network_solved_LT-country+{COUNTRY}-voll+true.nc\",\n",
    "    \"PWL-elastic\": f\"../../results/20240506-70a/network_solved_LT-country+{COUNTRY}-elastic_pwl+default.nc\",\n",
    "}\n",
    "n = pypsa.Network(files[CASE])"
   ]
  },
  {
   "cell_type": "code",
   "execution_count": null,
   "metadata": {},
   "outputs": [],
   "source": [
    "df = (\n",
    "    -n.statistics.energy_balance(aggregate_time=False)\n",
    "    .groupby(\"carrier\")\n",
    "    .sum()\n",
    "    .loc[\"load\"]\n",
    ")\n",
    "mean_load = df.mean()"
   ]
  },
  {
   "cell_type": "code",
   "execution_count": null,
   "metadata": {},
   "outputs": [],
   "source": [
    "mean_load * 0.6"
   ]
  },
  {
   "cell_type": "code",
   "execution_count": null,
   "metadata": {},
   "outputs": [],
   "source": [
    "df = pd.DataFrame(df)\n",
    "df[\"time_str\"] = df.index.strftime(\"%m-%d %H:00\")\n",
    "df[\"year\"] = df.index.year\n",
    "pivot = df.pivot(index=\"year\", columns=\"time_str\", values=\"load\")\n",
    "\n",
    "new_cols = pd.to_datetime(\"2024-\" + pivot.columns.str[:5], format=\"%Y-%m-%d\").strftime(\n",
    "    \"%b %-d\"\n",
    ")\n",
    "pivot.columns = new_cols"
   ]
  },
  {
   "cell_type": "code",
   "execution_count": null,
   "metadata": {},
   "outputs": [],
   "source": [
    "# Create discrete levels based on mean_load\n",
    "discrete_data = pd.DataFrame(index=pivot.index, columns=pivot.columns, dtype=float)\n",
    "\n",
    "# Assign categories 1-5 (will map to colors)\n",
    "discrete_data[pivot >= 0.9 * mean_load] = 4\n",
    "discrete_data[pivot < 0.9 * mean_load] = 3\n",
    "discrete_data[pivot < 0.8 * mean_load] = 2\n",
    "discrete_data[pivot < 0.7 * mean_load] = 1"
   ]
  },
  {
   "cell_type": "code",
   "execution_count": null,
   "metadata": {},
   "outputs": [],
   "source": [
    "discrete_data.stack().value_counts()"
   ]
  },
  {
   "cell_type": "code",
   "execution_count": null,
   "metadata": {},
   "outputs": [],
   "source": [
    "from matplotlib.colors import ListedColormap\n",
    "\n",
    "colors = [\"#9D00FF\", \"#e31a1c\", \"#fecc5c\", \"#eee\"]\n",
    "custom_cmap = ListedColormap(colors)\n",
    "\n",
    "fig, ax = plt.subplots(figsize=(17, 8))\n",
    "heatmap = sns.heatmap(\n",
    "    discrete_data,\n",
    "    cmap=custom_cmap,\n",
    "    xticklabels=168,\n",
    "    vmin=0.5,\n",
    "    vmax=4.5,\n",
    "    cbar_kws={\n",
    "        \"label\": \"electricity demand level\",\n",
    "        \"ticks\": [1, 2, 3, 4],\n",
    "        \"boundaries\": [0.5, 1.5, 2.5, 3.5, 4.5],\n",
    "        \"shrink\": 0.7,\n",
    "        \"fraction\": 0.1,\n",
    "    },\n",
    ")\n",
    "\n",
    "colorbar = heatmap.collections[0].colorbar\n",
    "colorbar.set_ticklabels(\n",
    "    [\n",
    "        \"< 70% avg\",\n",
    "        \"< 80% avg\",\n",
    "        \"< 90% avg\",\n",
    "        \"> 90% avg\",\n",
    "    ]\n",
    ")\n",
    "\n",
    "\n",
    "plt.xlabel(\"Date\")\n",
    "plt.ylabel(\"Year\")\n",
    "plt.title(CASE, fontsize=\"medium\")\n",
    "\n",
    "plt.tight_layout()\n",
    "\n",
    "plt.savefig(\n",
    "    f\"../../figures/figure-load-heatmaps-{CASE}-{COUNTRY}.png\",\n",
    "    bbox_inches=\"tight\",\n",
    "    dpi=300,\n",
    ")"
   ]
  },
  {
   "cell_type": "code",
   "execution_count": null,
   "metadata": {},
   "outputs": [],
   "source": []
  }
 ],
 "metadata": {
  "kernelspec": {
   "display_name": "price-formation",
   "language": "python",
   "name": "python3"
  },
  "language_info": {
   "codemirror_mode": {
    "name": "ipython",
    "version": 3
   },
   "file_extension": ".py",
   "mimetype": "text/x-python",
   "name": "python",
   "nbconvert_exporter": "python",
   "pygments_lexer": "ipython3",
   "version": "3.11.0"
  }
 },
 "nbformat": 4,
 "nbformat_minor": 2
}
