{
 "cells": [
  {
   "cell_type": "code",
   "execution_count": null,
   "metadata": {},
   "outputs": [],
   "source": [
    "import matplotlib.pyplot as plt\n",
    "import seaborn as sns\n",
    "import pypsa\n",
    "import sys\n",
    "\n",
    "plt.style.use([\"bmh\", \"../../matplotlibrc\"])\n",
    "sns.set_palette(\"colorblind\")\n",
    "\n",
    "import matplotlib as mpl\n",
    "\n",
    "mpl.rcParams[\"figure.dpi\"] = 100\n",
    "\n",
    "sys.path.append(\"../scripts\")\n",
    "from plot import get_load_duration"
   ]
  },
  {
   "cell_type": "code",
   "execution_count": null,
   "metadata": {},
   "outputs": [],
   "source": [
    "voll_files = {\n",
    "    1: \"../../results/20240506-num-years/network_solved_LT-country+DE-number_years+1-voll+true.nc\",\n",
    "    4: \"../../results/20240506-num-years/network_solved_LT-country+DE-number_years+4-voll+true.nc\",\n",
    "    10: \"../../results/20240506-num-years/network_solved_LT-country+DE-number_years+10-voll+true.nc\",\n",
    "    48: \"../../results/20240506-num-years/network_solved_LT-country+DE-number_years+48-voll+true.nc\",\n",
    "    70: \"../../results/20240506-num-years/network_solved_LT-country+DE-number_years+70-voll+true.nc\",\n",
    "}\n",
    "ns_voll = {k: pypsa.Network(v) for k, v in voll_files.items()}"
   ]
  },
  {
   "cell_type": "code",
   "execution_count": null,
   "metadata": {},
   "outputs": [],
   "source": [
    "pwl_files = {\n",
    "    1: \"../../results/20240506-num-years/network_solved_LT-country+DE-number_years+1-elastic_pwl+default.nc\",\n",
    "    4: \"../../results/20240506-num-years/network_solved_LT-country+DE-number_years+4-elastic_pwl+default.nc\",\n",
    "    10: \"../../results/20240506-num-years/network_solved_LT-country+DE-number_years+10-elastic_pwl+default.nc\",\n",
    "    48: \"../../results/20240506-num-years/network_solved_LT-country+DE-number_years+48-elastic_pwl+default.nc\",\n",
    "    70: \"../../results/20240506-num-years/network_solved_LT-country+DE-number_years+70-elastic_pwl+default.nc\",\n",
    "}\n",
    "ns_pwl = {k: pypsa.Network(v) for k, v in pwl_files.items()}"
   ]
  },
  {
   "cell_type": "code",
   "execution_count": null,
   "metadata": {},
   "outputs": [],
   "source": [
    "voll_st_files = {\n",
    "    \"LT\": \"../../results/20240506-70a/network_solved_LT-country+DE-voll+true.nc\",\n",
    "    \"ST\": \"../../results/20240506-70a/network_myopic_LT-country+DE-voll+true_ST-perfect_foresight+true-hydrogen_bid+0-battery_bid+0-cyclic+true.nc\",\n",
    "    \"ST - capacities +5%\": \"../../results/20240506-70a/network_myopic_LT-country+DE-voll+true_ST-horizon+96-overlap+48-perturbation+1.05.nc\",\n",
    "    \"ST - capacities -5%\": \"../../results/20240506-70a/network_myopic_LT-country+DE-voll+true_ST-horizon+96-overlap+48-perturbation+0.95.nc\",\n",
    "}\n",
    "ns_voll_st = {k: pypsa.Network(v) for k, v in voll_st_files.items()}"
   ]
  },
  {
   "cell_type": "code",
   "execution_count": null,
   "metadata": {},
   "outputs": [],
   "source": [
    "pwl_st_files = {\n",
    "    \"LT\": \"../../results/20240506-70a/network_solved_LT-country+DE-elastic_pwl+default.nc\",\n",
    "    \"ST\": \"../../results/20240506-70a/network_myopic_LT-country+DE-elastic_pwl+default_ST-perfect_foresight+true-hydrogen_bid+0-battery_bid+0-cyclic+true.nc\",\n",
    "    \"ST - capacities +5%\": \"../../results/20240506-70a/network_myopic_LT-country+DE-elastic_pwl+default_ST-horizon+96-overlap+48-perturbation+1.05.nc\",\n",
    "    \"ST - capacities -5%\": \"../../results/20240506-70a/network_myopic_LT-country+DE-elastic_pwl+default_ST-horizon+96-overlap+48-perturbation+0.95.nc\",\n",
    "}\n",
    "ns_pwl_st = {k: pypsa.Network(v) for k, v in pwl_st_files.items()}"
   ]
  },
  {
   "cell_type": "code",
   "execution_count": null,
   "metadata": {},
   "outputs": [],
   "source": [
    "voll_myopic_files = {\n",
    "    \"LT\": \"../../results/20240506-35a-35a/network_solved_LT-country+DE-number_years+35-voll+true.nc\",\n",
    "    \"ST perfect foresight\": \"../../results/20240506-35a-35a/network_myopic_LT-country+DE-number_years+35-voll+true_ST-number_years+35-perfect_foresight+true-hydrogen_bid+0-battery_bid+0-cyclic+true.nc\",\n",
    "    \"ST myopic\": \"../../results/20240506-35a-35a/network_myopic_LT-country+DE-number_years+35-voll+true_ST-number_years+35-horizon+96-overlap+48.nc\",\n",
    "    \"ST myopic / capacities +5%\": \"../../results/20240506-35a-35a/network_myopic_LT-country+DE-number_years+35-voll+true_ST-number_years+35-horizon+96-overlap+48-perturbation+1.05.nc\",\n",
    "    \"ST myopic / capacities -5%\": \"../../results/20240506-35a-35a/network_myopic_LT-country+DE-number_years+35-voll+true_ST-number_years+35-horizon+96-overlap+48-perturbation+0.95.nc\",\n",
    "}\n",
    "ns_voll_myopic = {k: pypsa.Network(v) for k, v in voll_myopic_files.items()}"
   ]
  },
  {
   "cell_type": "code",
   "execution_count": null,
   "metadata": {},
   "outputs": [],
   "source": [
    "pwl_myopic_files = {\n",
    "    \"LT\": \"../../results/20240506-35a-35a/network_solved_LT-country+DE-number_years+35-elastic_pwl+default.nc\",\n",
    "    \"ST perfect foresight\": \"../../results/20240506-35a-35a/network_myopic_LT-country+DE-number_years+35-elastic_pwl+default_ST-number_years+35-perfect_foresight+true-hydrogen_bid+0-battery_bid+0-cyclic+true.nc\",\n",
    "    \"ST myopic\": \"../../results/20240506-35a-35a/network_myopic_LT-country+DE-number_years+35-elastic_pwl+default_ST-number_years+35-horizon+96-overlap+48.nc\",\n",
    "    \"ST myopic / capacities +5%\": \"../../results/20240506-35a-35a/network_myopic_LT-country+DE-number_years+35-elastic_pwl+default_ST-number_years+35-horizon+96-overlap+48-perturbation+1.05.nc\",\n",
    "    \"ST myopic / capacities -5%\": \"../../results/20240506-35a-35a/network_myopic_LT-country+DE-number_years+35-elastic_pwl+default_ST-number_years+35-horizon+96-overlap+48-perturbation+0.95.nc\",\n",
    "}\n",
    "ns_pwl_myopic = {k: pypsa.Network(v) for k, v in pwl_myopic_files.items()}"
   ]
  },
  {
   "cell_type": "code",
   "execution_count": null,
   "metadata": {},
   "outputs": [],
   "source": [
    "ldc_voll = {k: get_load_duration(v) for k, v in ns_voll.items()}\n",
    "ldc_pwl = {k: get_load_duration(v) for k, v in ns_pwl.items()}\n",
    "\n",
    "ldc_voll_st = {k: get_load_duration(v) for k, v in ns_voll_st.items()}\n",
    "ldc_pwl_st = {k: get_load_duration(v) for k, v in ns_pwl_st.items()}\n",
    "\n",
    "ldc_voll_myopic = {k: get_load_duration(v) for k, v in ns_voll_myopic.items()}\n",
    "ldc_pwl_myopic = {k: get_load_duration(v) for k, v in ns_pwl_myopic.items()}"
   ]
  },
  {
   "cell_type": "code",
   "execution_count": null,
   "metadata": {},
   "outputs": [],
   "source": [
    "pu_colors = sns.color_palette(\"rocket\", 5)[::-1]\n",
    "cat_colors = sns.color_palette(\"colorblind\")\n",
    "lw = 1.25\n",
    "\n",
    "fig, axs = plt.subplots(3, 2, figsize=(10, 10))\n",
    "\n",
    "for i, (ys, ldc) in enumerate(ldc_voll.items()):\n",
    "    label = f\"{ys} year\" if ys == 1 else f\"{ys} years\"\n",
    "    ldc.plot(ax=axs[0, 0], label=label, color=pu_colors[i], linewidth=lw)\n",
    "\n",
    "for i, (ys, ldc) in enumerate(ldc_pwl.items()):\n",
    "    label = f\"{ys} year\" if ys == 1 else f\"{ys} years\"\n",
    "    ldc.plot(ax=axs[0, 1], label=label, color=pu_colors[i], linewidth=lw)\n",
    "\n",
    "for i, (key, ldc) in enumerate(ldc_voll_st.items()):\n",
    "    ls = \":\" if key != \"LT\" else \"-\"\n",
    "    ldc.plot(ax=axs[1, 0], label=key, color=cat_colors[i], linestyle=ls, linewidth=lw)\n",
    "\n",
    "for i, (key, ldc) in enumerate(ldc_pwl_st.items()):\n",
    "    ls = \":\" if key != \"LT\" else \"-\"\n",
    "    ldc.plot(ax=axs[1, 1], label=key, color=cat_colors[i], linestyle=ls, linewidth=lw)\n",
    "\n",
    "for i, (key, ldc) in enumerate(ldc_voll_myopic.items()):\n",
    "    ls = \":\" if \"capacities\" in key else \"-\"\n",
    "    ldc.plot(ax=axs[2, 0], label=key, color=cat_colors[i], linestyle=ls, linewidth=lw)\n",
    "\n",
    "for i, (key, ldc) in enumerate(ldc_pwl_myopic.items()):\n",
    "    ls = \":\" if \"capacities\" in key else \"-\"\n",
    "    ldc.plot(ax=axs[2, 1], label=key, color=cat_colors[i], linestyle=ls, linewidth=lw)\n",
    "\n",
    "axs[0, 0].set_title(\"a) VOLL: load duration curve\", loc=\"left\", fontsize=\"medium\")\n",
    "axs[0, 1].set_title(\n",
    "    \"b) PWL-elastic: load duration curve\", loc=\"left\", fontsize=\"medium\"\n",
    ")\n",
    "\n",
    "axs[1, 0].set_title(\n",
    "    \"c) VOLL: load duration curve with perturbations\", loc=\"left\", fontsize=\"medium\"\n",
    ")\n",
    "axs[1, 1].set_title(\n",
    "    \"d) PWL-elastic: load duration curve with perturbations\",\n",
    "    loc=\"left\",\n",
    "    fontsize=\"medium\",\n",
    ")\n",
    "\n",
    "axs[2, 0].set_title(\n",
    "    \"e) VOLL: load duration curve with myopic operation\", loc=\"left\", fontsize=\"medium\"\n",
    ")\n",
    "axs[2, 1].set_title(\n",
    "    \"f) PWL-elastic: price duration curve with myopic operation\",\n",
    "    loc=\"left\",\n",
    "    fontsize=\"medium\",\n",
    ")\n",
    "\n",
    "for i in range(3):\n",
    "    for j in range(2):\n",
    "        axs[i, j].set_xlabel(\"Fraction of time [%]\")\n",
    "        axs[i, j].axhline(100, linewidth=1, color=\"#bbb\", zorder=0)\n",
    "        axs[i, j].set_xlim(0, 100)\n",
    "        axs[i, j].legend()\n",
    "        axs[i, j].set_ylim(0, 120)\n",
    "        axs[i, j].set_ylabel(\"Load [MW]\")\n",
    "        axs[i, j].set_yticks(range(0, 121, 20))\n",
    "        axs[i, j].set_yticks(range(0, 121, 10), minor=True)\n",
    "\n",
    "for ext in [\"png\", \"pdf\"]:\n",
    "    plt.savefig(f\"../../figures/figure-ldc.{ext}\", bbox_inches=\"tight\", dpi=300)"
   ]
  },
  {
   "cell_type": "code",
   "execution_count": null,
   "metadata": {},
   "outputs": [],
   "source": []
  }
 ],
 "metadata": {
  "kernelspec": {
   "display_name": "price-formation",
   "language": "python",
   "name": "python3"
  },
  "language_info": {
   "codemirror_mode": {
    "name": "ipython",
    "version": 3
   },
   "file_extension": ".py",
   "mimetype": "text/x-python",
   "name": "python",
   "nbconvert_exporter": "python",
   "pygments_lexer": "ipython3",
   "version": "3.11.0"
  }
 },
 "nbformat": 4,
 "nbformat_minor": 2
}
