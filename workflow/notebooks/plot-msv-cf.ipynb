{
 "cells": [
  {
   "cell_type": "code",
   "execution_count": null,
   "metadata": {},
   "outputs": [],
   "source": [
    "import matplotlib.pyplot as plt\n",
    "import seaborn as sns\n",
    "import pypsa\n",
    "\n",
    "plt.style.use([\"bmh\", \"../../matplotlibrc\"])\n",
    "sns.set_palette(\"colorblind\")\n",
    "\n",
    "import matplotlib as mpl\n",
    "\n",
    "mpl.rcParams[\"figure.dpi\"] = 100\n",
    "\n",
    "import yaml\n",
    "\n",
    "with open(\"../../config/config.yaml\", \"r\") as file:\n",
    "    config = yaml.safe_load(file)"
   ]
  },
  {
   "cell_type": "code",
   "execution_count": null,
   "metadata": {},
   "outputs": [],
   "source": [
    "voll = pypsa.Network(\n",
    "    \"../../results/20240506-num-years/network_solved_LT-country+DE-number_years+70-voll+true.nc\"\n",
    ")\n",
    "pwl = pypsa.Network(\n",
    "    \"../../results/20240506-num-years/network_solved_LT-country+DE-number_years+70-elastic_pwl+default.nc\"\n",
    ")"
   ]
  },
  {
   "cell_type": "code",
   "execution_count": null,
   "metadata": {},
   "outputs": [],
   "source": [
    "fig, ax = plt.subplots(3, 1, figsize=(10, 6))\n",
    "\n",
    "price = pwl.buses_t.marginal_price[\"electricity\"].resample(\"YE\").mean()\n",
    "price.plot(\n",
    "    ax=ax[0],\n",
    "    color=config[\"colors\"][\"hydrogen\"],\n",
    "    drawstyle=\"steps-post\",\n",
    "    label=\"PWL-elastic\",\n",
    ")\n",
    "ax[0].axhline(price.mean(), color=\"#898989\", linewidth=1, label=\"mean (PWL-elastic)\")\n",
    "price = voll.buses_t.marginal_price[\"electricity\"].resample(\"YE\").mean()\n",
    "price.plot(\n",
    "    ax=ax[0],\n",
    "    color=config[\"colors\"][\"hydrogen\"],\n",
    "    linestyle=\":\",\n",
    "    drawstyle=\"steps-post\",\n",
    "    label=\"VOLL\",\n",
    ")\n",
    "ax[0].axhline(\n",
    "    price.mean(), color=\"#898989\", linewidth=1, label=\"mean (VOLL)\", linestyle=\":\"\n",
    ")\n",
    "ax[0].legend(ncol=2)\n",
    "\n",
    "msv = pwl.buses_t.marginal_price[\"hydrogen\"]\n",
    "msv.plot(ax=ax[1], color=config[\"colors\"][\"hydrogen\"], label=\"PWL-elastic\")\n",
    "ax[1].axhline(msv.mean(), color=\"#898989\", linewidth=1, label=\"mean (PWL-elastic)\")\n",
    "msv = voll.buses_t.marginal_price[\"hydrogen\"]\n",
    "msv.plot(ax=ax[1], color=config[\"colors\"][\"hydrogen\"], label=\"VOLL\", linestyle=\":\")\n",
    "ax[1].axhline(\n",
    "    msv.mean(), color=\"#898989\", linewidth=1, label=\"mean (VOLL)\", linestyle=\":\"\n",
    ")\n",
    "ax[1].legend(ncol=2)\n",
    "\n",
    "cf = pwl.generators_t.p_max_pu.loc[:, ::-1]\n",
    "deviation = (cf.resample(\"YE\").mean() - cf.mean()) / cf.mean() * 100\n",
    "\n",
    "deviation.plot(ax=ax[2], drawstyle=\"steps-post\", color=config[\"colors\"])\n",
    "ax[0].set_ylabel(\"Average Annual\\nElectricity Price\\n[€/MWh]\")\n",
    "ax[0].set_xlabel(\"\")\n",
    "ax[1].set_ylabel(\"Hourly Hydrogen\\nMarginal Storage\\nValue [€/MWh]\")\n",
    "ax[1].set_xlabel(\"\")\n",
    "ax[2].set_ylabel(\"Average Annual\\nCapacity Factor\\nAnomaly [%]\")\n",
    "ax[2].set_xlabel(\"\")\n",
    "ax[2].set_ylim(-20, 20)\n",
    "ax[2].axhline(0, color=\"#898989\", linestyle=\"--\", linewidth=1)\n",
    "plt.legend(title=\"\", ncol=2)\n",
    "\n",
    "for ext in [\"pdf\", \"png\"]:\n",
    "    plt.savefig(f\"../../figures/figure-msv-cf.{ext}\", bbox_inches=\"tight\", dpi=300)"
   ]
  },
  {
   "cell_type": "code",
   "execution_count": null,
   "metadata": {},
   "outputs": [],
   "source": []
  }
 ],
 "metadata": {
  "kernelspec": {
   "display_name": "price-formation",
   "language": "python",
   "name": "python3"
  },
  "language_info": {
   "codemirror_mode": {
    "name": "ipython",
    "version": 3
   },
   "file_extension": ".py",
   "mimetype": "text/x-python",
   "name": "python",
   "nbconvert_exporter": "python",
   "pygments_lexer": "ipython3",
   "version": "3.11.0"
  }
 },
 "nbformat": 4,
 "nbformat_minor": 2
}
