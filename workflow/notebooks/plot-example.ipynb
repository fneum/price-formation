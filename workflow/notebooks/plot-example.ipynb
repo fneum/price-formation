{
 "cells": [
  {
   "cell_type": "code",
   "execution_count": null,
   "metadata": {},
   "outputs": [],
   "source": [
    "import matplotlib.pyplot as plt\n",
    "import seaborn as sns\n",
    "import pypsa\n",
    "import sys\n",
    "import matplotlib as mpl\n",
    "\n",
    "plt.style.use([\"bmh\", \"../../matplotlibrc\"])\n",
    "sns.set_palette(\"colorblind\")\n",
    "\n",
    "\n",
    "mpl.rcParams[\"figure.dpi\"] = 100\n",
    "\n",
    "sys.path.append(\"../scripts\")\n",
    "from plot import get_price_duration"
   ]
  },
  {
   "cell_type": "code",
   "execution_count": null,
   "metadata": {},
   "outputs": [],
   "source": [
    "n0 = pypsa.Network(\n",
    "    \"../../results/20240506-single/network_solved_LT-country+DE-voll+true-zero_cost_storage+true-battery+false.nc\"\n",
    ")\n",
    "n1 = pypsa.Network(\n",
    "    \"../../results/20240506-single/network_solved_LT-country+DE-voll+true-battery+false.nc\"\n",
    ")\n",
    "n2 = pypsa.Network(\n",
    "    \"../../results/20240506-single/network_solved_LT-country+DE-voll+true.nc\"\n",
    ")"
   ]
  },
  {
   "cell_type": "code",
   "execution_count": null,
   "metadata": {},
   "outputs": [],
   "source": [
    "n0_pdc = get_price_duration(n0)\n",
    "n1_pdc = get_price_duration(n1)\n",
    "n2_pdc = get_price_duration(n2)"
   ]
  },
  {
   "cell_type": "code",
   "execution_count": null,
   "metadata": {},
   "outputs": [],
   "source": [
    "n0_svd = get_price_duration(n0, \"hydrogen\")\n",
    "n1_svd = get_price_duration(n1, \"hydrogen\")\n",
    "n2_svd = get_price_duration(n2, \"hydrogen\")\n",
    "\n",
    "n2_svd_battery = get_price_duration(n2, \"battery\")"
   ]
  },
  {
   "cell_type": "code",
   "execution_count": null,
   "metadata": {},
   "outputs": [],
   "source": [
    "cat_colors = sns.color_palette(\"colorblind\")\n",
    "\n",
    "fig, axs = plt.subplots(2, 3, figsize=(10, 7))\n",
    "\n",
    "kwargs = dict(color=cat_colors[0], clip_on=False, linewidth=1.25)\n",
    "n0_pdc.plot(ax=axs[0, 0], **kwargs)\n",
    "n1_pdc.plot(ax=axs[0, 1], **kwargs)\n",
    "n2_pdc.plot(ax=axs[0, 2], **kwargs)\n",
    "\n",
    "kwargs = dict(color=cat_colors[1], clip_on=False, linewidth=1.25)\n",
    "n0_svd.plot(ax=axs[1, 0], **kwargs)\n",
    "n1_svd.plot(ax=axs[1, 1], **kwargs)\n",
    "n2_svd.plot(ax=axs[1, 2], **kwargs)\n",
    "\n",
    "n2_svd_battery.plot(\n",
    "    ax=axs[1, 2], color=\"grey\", linestyle=\":\", linewidth=1.25, label=\"battery\"\n",
    ")\n",
    "axs[1, 2].legend(loc=\"upper right\")\n",
    "\n",
    "\n",
    "kwargs = dict(loc=\"left\", fontsize=\"medium\")\n",
    "axs[0, 0].set_title(\"a) free energy capacity, no battery\", **kwargs)\n",
    "axs[0, 1].set_title(\"b) no battery\", **kwargs)\n",
    "axs[0, 2].set_title(\"c) with battery\", **kwargs)\n",
    "axs[1, 0].set_title(\"d) free energy capacity, no battery\", **kwargs)\n",
    "axs[1, 1].set_title(\"e) no battery\", **kwargs)\n",
    "axs[1, 2].set_title(\"f) with battery\", **kwargs)\n",
    "\n",
    "for i in range(3):\n",
    "    axs[0, i].set_ylim(-100, 2200)\n",
    "    axs[0, i].set_ylabel(\"Electricity Price [€/MWh]\")\n",
    "    axs[0, i].set_yticks(range(0, 2001, 250), minor=True)\n",
    "\n",
    "for i in range(3):\n",
    "    axs[1, i].set_ylim(-10, 260)\n",
    "    axs[1, i].set_ylabel(\"Storage Medium Price [€/MWh]\")\n",
    "    axs[1, i].set_yticks(range(0, 251, 25), minor=True)\n",
    "\n",
    "for i in range(2):\n",
    "    for j in range(3):\n",
    "        axs[i, j].set_xlabel(\"Fraction of time [%]\")\n",
    "        axs[i, j].axhline(0, linewidth=1, color=\"#bbb\", zorder=0)\n",
    "        axs[i, j].set_xlim(0, 100)\n",
    "\n",
    "for ext in [\"png\", \"pdf\"]:\n",
    "    plt.savefig(f\"../../figures/figure-example.{ext}\", bbox_inches=\"tight\", dpi=300)"
   ]
  },
  {
   "cell_type": "code",
   "execution_count": null,
   "metadata": {},
   "outputs": [],
   "source": [
    "n0.snapshots"
   ]
  },
  {
   "cell_type": "code",
   "execution_count": null,
   "metadata": {},
   "outputs": [],
   "source": []
  }
 ],
 "metadata": {
  "kernelspec": {
   "display_name": "price-formation",
   "language": "python",
   "name": "python3"
  },
  "language_info": {
   "codemirror_mode": {
    "name": "ipython",
    "version": 3
   },
   "file_extension": ".py",
   "mimetype": "text/x-python",
   "name": "python",
   "nbconvert_exporter": "python",
   "pygments_lexer": "ipython3",
   "version": "3.11.0"
  }
 },
 "nbformat": 4,
 "nbformat_minor": 2
}
