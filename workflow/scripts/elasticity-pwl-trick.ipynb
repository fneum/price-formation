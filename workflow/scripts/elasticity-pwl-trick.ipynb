{
 "cells": [
  {
   "cell_type": "code",
   "execution_count": 2,
   "id": "477ff249-422e-4c6e-bae8-a520e86c77f1",
   "metadata": {},
   "outputs": [],
   "source": [
    "import pypsa\n",
    "import logging\n",
    "import matplotlib.pyplot as plt\n",
    "import seaborn as sns\n",
    "import numpy as np\n",
    "plt.style.use(\"bmh\")\n",
    "sns.set_palette(\"colorblind\")\n",
    "\n",
    "logging.getLogger(\"gurobipy\").setLevel(logging.CRITICAL)"
   ]
  },
  {
   "cell_type": "code",
   "execution_count": 3,
   "id": "f0c31f57",
   "metadata": {},
   "outputs": [
    {
     "name": "stderr",
     "output_type": "stream",
     "text": [
      "INFO:pypsa.io:Retrieving network data from https://tubcloud.tu-berlin.de/s/kpWaraGc9LeaxLK/download/network-cem.nc\n",
      "WARNING:pypsa.io:Importing network from PyPSA version v0.21.3 while current version is v0.27.1. Read the release notes at https://pypsa.readthedocs.io/en/latest/release_notes.html to prepare your network for import.\n",
      "INFO:pypsa.io:Imported network network-cem.nc has buses, carriers, generators, global_constraints, loads, storage_units\n"
     ]
    }
   ],
   "source": [
    "url = \"https://tubcloud.tu-berlin.de/s/kpWaraGc9LeaxLK/download/network-cem.nc\"\n",
    "\n",
    "n = pypsa.Network(url)\n",
    "\n",
    "n.remove(\"GlobalConstraint\", \"CO2Limit\")\n",
    "n.remove(\"Load\", \"demand\")\n",
    "n.remove(\"StorageUnit\", \"battery storage\")\n",
    "\n",
    "n.mremove(\"Carrier\", n.carriers.index)\n",
    "n.mremove(\"Generator\", [\"OCGT\", \"offwind\"])\n",
    "\n",
    "n.generators.marginal_cost = 0"
   ]
  },
  {
   "cell_type": "markdown",
   "id": "554830cf",
   "metadata": {},
   "source": [
    "## One Segment"
   ]
  },
  {
   "cell_type": "code",
   "execution_count": 4,
   "id": "477e1ba5",
   "metadata": {},
   "outputs": [],
   "source": [
    "ELASTIC_INTERCEPT = 2000\n",
    "LOAD = 100"
   ]
  },
  {
   "cell_type": "code",
   "execution_count": 5,
   "id": "806cc353",
   "metadata": {},
   "outputs": [],
   "source": [
    "n_notrick = n.copy()\n",
    "\n",
    "n_notrick.add(\n",
    "    \"Generator\",\n",
    "    \"load\",\n",
    "    bus=\"Germany\",\n",
    "    carrier=\"load\",\n",
    "    marginal_cost=ELASTIC_INTERCEPT,\n",
    "    marginal_cost_quadratic=ELASTIC_INTERCEPT / (2 * LOAD),\n",
    "    p_max_pu=0,\n",
    "    p_min_pu=-1,\n",
    "    p_nom=LOAD,\n",
    ")"
   ]
  },
  {
   "cell_type": "code",
   "execution_count": 6,
   "id": "295404d4",
   "metadata": {},
   "outputs": [],
   "source": [
    "n_trick = n.copy()\n",
    "\n",
    "n_trick.add(\n",
    "    \"Generator\",\n",
    "    \"load-shedding\",\n",
    "    bus=\"Germany\",\n",
    "    carrier=\"load\",\n",
    "    p_nom=LOAD,\n",
    "    marginal_cost_quadratic=ELASTIC_INTERCEPT / (2 * LOAD),\n",
    ")\n",
    "\n",
    "n_trick.add(\n",
    "    \"Load\",\n",
    "    \"load\",\n",
    "    bus=\"Germany\",\n",
    "    carrier=\"load\",\n",
    "    p_set=LOAD,\n",
    ")"
   ]
  },
  {
   "cell_type": "code",
   "execution_count": 7,
   "id": "ada71030",
   "metadata": {},
   "outputs": [
    {
     "name": "stderr",
     "output_type": "stream",
     "text": [
      "INFO:linopy.model: Solve problem using Gurobi solver\n",
      "INFO:linopy.model:Solver options:\n",
      " - BarConvTol: 1e-09\n"
     ]
    },
    {
     "name": "stdout",
     "output_type": "stream",
     "text": [
      "Set parameter TokenServer to value \"ensys3.service.tu-berlin.de\"\n"
     ]
    },
    {
     "name": "stderr",
     "output_type": "stream",
     "text": [
      "INFO:linopy.io:Writing objective.\n",
      "Writing constraints.: 100%|\u001b[38;2;128;191;255m██████████\u001b[0m| 16/16 [00:00<00:00, 173.10it/s]\n",
      "Writing continuous variables.: 100%|\u001b[38;2;128;191;255m██████████\u001b[0m| 6/6 [00:00<00:00, 383.72it/s]\n",
      "INFO:linopy.io: Writing time: 0.12s\n"
     ]
    },
    {
     "name": "stdout",
     "output_type": "stream",
     "text": [
      "Read LP format model from file /tmp/linopy-problem-g516makz.lp\n",
      "Reading time = 0.02 seconds\n",
      "obj: 30663 rows, 13143 columns, 55894 nonzeros\n",
      "Set parameter BarConvTol to value 1e-09\n",
      "Gurobi Optimizer version 11.0.1 build v11.0.1rc0 (linux64 - \"Ubuntu 23.10\")\n",
      "\n",
      "CPU model: AMD Ryzen 7 PRO 7840U w/ Radeon 780M Graphics, instruction set [SSE2|AVX|AVX2|AVX512]\n",
      "Thread count: 8 physical cores, 16 logical processors, using up to 16 threads\n",
      "\n",
      "Optimize a model with 30663 rows, 13143 columns and 55894 nonzeros\n",
      "Model fingerprint: 0x75ce675c\n",
      "Model has 2190 quadratic objective terms\n",
      "Coefficient statistics:\n",
      "  Matrix range     [1e-04, 2e+02]\n",
      "  Objective range  [5e+04, 3e+05]\n",
      "  QObjective range [8e+01, 8e+01]\n",
      "  Bounds range     [0e+00, 0e+00]\n",
      "  RHS range        [1e+02, 1e+02]\n",
      "Presolve removed 16382 rows and 1049 columns\n",
      "Presolve time: 0.02s\n",
      "Presolved: 14281 rows, 12094 columns, 38463 nonzeros\n",
      "Presolved model has 2190 quadratic objective terms\n",
      "Ordering time: 0.00s\n",
      "\n",
      "Barrier statistics:\n",
      " Dense cols : 3\n",
      " AA' NZ     : 3.075e+04\n",
      " Factor NZ  : 1.720e+05 (roughly 12 MB of memory)\n",
      " Factor Ops : 2.278e+06 (less than 1 second per iteration)\n",
      " Threads    : 8\n",
      "\n",
      "                  Objective                Residual\n",
      "Iter       Primal          Dual         Primal    Dual     Compl     Time\n",
      "   0   3.80848358e+11 -4.91454182e+11  2.00e+03 3.13e+02  1.01e+06     0s\n",
      "   1   1.47318369e+10 -2.08727943e+11  6.55e+02 3.25e+02  4.45e+05     0s\n",
      "   2   3.78212611e+09 -1.90753068e+11  9.84e+01 4.84e+01  7.56e+04     0s\n",
      "   3   3.57772065e+09 -5.86832598e+10  1.81e+00 8.22e-01  3.71e+03     0s\n",
      "   4   1.72253465e+09 -2.29571698e+09  6.84e-02 3.19e-02  1.99e+02     0s\n",
      "   5   8.95935965e+08 -7.72871679e+08  2.35e-02 1.13e-02  7.80e+01     0s\n",
      "   6   4.34271393e+08 -2.20114935e+08  7.79e-03 3.82e-03  2.88e+01     0s\n",
      "   7   2.03084463e+08 -3.34631498e+07  2.01e-03 9.87e-04  9.97e+00     0s\n",
      "   8   1.51530307e+08  2.52386648e+07  8.42e-04 3.95e-04  5.26e+00     0s\n",
      "   9   1.24328265e+08  6.80415286e+07  2.19e-04 3.43e-05  2.31e+00     0s\n",
      "  10   1.12182356e+08  8.62631591e+07  6.09e-05 9.51e-06  1.06e+00     0s\n",
      "  11   1.09109895e+08  9.25210335e+07  2.79e-05 4.36e-06  6.74e-01     0s\n",
      "  12   1.07626532e+08  9.56941709e+07  1.75e-05 2.74e-06  4.84e-01     0s\n",
      "  13   1.06174986e+08  9.89723346e+07  8.68e-06 1.36e-06  2.92e-01     0s\n",
      "  14   1.05433052e+08  1.00847603e+08  4.85e-06 7.57e-07  1.86e-01     0s\n",
      "  15   1.04789897e+08  1.02640134e+08  7.74e-07 1.21e-07  8.69e-02     0s\n",
      "  16   1.04611922e+08  1.03153566e+08  5.03e-08 7.87e-09  5.89e-02     0s\n",
      "  17   1.04351385e+08  1.04089566e+08  3.63e-09 5.66e-10  1.06e-02     0s\n",
      "  18   1.04305785e+08  1.04253267e+08  1.20e-09 3.41e-13  2.12e-03     0s\n",
      "  19   1.04295569e+08  1.04294369e+08  3.42e-09 5.12e-13  4.84e-05     0s\n",
      "  20   1.04295265e+08  1.04295215e+08  1.07e-11 3.41e-13  2.02e-06     0s\n",
      "  21   1.04295244e+08  1.04295237e+08  5.39e-08 6.82e-13  2.96e-07     0s\n",
      "  22   1.04295241e+08  1.04295240e+08  7.12e-09 1.19e-12  4.13e-08     0s\n",
      "  23   1.04295241e+08  1.04295241e+08  2.68e-09 6.25e-13  5.82e-09     0s\n",
      "  24   1.04295241e+08  1.04295241e+08  1.22e-09 6.44e-13  8.20e-10     0s\n",
      "\n",
      "Barrier solved model in 24 iterations and 0.13 seconds (0.14 work units)\n",
      "Optimal objective 1.04295241e+08\n",
      "\n"
     ]
    },
    {
     "name": "stderr",
     "output_type": "stream",
     "text": [
      "INFO:linopy.constants: Optimization successful: \n",
      "Status: ok\n",
      "Termination condition: optimal\n",
      "Solution: 13143 primals, 30663 duals\n",
      "Objective: 1.04e+08\n",
      "Solver model: available\n",
      "Solver message: 2\n",
      "\n",
      "/home/fneum/miniconda3/envs/price-formation/lib/python3.11/site-packages/pypsa/optimization/optimize.py:357: FutureWarning: A value is trying to be set on a copy of a DataFrame or Series through chained assignment using an inplace method.\n",
      "The behavior will change in pandas 3.0. This inplace method will never work because the intermediate object on which we are setting values always behaves as a copy.\n",
      "\n",
      "For example, when doing 'df[col].method(value, inplace=True)', try using 'df.method({col: value}, inplace=True)' or df[col] = df[col].method(value) instead, to perform the operation inplace on the original object.\n",
      "\n",
      "\n",
      "  n.df(c)[attr + \"_opt\"].update(df)\n",
      "INFO:pypsa.optimization.optimize:The shadow-prices of the constraints Generator-fix-p-lower, Generator-fix-p-upper, Generator-ext-p-lower, Generator-ext-p-upper, StorageUnit-ext-p_dispatch-lower, StorageUnit-ext-p_dispatch-upper, StorageUnit-ext-p_store-lower, StorageUnit-ext-p_store-upper, StorageUnit-ext-state_of_charge-lower, StorageUnit-ext-state_of_charge-upper, StorageUnit-energy_balance were not assigned to the network.\n"
     ]
    },
    {
     "data": {
      "text/plain": [
       "('ok', 'optimal')"
      ]
     },
     "execution_count": 7,
     "metadata": {},
     "output_type": "execute_result"
    }
   ],
   "source": [
    "n_trick.optimize(solver_name='gurobi', solver_options={\"BarConvTol\": 1e-9})"
   ]
  },
  {
   "cell_type": "code",
   "execution_count": 8,
   "id": "dcbc661f",
   "metadata": {},
   "outputs": [
    {
     "name": "stderr",
     "output_type": "stream",
     "text": [
      "INFO:linopy.model: Solve problem using Gurobi solver\n",
      "INFO:linopy.model:Solver options:\n",
      " - BarConvTol: 1e-09\n"
     ]
    },
    {
     "name": "stdout",
     "output_type": "stream",
     "text": [
      "Set parameter TokenServer to value \"ensys3.service.tu-berlin.de\"\n"
     ]
    },
    {
     "name": "stderr",
     "output_type": "stream",
     "text": [
      "INFO:linopy.io:Writing objective.\n",
      "Writing constraints.: 100%|\u001b[38;2;128;191;255m██████████\u001b[0m| 16/16 [00:00<00:00, 172.87it/s]\n",
      "Writing continuous variables.: 100%|\u001b[38;2;128;191;255m██████████\u001b[0m| 6/6 [00:00<00:00, 449.15it/s]\n",
      "INFO:linopy.io: Writing time: 0.12s\n"
     ]
    },
    {
     "name": "stdout",
     "output_type": "stream",
     "text": [
      "Read LP format model from file /tmp/linopy-problem-jzbfrp8j.lp\n",
      "Reading time = 0.02 seconds\n",
      "obj: 30663 rows, 13143 columns, 55894 nonzeros\n",
      "Set parameter BarConvTol to value 1e-09\n",
      "Gurobi Optimizer version 11.0.1 build v11.0.1rc0 (linux64 - \"Ubuntu 23.10\")\n",
      "\n",
      "CPU model: AMD Ryzen 7 PRO 7840U w/ Radeon 780M Graphics, instruction set [SSE2|AVX|AVX2|AVX512]\n",
      "Thread count: 8 physical cores, 16 logical processors, using up to 16 threads\n",
      "\n",
      "Optimize a model with 30663 rows, 13143 columns and 55894 nonzeros\n",
      "Model fingerprint: 0xf0277431\n",
      "Model has 2190 quadratic objective terms\n",
      "Coefficient statistics:\n",
      "  Matrix range     [1e-04, 2e+02]\n",
      "  Objective range  [8e+03, 3e+05]\n",
      "  QObjective range [8e+01, 8e+01]\n",
      "  Bounds range     [0e+00, 0e+00]\n",
      "  RHS range        [1e+02, 1e+02]\n",
      "Presolve removed 16382 rows and 1049 columns\n",
      "Presolve time: 0.01s\n",
      "Presolved: 14281 rows, 12094 columns, 38463 nonzeros\n",
      "Presolved model has 2190 quadratic objective terms\n",
      "Ordering time: 0.00s\n",
      "\n",
      "Barrier statistics:\n",
      " Dense cols : 3\n",
      " AA' NZ     : 3.075e+04\n",
      " Factor NZ  : 1.720e+05 (roughly 12 MB of memory)\n",
      " Factor Ops : 2.278e+06 (less than 1 second per iteration)\n",
      " Threads    : 8\n",
      "\n",
      "                  Objective                Residual\n",
      "Iter       Primal          Dual         Primal    Dual     Compl     Time\n",
      "   0   3.79972358e+11 -4.92330182e+11  2.00e+03 3.13e+02  1.01e+06     0s\n",
      "   1   1.38558369e+10 -2.09603943e+11  6.55e+02 3.25e+02  4.45e+05     0s\n",
      "   2   2.90612611e+09 -1.91629068e+11  9.84e+01 4.84e+01  7.56e+04     0s\n",
      "   3   2.70172065e+09 -5.95592598e+10  1.81e+00 8.22e-01  3.71e+03     0s\n",
      "   4   8.46534654e+08 -3.17171698e+09  6.84e-02 3.19e-02  1.99e+02     0s\n",
      "   5   1.99359648e+07 -1.64887168e+09  2.35e-02 1.13e-02  7.80e+01     0s\n",
      "   6  -4.41728607e+08 -1.09611493e+09  7.79e-03 3.82e-03  2.88e+01     0s\n",
      "   7  -6.72915537e+08 -9.09463150e+08  2.01e-03 9.87e-04  9.97e+00     0s\n",
      "   8  -7.24469693e+08 -8.50761335e+08  8.42e-04 3.95e-04  5.26e+00     0s\n",
      "   9  -7.51671735e+08 -8.07958471e+08  2.19e-04 3.43e-05  2.31e+00     0s\n",
      "  10  -7.63817644e+08 -7.89736841e+08  6.09e-05 9.51e-06  1.06e+00     0s\n",
      "  11  -7.66890105e+08 -7.83478966e+08  2.79e-05 4.36e-06  6.74e-01     0s\n",
      "  12  -7.68373468e+08 -7.80305829e+08  1.75e-05 2.74e-06  4.84e-01     0s\n",
      "  13  -7.69825014e+08 -7.77027665e+08  8.68e-06 1.36e-06  2.92e-01     0s\n",
      "  14  -7.70566948e+08 -7.75152397e+08  4.85e-06 7.57e-07  1.86e-01     0s\n",
      "  15  -7.71210103e+08 -7.73359866e+08  7.74e-07 1.21e-07  8.69e-02     0s\n",
      "  16  -7.71388078e+08 -7.72846434e+08  5.03e-08 7.87e-09  5.89e-02     0s\n",
      "  17  -7.71648615e+08 -7.71910434e+08  3.63e-09 5.66e-10  1.06e-02     0s\n",
      "  18  -7.71694215e+08 -7.71746733e+08  1.20e-09 3.41e-13  2.12e-03     0s\n",
      "  19  -7.71704431e+08 -7.71705631e+08  3.42e-09 5.12e-13  4.84e-05     0s\n",
      "  20  -7.71704735e+08 -7.71704785e+08  1.07e-11 3.41e-13  2.02e-06     0s\n",
      "  21  -7.71704756e+08 -7.71704763e+08  5.39e-08 6.82e-13  2.96e-07     0s\n",
      "  22  -7.71704759e+08 -7.71704760e+08  7.12e-09 1.19e-12  4.13e-08     0s\n",
      "  23  -7.71704759e+08 -7.71704759e+08  2.68e-09 6.25e-13  5.82e-09     0s\n",
      "  24  -7.71704759e+08 -7.71704759e+08  1.22e-09 6.44e-13  8.20e-10     0s\n",
      "\n",
      "Barrier solved model in 24 iterations and 0.15 seconds (0.14 work units)\n",
      "Optimal objective -7.71704759e+08\n",
      "\n"
     ]
    },
    {
     "name": "stderr",
     "output_type": "stream",
     "text": [
      "INFO:linopy.constants: Optimization successful: \n",
      "Status: ok\n",
      "Termination condition: optimal\n",
      "Solution: 13143 primals, 30663 duals\n",
      "Objective: -7.72e+08\n",
      "Solver model: available\n",
      "Solver message: 2\n",
      "\n",
      "/home/fneum/miniconda3/envs/price-formation/lib/python3.11/site-packages/pypsa/optimization/optimize.py:357: FutureWarning: A value is trying to be set on a copy of a DataFrame or Series through chained assignment using an inplace method.\n",
      "The behavior will change in pandas 3.0. This inplace method will never work because the intermediate object on which we are setting values always behaves as a copy.\n",
      "\n",
      "For example, when doing 'df[col].method(value, inplace=True)', try using 'df.method({col: value}, inplace=True)' or df[col] = df[col].method(value) instead, to perform the operation inplace on the original object.\n",
      "\n",
      "\n",
      "  n.df(c)[attr + \"_opt\"].update(df)\n",
      "INFO:pypsa.optimization.optimize:The shadow-prices of the constraints Generator-fix-p-lower, Generator-fix-p-upper, Generator-ext-p-lower, Generator-ext-p-upper, StorageUnit-ext-p_dispatch-lower, StorageUnit-ext-p_dispatch-upper, StorageUnit-ext-p_store-lower, StorageUnit-ext-p_store-upper, StorageUnit-ext-state_of_charge-lower, StorageUnit-ext-state_of_charge-upper, StorageUnit-energy_balance were not assigned to the network.\n"
     ]
    },
    {
     "data": {
      "text/plain": [
       "('ok', 'optimal')"
      ]
     },
     "execution_count": 8,
     "metadata": {},
     "output_type": "execute_result"
    }
   ],
   "source": [
    "n_notrick.optimize(solver_name='gurobi', solver_options={\"BarConvTol\": 1e-9})"
   ]
  },
  {
   "cell_type": "code",
   "execution_count": 9,
   "id": "8db69231",
   "metadata": {},
   "outputs": [
    {
     "data": {
      "text/html": [
       "<div>\n",
       "<style scoped>\n",
       "    .dataframe tbody tr th:only-of-type {\n",
       "        vertical-align: middle;\n",
       "    }\n",
       "\n",
       "    .dataframe tbody tr th {\n",
       "        vertical-align: top;\n",
       "    }\n",
       "\n",
       "    .dataframe thead th {\n",
       "        text-align: right;\n",
       "    }\n",
       "</style>\n",
       "<table border=\"1\" class=\"dataframe\">\n",
       "  <thead>\n",
       "    <tr style=\"text-align: right;\">\n",
       "      <th></th>\n",
       "      <th></th>\n",
       "      <th>Optimal Capacity</th>\n",
       "      <th>Installed Capacity</th>\n",
       "      <th>Capacity Factor</th>\n",
       "      <th>Dispatch</th>\n",
       "      <th>Transmission</th>\n",
       "      <th>Withdrawal</th>\n",
       "      <th>Supply</th>\n",
       "      <th>Curtailment</th>\n",
       "      <th>Capital Expenditure</th>\n",
       "      <th>Operational Expenditure</th>\n",
       "      <th>Revenue</th>\n",
       "      <th>Market Value</th>\n",
       "    </tr>\n",
       "  </thead>\n",
       "  <tbody>\n",
       "    <tr>\n",
       "      <th rowspan=\"3\" valign=\"top\">Generator</th>\n",
       "      <th>load</th>\n",
       "      <td>0.0</td>\n",
       "      <td>0.0</td>\n",
       "      <td>-1.0</td>\n",
       "      <td>876000.0</td>\n",
       "      <td>0.0</td>\n",
       "      <td>-818057.0</td>\n",
       "      <td>57943.0</td>\n",
       "      <td>0.0</td>\n",
       "      <td>0.0</td>\n",
       "      <td>1.636113e+09</td>\n",
       "      <td>115883104.0</td>\n",
       "      <td>NaN</td>\n",
       "    </tr>\n",
       "    <tr>\n",
       "      <th>onwind</th>\n",
       "      <td>0.0</td>\n",
       "      <td>0.0</td>\n",
       "      <td>0.0</td>\n",
       "      <td>0.0</td>\n",
       "      <td>0.0</td>\n",
       "      <td>0.0</td>\n",
       "      <td>0.0</td>\n",
       "      <td>0.0</td>\n",
       "      <td>0.0</td>\n",
       "      <td>0.000000e+00</td>\n",
       "      <td>0.0</td>\n",
       "      <td>0.0</td>\n",
       "    </tr>\n",
       "    <tr>\n",
       "      <th>solar</th>\n",
       "      <td>0.0</td>\n",
       "      <td>0.0</td>\n",
       "      <td>0.0</td>\n",
       "      <td>0.0</td>\n",
       "      <td>0.0</td>\n",
       "      <td>0.0</td>\n",
       "      <td>0.0</td>\n",
       "      <td>0.0</td>\n",
       "      <td>0.0</td>\n",
       "      <td>0.000000e+00</td>\n",
       "      <td>0.0</td>\n",
       "      <td>0.0</td>\n",
       "    </tr>\n",
       "    <tr>\n",
       "      <th>Load</th>\n",
       "      <th>load</th>\n",
       "      <td>NaN</td>\n",
       "      <td>NaN</td>\n",
       "      <td>NaN</td>\n",
       "      <td>NaN</td>\n",
       "      <td>NaN</td>\n",
       "      <td>NaN</td>\n",
       "      <td>NaN</td>\n",
       "      <td>NaN</td>\n",
       "      <td>NaN</td>\n",
       "      <td>NaN</td>\n",
       "      <td>NaN</td>\n",
       "      <td>NaN</td>\n",
       "    </tr>\n",
       "    <tr>\n",
       "      <th>StorageUnit</th>\n",
       "      <th>hydrogen storage underground</th>\n",
       "      <td>0.0</td>\n",
       "      <td>0.0</td>\n",
       "      <td>0.0</td>\n",
       "      <td>0.0</td>\n",
       "      <td>0.0</td>\n",
       "      <td>0.0</td>\n",
       "      <td>0.0</td>\n",
       "      <td>0.0</td>\n",
       "      <td>0.0</td>\n",
       "      <td>0.000000e+00</td>\n",
       "      <td>0.0</td>\n",
       "      <td>0.0</td>\n",
       "    </tr>\n",
       "  </tbody>\n",
       "</table>\n",
       "</div>"
      ],
      "text/plain": [
       "                                          Optimal Capacity  \\\n",
       "Generator   load                                       0.0   \n",
       "            onwind                                     0.0   \n",
       "            solar                                      0.0   \n",
       "Load        load                                       NaN   \n",
       "StorageUnit hydrogen storage underground               0.0   \n",
       "\n",
       "                                          Installed Capacity  Capacity Factor  \\\n",
       "Generator   load                                         0.0             -1.0   \n",
       "            onwind                                       0.0              0.0   \n",
       "            solar                                        0.0              0.0   \n",
       "Load        load                                         NaN              NaN   \n",
       "StorageUnit hydrogen storage underground                 0.0              0.0   \n",
       "\n",
       "                                          Dispatch Transmission  Withdrawal  \\\n",
       "Generator   load                          876000.0          0.0   -818057.0   \n",
       "            onwind                             0.0          0.0         0.0   \n",
       "            solar                              0.0          0.0         0.0   \n",
       "Load        load                               NaN          NaN         NaN   \n",
       "StorageUnit hydrogen storage underground       0.0          0.0         0.0   \n",
       "\n",
       "                                           Supply  Curtailment  \\\n",
       "Generator   load                          57943.0          0.0   \n",
       "            onwind                            0.0          0.0   \n",
       "            solar                             0.0          0.0   \n",
       "Load        load                              NaN          NaN   \n",
       "StorageUnit hydrogen storage underground      0.0          0.0   \n",
       "\n",
       "                                          Capital Expenditure  \\\n",
       "Generator   load                                          0.0   \n",
       "            onwind                                        0.0   \n",
       "            solar                                         0.0   \n",
       "Load        load                                          NaN   \n",
       "StorageUnit hydrogen storage underground                  0.0   \n",
       "\n",
       "                                          Operational Expenditure  \\\n",
       "Generator   load                                     1.636113e+09   \n",
       "            onwind                                   0.000000e+00   \n",
       "            solar                                    0.000000e+00   \n",
       "Load        load                                              NaN   \n",
       "StorageUnit hydrogen storage underground             0.000000e+00   \n",
       "\n",
       "                                              Revenue  Market Value  \n",
       "Generator   load                          115883104.0           NaN  \n",
       "            onwind                                0.0           0.0  \n",
       "            solar                                 0.0           0.0  \n",
       "Load        load                                  NaN           NaN  \n",
       "StorageUnit hydrogen storage underground          0.0           0.0  "
      ]
     },
     "execution_count": 9,
     "metadata": {},
     "output_type": "execute_result"
    }
   ],
   "source": [
    "n_trick.statistics().round() - n_notrick.statistics().round()"
   ]
  },
  {
   "cell_type": "code",
   "execution_count": 10,
   "id": "f3985e94",
   "metadata": {},
   "outputs": [
    {
     "data": {
      "text/plain": [
       "<Axes: xlabel='snapshot'>"
      ]
     },
     "execution_count": 10,
     "metadata": {},
     "output_type": "execute_result"
    },
    {
     "data": {
      "image/png": "[encoded data removed]",
      "text/plain": [
       "<Figure size 1000x200 with 1 Axes>"
      ]
     },
     "metadata": {},
     "output_type": "display_data"
    }
   ],
   "source": [
    "(n_notrick.buses_t.marginal_price[\"Germany\"] - n_trick.buses_t.marginal_price[\"Germany\"]).plot(figsize=(10,2))"
   ]
  },
  {
   "cell_type": "markdown",
   "id": "86cf644e",
   "metadata": {},
   "source": [
    "## Two Segments"
   ]
  },
  {
   "cell_type": "code",
   "execution_count": 11,
   "id": "24975f0e",
   "metadata": {},
   "outputs": [],
   "source": [
    "ELASTIC_INTERCEPT_1 = 6000\n",
    "ELASTIC_SLOPE_1 = 60\n",
    "ELASTIC_LOAD_1 = 95\n",
    "\n",
    "ELASTIC_INTERCEPT_2 = 300\n",
    "ELASTIC_SLOPE_2 = 30\n",
    "ELASTIC_LOAD_2 = 10"
   ]
  },
  {
   "cell_type": "code",
   "execution_count": 12,
   "id": "dcd1da59",
   "metadata": {},
   "outputs": [],
   "source": [
    "n_notrick = n.copy()\n",
    "\n",
    "n_notrick.add(\n",
    "    \"Generator\",\n",
    "    \"load-segment-1\",\n",
    "    bus=\"Germany\",\n",
    "    carrier=\"load\",\n",
    "    marginal_cost=ELASTIC_INTERCEPT_1,\n",
    "    marginal_cost_quadratic=ELASTIC_SLOPE_1 / 2,\n",
    "    p_max_pu=0,\n",
    "    p_min_pu=-1,\n",
    "    p_nom=ELASTIC_LOAD_1,\n",
    ")\n",
    "\n",
    "n_notrick.add(\n",
    "    \"Generator\",\n",
    "    \"load-segment-2\",\n",
    "    bus=\"Germany\",\n",
    "    carrier=\"load\",\n",
    "    marginal_cost=ELASTIC_INTERCEPT_2,\n",
    "    marginal_cost_quadratic=ELASTIC_SLOPE_2 / 2,\n",
    "    p_max_pu=0,\n",
    "    p_min_pu=-1,\n",
    "    p_nom=ELASTIC_LOAD_2,\n",
    ")"
   ]
  },
  {
   "cell_type": "code",
   "execution_count": 13,
   "id": "5d07c95a",
   "metadata": {},
   "outputs": [],
   "source": [
    "n_trick = n.copy()\n",
    "\n",
    "n_trick.add(\n",
    "    \"Generator\",\n",
    "    \"load-shedding-segment-1\",\n",
    "    bus=\"Germany\",\n",
    "    carrier=\"load\",\n",
    "    p_nom=ELASTIC_LOAD_1,\n",
    "    marginal_cost=ELASTIC_INTERCEPT_1 - ELASTIC_SLOPE_1 * ELASTIC_LOAD_1,\n",
    "    marginal_cost_quadratic=ELASTIC_SLOPE_1 / 2,\n",
    ")\n",
    "\n",
    "n_trick.add(\n",
    "    \"Generator\",\n",
    "    \"load-shedding-segment-2\",\n",
    "    bus=\"Germany\",\n",
    "    carrier=\"load\",\n",
    "    p_nom=ELASTIC_LOAD_2,\n",
    "    marginal_cost_quadratic=ELASTIC_SLOPE_2 / 2,\n",
    ")\n",
    "\n",
    "n_trick.add(\n",
    "    \"Load\",\n",
    "    \"load\",\n",
    "    bus=\"Germany\",\n",
    "    carrier=\"load\",\n",
    "    p_set=ELASTIC_LOAD_1 + ELASTIC_LOAD_2,\n",
    ")"
   ]
  },
  {
   "cell_type": "code",
   "execution_count": 16,
   "id": "42c903b3",
   "metadata": {},
   "outputs": [
    {
     "data": {
      "text/plain": [
       "300"
      ]
     },
     "execution_count": 16,
     "metadata": {},
     "output_type": "execute_result"
    }
   ],
   "source": [
    "ELASTIC_INTERCEPT_1 - ELASTIC_SLOPE_1 * ELASTIC_LOAD_1"
   ]
  },
  {
   "cell_type": "code",
   "execution_count": 15,
   "id": "98f526b6",
   "metadata": {},
   "outputs": [
    {
     "name": "stderr",
     "output_type": "stream",
     "text": [
      "INFO:linopy.model: Solve problem using Gurobi solver\n"
     ]
    },
    {
     "name": "stdout",
     "output_type": "stream",
     "text": [
      "Set parameter TokenServer to value \"ensys3.service.tu-berlin.de\"\n"
     ]
    },
    {
     "name": "stderr",
     "output_type": "stream",
     "text": [
      "INFO:linopy.io:Writing objective.\n",
      "Writing constraints.: 100%|\u001b[38;2;128;191;255m██████████\u001b[0m| 16/16 [00:00<00:00, 164.53it/s]\n",
      "Writing continuous variables.: 100%|\u001b[38;2;128;191;255m██████████\u001b[0m| 6/6 [00:00<00:00, 395.25it/s]\n",
      "INFO:linopy.io: Writing time: 0.13s\n"
     ]
    },
    {
     "name": "stdout",
     "output_type": "stream",
     "text": [
      "Read LP format model from file /tmp/linopy-problem-xi2zm5yy.lp\n",
      "Reading time = 0.03 seconds\n",
      "obj: 35043 rows, 15333 columns, 62464 nonzeros\n",
      "Gurobi Optimizer version 11.0.1 build v11.0.1rc0 (linux64 - \"Ubuntu 23.10\")\n",
      "\n",
      "CPU model: AMD Ryzen 7 PRO 7840U w/ Radeon 780M Graphics, instruction set [SSE2|AVX|AVX2|AVX512]\n",
      "Thread count: 8 physical cores, 16 logical processors, using up to 16 threads\n",
      "\n",
      "Optimize a model with 35043 rows, 15333 columns and 62464 nonzeros\n",
      "Model fingerprint: 0x8f782c47\n",
      "Model has 4380 quadratic objective terms\n",
      "Coefficient statistics:\n",
      "  Matrix range     [1e-04, 2e+02]\n",
      "  Objective range  [1e+03, 3e+05]\n",
      "  QObjective range [1e+02, 2e+02]\n",
      "  Bounds range     [0e+00, 0e+00]\n",
      "  RHS range        [1e+01, 1e+02]\n",
      "Presolve removed 20762 rows and 1049 columns\n",
      "Presolve time: 0.02s\n",
      "Presolved: 14281 rows, 14284 columns, 40653 nonzeros\n",
      "Presolved model has 4380 quadratic objective terms\n",
      "Ordering time: 0.00s\n",
      "\n",
      "Barrier statistics:\n",
      " Dense cols : 3\n",
      " AA' NZ     : 3.075e+04\n",
      " Factor NZ  : 1.720e+05 (roughly 13 MB of memory)\n",
      " Factor Ops : 2.277e+06 (less than 1 second per iteration)\n",
      " Threads    : 8\n",
      "\n",
      "                  Objective                Residual\n",
      "Iter       Primal          Dual         Primal    Dual     Compl     Time\n",
      "   0   1.66946906e+12 -1.77912907e+12  3.00e+03 9.38e+02  1.00e+06     0s\n",
      "   1   8.34747374e+10 -2.73881612e+11  9.75e+02 3.23e+02  4.42e+05     0s\n",
      "   2   5.55769096e+09 -1.99140220e+11  1.32e+02 4.31e+01  6.75e+04     0s\n",
      "   3   4.08790800e+09 -7.79920312e+10  3.69e+00 1.15e+00  4.49e+03     0s\n",
      "   4   2.38015324e+09 -3.91005491e+09  1.21e-01 3.94e-02  2.55e+02     0s\n",
      "   5   1.25866944e+09 -1.43243301e+09  4.31e-02 1.38e-02  1.04e+02     0s\n",
      "   6   5.87615446e+08 -4.21051482e+08  1.36e-02 4.44e-03  3.72e+01     0s\n",
      "   7   3.25160102e+08 -1.53880878e+08  5.59e-03 1.81e-03  1.72e+01     0s\n",
      "   8   1.87740497e+08 -2.49818441e+06  1.47e-03 4.59e-04  6.69e+00     0s\n",
      "   9   1.49677178e+08  6.50096310e+07  3.58e-04 1.12e-04  2.94e+00     0s\n",
      "  10   1.34801814e+08  8.97917193e+07  8.64e-05 2.70e-05  1.55e+00     0s\n",
      "  11   1.29198524e+08  9.85536772e+07  5.30e-05 1.66e-05  1.05e+00     0s\n",
      "  12   1.26245240e+08  1.03346900e+08  3.28e-05 1.02e-05  7.86e-01     0s\n",
      "  13   1.25462468e+08  1.04764518e+08  2.81e-05 8.79e-06  7.10e-01     0s\n",
      "  14   1.23452469e+08  1.08621179e+08  1.98e-05 6.20e-06  5.09e-01     0s\n",
      "  15   1.21186310e+08  1.12980010e+08  7.69e-06 2.40e-06  2.81e-01     0s\n",
      "  16   1.20346034e+08  1.14760755e+08  3.87e-06 1.21e-06  1.91e-01     0s\n",
      "  17   1.19341852e+08  1.17142345e+08  3.56e-09 1.21e-12  7.52e-02     0s\n",
      "  18   1.19003176e+08  1.18259956e+08  7.14e-10 2.42e-13  2.54e-02     0s\n",
      "  19   1.18907632e+08  1.18590040e+08  3.15e-09 9.66e-13  1.09e-02     0s\n",
      "  20   1.18842959e+08  1.18833284e+08  9.56e-10 3.55e-15  3.31e-04     0s\n",
      "  21   1.18840704e+08  1.18840424e+08  1.06e-09 7.39e-13  9.58e-06     0s\n",
      "  22   1.18840597e+08  1.18840563e+08  6.92e-09 1.71e-12  1.18e-06     0s\n",
      "  23   1.18840583e+08  1.18840579e+08  2.13e-07 1.44e-13  1.66e-07     0s\n",
      "  24   1.18840581e+08  1.18840581e+08  3.55e-08 1.19e-12  2.32e-08     0s\n",
      "  25   1.18840581e+08  1.18840581e+08  6.57e-09 5.83e-13  3.27e-09     0s\n",
      "\n",
      "Barrier solved model in 25 iterations and 0.14 seconds (0.16 work units)\n",
      "Optimal objective 1.18840581e+08\n",
      "\n"
     ]
    },
    {
     "name": "stderr",
     "output_type": "stream",
     "text": [
      "INFO:linopy.constants: Optimization successful: \n",
      "Status: ok\n",
      "Termination condition: optimal\n",
      "Solution: 15333 primals, 35043 duals\n",
      "Objective: 1.19e+08\n",
      "Solver model: available\n",
      "Solver message: 2\n",
      "\n",
      "/home/fneum/miniconda3/envs/price-formation/lib/python3.11/site-packages/pypsa/optimization/optimize.py:357: FutureWarning: A value is trying to be set on a copy of a DataFrame or Series through chained assignment using an inplace method.\n",
      "The behavior will change in pandas 3.0. This inplace method will never work because the intermediate object on which we are setting values always behaves as a copy.\n",
      "\n",
      "For example, when doing 'df[col].method(value, inplace=True)', try using 'df.method({col: value}, inplace=True)' or df[col] = df[col].method(value) instead, to perform the operation inplace on the original object.\n",
      "\n",
      "\n",
      "  n.df(c)[attr + \"_opt\"].update(df)\n",
      "INFO:pypsa.optimization.optimize:The shadow-prices of the constraints Generator-fix-p-lower, Generator-fix-p-upper, Generator-ext-p-lower, Generator-ext-p-upper, StorageUnit-ext-p_dispatch-lower, StorageUnit-ext-p_dispatch-upper, StorageUnit-ext-p_store-lower, StorageUnit-ext-p_store-upper, StorageUnit-ext-state_of_charge-lower, StorageUnit-ext-state_of_charge-upper, StorageUnit-energy_balance were not assigned to the network.\n"
     ]
    },
    {
     "data": {
      "text/plain": [
       "('ok', 'optimal')"
      ]
     },
     "execution_count": 15,
     "metadata": {},
     "output_type": "execute_result"
    }
   ],
   "source": [
    "n_trick.optimize(solver_name='gurobi') "
   ]
  },
  {
   "cell_type": "code",
   "execution_count": 23,
   "id": "34a9b63f",
   "metadata": {},
   "outputs": [
    {
     "name": "stderr",
     "output_type": "stream",
     "text": [
      "INFO:linopy.model: Solve problem using Gurobi solver\n"
     ]
    },
    {
     "name": "stdout",
     "output_type": "stream",
     "text": [
      "Set parameter TokenServer to value \"ensys3.service.tu-berlin.de\"\n"
     ]
    },
    {
     "name": "stderr",
     "output_type": "stream",
     "text": [
      "INFO:linopy.io:Writing objective.\n",
      "Writing constraints.: 100%|\u001b[38;2;128;191;255m██████████\u001b[0m| 16/16 [00:00<00:00, 133.25it/s]\n",
      "Writing continuous variables.: 100%|\u001b[38;2;128;191;255m██████████\u001b[0m| 6/6 [00:00<00:00, 331.00it/s]\n",
      "INFO:linopy.io: Writing time: 0.16s\n"
     ]
    },
    {
     "name": "stdout",
     "output_type": "stream",
     "text": [
      "Read LP format model from file /tmp/linopy-problem-yp67trhu.lp\n",
      "Reading time = 0.03 seconds\n",
      "obj: 35043 rows, 15333 columns, 62464 nonzeros\n",
      "Gurobi Optimizer version 11.0.1 build v11.0.1rc0 (linux64 - \"Ubuntu 23.10\")\n",
      "\n",
      "CPU model: AMD Ryzen 7 PRO 7840U w/ Radeon 780M Graphics, instruction set [SSE2|AVX|AVX2|AVX512]\n",
      "Thread count: 8 physical cores, 16 logical processors, using up to 16 threads\n",
      "\n",
      "Optimize a model with 35043 rows, 15333 columns and 62464 nonzeros\n",
      "Model fingerprint: 0x3bc14700\n",
      "Model has 4380 quadratic objective terms\n",
      "Coefficient statistics:\n",
      "  Matrix range     [1e-04, 2e+02]\n",
      "  Objective range  [1e+03, 3e+05]\n",
      "  QObjective range [1e+02, 2e+02]\n",
      "  Bounds range     [0e+00, 0e+00]\n",
      "  RHS range        [1e+01, 1e+02]\n",
      "Presolve removed 20762 rows and 1049 columns\n",
      "Presolve time: 0.02s\n",
      "Presolved: 14281 rows, 14284 columns, 40653 nonzeros\n",
      "Presolved model has 4380 quadratic objective terms\n",
      "Ordering time: 0.00s\n",
      "\n",
      "Barrier statistics:\n",
      " Dense cols : 3\n",
      " AA' NZ     : 3.075e+04\n",
      " Factor NZ  : 1.720e+05 (roughly 13 MB of memory)\n",
      " Factor Ops : 2.277e+06 (less than 1 second per iteration)\n",
      " Threads    : 8\n",
      "\n",
      "                  Objective                Residual\n",
      "Iter       Primal          Dual         Primal    Dual     Compl     Time\n",
      "   0   1.66683449e+12 -1.78176364e+12  3.00e+03 9.38e+02  1.00e+06     0s\n",
      "   1   8.08401674e+10 -2.76516182e+11  9.75e+02 3.23e+02  4.42e+05     0s\n",
      "   2   2.92312096e+09 -2.01774790e+11  1.32e+02 4.31e+01  6.75e+04     0s\n",
      "   3   1.45333800e+09 -8.06266012e+10  3.69e+00 1.15e+00  4.49e+03     0s\n",
      "   4  -2.54416760e+08 -6.54462491e+09  1.21e-01 3.94e-02  2.55e+02     0s\n",
      "   5  -1.37590056e+09 -4.06700301e+09  4.31e-02 1.38e-02  1.04e+02     0s\n",
      "   6  -2.04695455e+09 -3.05562148e+09  1.36e-02 4.44e-03  3.72e+01     0s\n",
      "   7  -2.30940990e+09 -2.78845088e+09  5.59e-03 1.81e-03  1.72e+01     0s\n",
      "   8  -2.44682950e+09 -2.63706818e+09  1.47e-03 4.59e-04  6.69e+00     0s\n",
      "   9  -2.48489282e+09 -2.56956037e+09  3.58e-04 1.12e-04  2.94e+00     0s\n",
      "  10  -2.49976819e+09 -2.54477828e+09  8.64e-05 2.70e-05  1.55e+00     0s\n",
      "  11  -2.50537148e+09 -2.53601632e+09  5.30e-05 1.66e-05  1.05e+00     0s\n",
      "  12  -2.50832476e+09 -2.53122310e+09  3.28e-05 1.02e-05  7.86e-01     0s\n",
      "  13  -2.50910753e+09 -2.52980548e+09  2.81e-05 8.79e-06  7.10e-01     0s\n",
      "  14  -2.51111753e+09 -2.52594882e+09  1.98e-05 6.20e-06  5.09e-01     0s\n",
      "  15  -2.51338369e+09 -2.52158999e+09  7.69e-06 2.40e-06  2.81e-01     0s\n",
      "  16  -2.51422397e+09 -2.51980925e+09  3.87e-06 1.21e-06  1.91e-01     0s\n",
      "  17  -2.51522815e+09 -2.51742766e+09  2.73e-09 1.21e-12  7.52e-02     0s\n",
      "  18  -2.51556682e+09 -2.51631004e+09  1.05e-09 2.42e-13  2.54e-02     0s\n",
      "  19  -2.51566237e+09 -2.51597996e+09  2.81e-09 5.68e-14  1.09e-02     0s\n",
      "  20  -2.51572704e+09 -2.51573672e+09  1.31e-09 6.25e-13  3.31e-04     0s\n",
      "  21  -2.51572930e+09 -2.51572958e+09  6.25e-10 6.82e-13  9.58e-06     0s\n",
      "  22  -2.51572940e+09 -2.51572944e+09  2.12e-09 1.19e-12  1.18e-06     0s\n",
      "  23  -2.51572942e+09 -2.51572942e+09  2.48e-07 2.84e-13  1.66e-07     0s\n",
      "  24  -2.51572942e+09 -2.51572942e+09  2.31e-08 2.27e-13  2.32e-08     0s\n",
      "  25  -2.51572942e+09 -2.51572942e+09  3.12e-09 6.47e-13  3.27e-09     0s\n",
      "\n",
      "Barrier solved model in 25 iterations and 0.19 seconds (0.15 work units)\n",
      "Optimal objective -2.51572942e+09\n",
      "\n"
     ]
    },
    {
     "name": "stderr",
     "output_type": "stream",
     "text": [
      "INFO:linopy.constants: Optimization successful: \n",
      "Status: ok\n",
      "Termination condition: optimal\n",
      "Solution: 15333 primals, 35043 duals\n",
      "Objective: -2.52e+09\n",
      "Solver model: available\n",
      "Solver message: 2\n",
      "\n",
      "/home/fneum/miniconda3/envs/price-formation/lib/python3.11/site-packages/pypsa/optimization/optimize.py:357: FutureWarning: A value is trying to be set on a copy of a DataFrame or Series through chained assignment using an inplace method.\n",
      "The behavior will change in pandas 3.0. This inplace method will never work because the intermediate object on which we are setting values always behaves as a copy.\n",
      "\n",
      "For example, when doing 'df[col].method(value, inplace=True)', try using 'df.method({col: value}, inplace=True)' or df[col] = df[col].method(value) instead, to perform the operation inplace on the original object.\n",
      "\n",
      "\n",
      "  n.df(c)[attr + \"_opt\"].update(df)\n",
      "INFO:pypsa.optimization.optimize:The shadow-prices of the constraints Generator-fix-p-lower, Generator-fix-p-upper, Generator-ext-p-lower, Generator-ext-p-upper, StorageUnit-ext-p_dispatch-lower, StorageUnit-ext-p_dispatch-upper, StorageUnit-ext-p_store-lower, StorageUnit-ext-p_store-upper, StorageUnit-ext-state_of_charge-lower, StorageUnit-ext-state_of_charge-upper, StorageUnit-energy_balance were not assigned to the network.\n"
     ]
    },
    {
     "data": {
      "text/plain": [
       "('ok', 'optimal')"
      ]
     },
     "execution_count": 23,
     "metadata": {},
     "output_type": "execute_result"
    }
   ],
   "source": [
    "n_notrick.optimize(solver_name='gurobi')"
   ]
  },
  {
   "cell_type": "code",
   "execution_count": 24,
   "id": "682f2af8",
   "metadata": {},
   "outputs": [
    {
     "data": {
      "text/html": [
       "<div>\n",
       "<style scoped>\n",
       "    .dataframe tbody tr th:only-of-type {\n",
       "        vertical-align: middle;\n",
       "    }\n",
       "\n",
       "    .dataframe tbody tr th {\n",
       "        vertical-align: top;\n",
       "    }\n",
       "\n",
       "    .dataframe thead th {\n",
       "        text-align: right;\n",
       "    }\n",
       "</style>\n",
       "<table border=\"1\" class=\"dataframe\">\n",
       "  <thead>\n",
       "    <tr style=\"text-align: right;\">\n",
       "      <th></th>\n",
       "      <th></th>\n",
       "      <th>Optimal Capacity</th>\n",
       "      <th>Installed Capacity</th>\n",
       "      <th>Capacity Factor</th>\n",
       "      <th>Dispatch</th>\n",
       "      <th>Transmission</th>\n",
       "      <th>Withdrawal</th>\n",
       "      <th>Supply</th>\n",
       "      <th>Curtailment</th>\n",
       "      <th>Capital Expenditure</th>\n",
       "      <th>Operational Expenditure</th>\n",
       "      <th>Revenue</th>\n",
       "      <th>Market Value</th>\n",
       "    </tr>\n",
       "  </thead>\n",
       "  <tbody>\n",
       "    <tr>\n",
       "      <th rowspan=\"3\" valign=\"top\">Generator</th>\n",
       "      <th>load</th>\n",
       "      <td>0.0</td>\n",
       "      <td>0.0</td>\n",
       "      <td>-1.0</td>\n",
       "      <td>919800.0</td>\n",
       "      <td>0.0</td>\n",
       "      <td>-888997.0</td>\n",
       "      <td>30803.0</td>\n",
       "      <td>0.0</td>\n",
       "      <td>0.0</td>\n",
       "      <td>4.944953e+09</td>\n",
       "      <td>135101214.0</td>\n",
       "      <td>NaN</td>\n",
       "    </tr>\n",
       "    <tr>\n",
       "      <th>onwind</th>\n",
       "      <td>0.0</td>\n",
       "      <td>0.0</td>\n",
       "      <td>0.0</td>\n",
       "      <td>8.0</td>\n",
       "      <td>0.0</td>\n",
       "      <td>0.0</td>\n",
       "      <td>8.0</td>\n",
       "      <td>-8.0</td>\n",
       "      <td>0.0</td>\n",
       "      <td>0.000000e+00</td>\n",
       "      <td>0.0</td>\n",
       "      <td>0.0</td>\n",
       "    </tr>\n",
       "    <tr>\n",
       "      <th>solar</th>\n",
       "      <td>0.0</td>\n",
       "      <td>0.0</td>\n",
       "      <td>0.0</td>\n",
       "      <td>-4.0</td>\n",
       "      <td>0.0</td>\n",
       "      <td>0.0</td>\n",
       "      <td>-4.0</td>\n",
       "      <td>5.0</td>\n",
       "      <td>0.0</td>\n",
       "      <td>0.000000e+00</td>\n",
       "      <td>0.0</td>\n",
       "      <td>0.0</td>\n",
       "    </tr>\n",
       "    <tr>\n",
       "      <th>Load</th>\n",
       "      <th>load</th>\n",
       "      <td>NaN</td>\n",
       "      <td>NaN</td>\n",
       "      <td>NaN</td>\n",
       "      <td>NaN</td>\n",
       "      <td>NaN</td>\n",
       "      <td>NaN</td>\n",
       "      <td>NaN</td>\n",
       "      <td>NaN</td>\n",
       "      <td>NaN</td>\n",
       "      <td>NaN</td>\n",
       "      <td>NaN</td>\n",
       "      <td>NaN</td>\n",
       "    </tr>\n",
       "    <tr>\n",
       "      <th>StorageUnit</th>\n",
       "      <th>hydrogen storage underground</th>\n",
       "      <td>0.0</td>\n",
       "      <td>0.0</td>\n",
       "      <td>0.0</td>\n",
       "      <td>-4.0</td>\n",
       "      <td>0.0</td>\n",
       "      <td>4.0</td>\n",
       "      <td>-1.0</td>\n",
       "      <td>0.0</td>\n",
       "      <td>0.0</td>\n",
       "      <td>0.000000e+00</td>\n",
       "      <td>0.0</td>\n",
       "      <td>0.0</td>\n",
       "    </tr>\n",
       "  </tbody>\n",
       "</table>\n",
       "</div>"
      ],
      "text/plain": [
       "                                          Optimal Capacity  \\\n",
       "Generator   load                                       0.0   \n",
       "            onwind                                     0.0   \n",
       "            solar                                      0.0   \n",
       "Load        load                                       NaN   \n",
       "StorageUnit hydrogen storage underground               0.0   \n",
       "\n",
       "                                          Installed Capacity  Capacity Factor  \\\n",
       "Generator   load                                         0.0             -1.0   \n",
       "            onwind                                       0.0              0.0   \n",
       "            solar                                        0.0              0.0   \n",
       "Load        load                                         NaN              NaN   \n",
       "StorageUnit hydrogen storage underground                 0.0              0.0   \n",
       "\n",
       "                                          Dispatch Transmission  Withdrawal  \\\n",
       "Generator   load                          919800.0          0.0   -888997.0   \n",
       "            onwind                             8.0          0.0         0.0   \n",
       "            solar                             -4.0          0.0         0.0   \n",
       "Load        load                               NaN          NaN         NaN   \n",
       "StorageUnit hydrogen storage underground      -4.0          0.0         4.0   \n",
       "\n",
       "                                           Supply  Curtailment  \\\n",
       "Generator   load                          30803.0          0.0   \n",
       "            onwind                            8.0         -8.0   \n",
       "            solar                            -4.0          5.0   \n",
       "Load        load                              NaN          NaN   \n",
       "StorageUnit hydrogen storage underground     -1.0          0.0   \n",
       "\n",
       "                                          Capital Expenditure  \\\n",
       "Generator   load                                          0.0   \n",
       "            onwind                                        0.0   \n",
       "            solar                                         0.0   \n",
       "Load        load                                          NaN   \n",
       "StorageUnit hydrogen storage underground                  0.0   \n",
       "\n",
       "                                          Operational Expenditure  \\\n",
       "Generator   load                                     4.944953e+09   \n",
       "            onwind                                   0.000000e+00   \n",
       "            solar                                    0.000000e+00   \n",
       "Load        load                                              NaN   \n",
       "StorageUnit hydrogen storage underground             0.000000e+00   \n",
       "\n",
       "                                              Revenue  Market Value  \n",
       "Generator   load                          135101214.0           NaN  \n",
       "            onwind                                0.0           0.0  \n",
       "            solar                                 0.0           0.0  \n",
       "Load        load                                  NaN           NaN  \n",
       "StorageUnit hydrogen storage underground          0.0           0.0  "
      ]
     },
     "execution_count": 24,
     "metadata": {},
     "output_type": "execute_result"
    }
   ],
   "source": [
    "n_trick.statistics().round() - n_notrick.statistics().round()"
   ]
  },
  {
   "cell_type": "code",
   "execution_count": 25,
   "id": "41e23837",
   "metadata": {},
   "outputs": [
    {
     "data": {
      "text/plain": [
       "<Axes: xlabel='snapshot'>"
      ]
     },
     "execution_count": 25,
     "metadata": {},
     "output_type": "execute_result"
    },
    {
     "data": {
      "image/png": "[encoded data removed]",
      "text/plain": [
       "<Figure size 640x480 with 1 Axes>"
      ]
     },
     "metadata": {},
     "output_type": "display_data"
    }
   ],
   "source": [
    "(n_notrick.buses_t.marginal_price[\"Germany\"] - n_trick.buses_t.marginal_price[\"Germany\"]).plot()"
   ]
  },
  {
   "cell_type": "code",
   "execution_count": 26,
   "id": "2ec776b6",
   "metadata": {},
   "outputs": [
    {
     "data": {
      "text/plain": [
       "<Axes: xlabel='snapshot'>"
      ]
     },
     "execution_count": 26,
     "metadata": {},
     "output_type": "execute_result"
    },
    {
     "data": {
      "image/png": "[encoded data removed]",
      "text/plain": [
       "<Figure size 2000x300 with 1 Axes>"
      ]
     },
     "metadata": {},
     "output_type": "display_data"
    }
   ],
   "source": [
    "n_trick.generators_t.p.loc[\"2015-10\", \"load-shedding-segment-1\"].plot(figsize=(20,3), linewidth=1)\n",
    "n_trick.generators_t.p.loc[\"2015-10\", \"load-shedding-segment-2\"].plot(figsize=(20,3), linewidth=1)"
   ]
  },
  {
   "cell_type": "code",
   "execution_count": null,
   "id": "1224c08b",
   "metadata": {},
   "outputs": [],
   "source": []
  },
  {
   "cell_type": "code",
   "execution_count": null,
   "id": "d5994ddf",
   "metadata": {},
   "outputs": [],
   "source": []
  }
 ],
 "metadata": {
  "kernelspec": {
   "display_name": "Python 3 (ipykernel)",
   "language": "python",
   "name": "python3"
  },
  "language_info": {
   "codemirror_mode": {
    "name": "ipython",
    "version": 3
   },
   "file_extension": ".py",
   "mimetype": "text/x-python",
   "name": "python",
   "nbconvert_exporter": "python",
   "pygments_lexer": "ipython3",
   "version": "3.11.0"
  }
 },
 "nbformat": 4,
 "nbformat_minor": 5
}
