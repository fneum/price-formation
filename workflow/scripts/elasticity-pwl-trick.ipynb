{
 "cells": [
  {
   "cell_type": "code",
   "execution_count": null,
   "id": "477ff249-422e-4c6e-bae8-a520e86c77f1",
   "metadata": {},
   "outputs": [],
   "source": [
    "import pypsa\n",
    "import logging\n",
    "import matplotlib.pyplot as plt\n",
    "import seaborn as sns\n",
    "import numpy as np\n",
    "\n",
    "plt.style.use(\"bmh\")\n",
    "sns.set_palette(\"colorblind\")\n",
    "\n",
    "logging.getLogger(\"gurobipy\").setLevel(logging.CRITICAL)"
   ]
  },
  {
   "cell_type": "code",
   "execution_count": null,
   "id": "f0c31f57",
   "metadata": {},
   "outputs": [],
   "source": [
    "url = \"https://tubcloud.tu-berlin.de/s/kpWaraGc9LeaxLK/download/network-cem.nc\"\n",
    "\n",
    "n = pypsa.Network(url)\n",
    "\n",
    "n.remove(\"GlobalConstraint\", \"CO2Limit\")\n",
    "n.remove(\"Load\", \"demand\")\n",
    "n.remove(\"StorageUnit\", \"battery storage\")\n",
    "\n",
    "n.mremove(\"Carrier\", n.carriers.index)\n",
    "n.mremove(\"Generator\", [\"OCGT\", \"offwind\"])\n",
    "\n",
    "n.generators.marginal_cost = 0"
   ]
  },
  {
   "cell_type": "markdown",
   "id": "554830cf",
   "metadata": {},
   "source": [
    "## One Segment"
   ]
  },
  {
   "cell_type": "code",
   "execution_count": null,
   "id": "477e1ba5",
   "metadata": {},
   "outputs": [],
   "source": [
    "ELASTIC_INTERCEPT = 2000\n",
    "LOAD = 100"
   ]
  },
  {
   "cell_type": "code",
   "execution_count": null,
   "id": "806cc353",
   "metadata": {},
   "outputs": [],
   "source": [
    "n_notrick = n.copy()\n",
    "\n",
    "n_notrick.add(\n",
    "    \"Generator\",\n",
    "    \"load\",\n",
    "    bus=\"Germany\",\n",
    "    carrier=\"load\",\n",
    "    marginal_cost=ELASTIC_INTERCEPT,\n",
    "    marginal_cost_quadratic=ELASTIC_INTERCEPT / (2 * LOAD),\n",
    "    p_max_pu=0,\n",
    "    p_min_pu=-1,\n",
    "    p_nom=LOAD,\n",
    ")"
   ]
  },
  {
   "cell_type": "code",
   "execution_count": null,
   "id": "295404d4",
   "metadata": {},
   "outputs": [],
   "source": [
    "n_trick = n.copy()\n",
    "\n",
    "n_trick.add(\n",
    "    \"Generator\",\n",
    "    \"load-shedding\",\n",
    "    bus=\"Germany\",\n",
    "    carrier=\"load\",\n",
    "    p_nom=LOAD,\n",
    "    marginal_cost_quadratic=ELASTIC_INTERCEPT / (2 * LOAD),\n",
    ")\n",
    "\n",
    "n_trick.add(\n",
    "    \"Load\",\n",
    "    \"load\",\n",
    "    bus=\"Germany\",\n",
    "    carrier=\"load\",\n",
    "    p_set=LOAD,\n",
    ")"
   ]
  },
  {
   "cell_type": "code",
   "execution_count": null,
   "id": "ada71030",
   "metadata": {},
   "outputs": [],
   "source": [
    "n_trick.optimize(solver_name=\"gurobi\", solver_options={\"BarConvTol\": 1e-9})"
   ]
  },
  {
   "cell_type": "code",
   "execution_count": null,
   "id": "dcbc661f",
   "metadata": {},
   "outputs": [],
   "source": [
    "n_notrick.optimize(solver_name=\"gurobi\", solver_options={\"BarConvTol\": 1e-9})"
   ]
  },
  {
   "cell_type": "code",
   "execution_count": null,
   "id": "8db69231",
   "metadata": {},
   "outputs": [],
   "source": [
    "n_trick.statistics().round() - n_notrick.statistics().round()"
   ]
  },
  {
   "cell_type": "code",
   "execution_count": null,
   "id": "f3985e94",
   "metadata": {},
   "outputs": [],
   "source": [
    "(\n",
    "    n_notrick.buses_t.marginal_price[\"Germany\"]\n",
    "    - n_trick.buses_t.marginal_price[\"Germany\"]\n",
    ").plot(figsize=(10, 2))"
   ]
  },
  {
   "cell_type": "markdown",
   "id": "86cf644e",
   "metadata": {},
   "source": [
    "## Two Segments"
   ]
  },
  {
   "cell_type": "code",
   "execution_count": null,
   "id": "24975f0e",
   "metadata": {},
   "outputs": [],
   "source": [
    "ELASTIC_INTERCEPT_1 = 6000\n",
    "ELASTIC_SLOPE_1 = 60\n",
    "ELASTIC_LOAD_1 = 95\n",
    "\n",
    "ELASTIC_INTERCEPT_2 = 300\n",
    "ELASTIC_SLOPE_2 = 30\n",
    "ELASTIC_LOAD_2 = 10"
   ]
  },
  {
   "cell_type": "code",
   "execution_count": null,
   "id": "dcd1da59",
   "metadata": {},
   "outputs": [],
   "source": [
    "n_notrick = n.copy()\n",
    "\n",
    "n_notrick.add(\n",
    "    \"Generator\",\n",
    "    \"load-segment-1\",\n",
    "    bus=\"Germany\",\n",
    "    carrier=\"load\",\n",
    "    marginal_cost=ELASTIC_INTERCEPT_1,\n",
    "    marginal_cost_quadratic=ELASTIC_SLOPE_1 / 2,\n",
    "    p_max_pu=0,\n",
    "    p_min_pu=-1,\n",
    "    p_nom=ELASTIC_LOAD_1,\n",
    ")\n",
    "\n",
    "n_notrick.add(\n",
    "    \"Generator\",\n",
    "    \"load-segment-2\",\n",
    "    bus=\"Germany\",\n",
    "    carrier=\"load\",\n",
    "    marginal_cost=ELASTIC_INTERCEPT_2,\n",
    "    marginal_cost_quadratic=ELASTIC_SLOPE_2 / 2,\n",
    "    p_max_pu=0,\n",
    "    p_min_pu=-1,\n",
    "    p_nom=ELASTIC_LOAD_2,\n",
    ")"
   ]
  },
  {
   "cell_type": "code",
   "execution_count": null,
   "id": "5d07c95a",
   "metadata": {},
   "outputs": [],
   "source": [
    "n_trick = n.copy()\n",
    "\n",
    "n_trick.add(\n",
    "    \"Generator\",\n",
    "    \"load-shedding-segment-1\",\n",
    "    bus=\"Germany\",\n",
    "    carrier=\"load\",\n",
    "    p_nom=ELASTIC_LOAD_1,\n",
    "    marginal_cost=ELASTIC_INTERCEPT_1 - ELASTIC_SLOPE_1 * ELASTIC_LOAD_1,\n",
    "    marginal_cost_quadratic=ELASTIC_SLOPE_1 / 2,\n",
    ")\n",
    "\n",
    "n_trick.add(\n",
    "    \"Generator\",\n",
    "    \"load-shedding-segment-2\",\n",
    "    bus=\"Germany\",\n",
    "    carrier=\"load\",\n",
    "    p_nom=ELASTIC_LOAD_2,\n",
    "    marginal_cost_quadratic=ELASTIC_SLOPE_2 / 2,\n",
    ")\n",
    "\n",
    "n_trick.add(\n",
    "    \"Load\",\n",
    "    \"load\",\n",
    "    bus=\"Germany\",\n",
    "    carrier=\"load\",\n",
    "    p_set=ELASTIC_LOAD_1 + ELASTIC_LOAD_2,\n",
    ")"
   ]
  },
  {
   "cell_type": "code",
   "execution_count": null,
   "id": "42c903b3",
   "metadata": {},
   "outputs": [],
   "source": [
    "ELASTIC_INTERCEPT_1 - ELASTIC_SLOPE_1 * ELASTIC_LOAD_1"
   ]
  },
  {
   "cell_type": "code",
   "execution_count": null,
   "id": "98f526b6",
   "metadata": {},
   "outputs": [],
   "source": [
    "n_trick.optimize(solver_name=\"gurobi\")"
   ]
  },
  {
   "cell_type": "code",
   "execution_count": null,
   "id": "34a9b63f",
   "metadata": {},
   "outputs": [],
   "source": [
    "n_notrick.optimize(solver_name=\"gurobi\")"
   ]
  },
  {
   "cell_type": "code",
   "execution_count": null,
   "id": "682f2af8",
   "metadata": {},
   "outputs": [],
   "source": [
    "n_trick.statistics().round() - n_notrick.statistics().round()"
   ]
  },
  {
   "cell_type": "code",
   "execution_count": null,
   "id": "41e23837",
   "metadata": {},
   "outputs": [],
   "source": [
    "(\n",
    "    n_notrick.buses_t.marginal_price[\"Germany\"]\n",
    "    - n_trick.buses_t.marginal_price[\"Germany\"]\n",
    ").plot()"
   ]
  },
  {
   "cell_type": "code",
   "execution_count": null,
   "id": "2ec776b6",
   "metadata": {},
   "outputs": [],
   "source": [
    "n_trick.generators_t.p.loc[\"2015-10\", \"load-shedding-segment-1\"].plot(\n",
    "    figsize=(20, 3), linewidth=1\n",
    ")\n",
    "n_trick.generators_t.p.loc[\"2015-10\", \"load-shedding-segment-2\"].plot(\n",
    "    figsize=(20, 3), linewidth=1\n",
    ")"
   ]
  },
  {
   "cell_type": "code",
   "execution_count": null,
   "id": "1224c08b",
   "metadata": {},
   "outputs": [],
   "source": []
  },
  {
   "cell_type": "code",
   "execution_count": null,
   "id": "d5994ddf",
   "metadata": {},
   "outputs": [],
   "source": []
  }
 ],
 "metadata": {
  "kernelspec": {
   "display_name": "Python 3 (ipykernel)",
   "language": "python",
   "name": "python3"
  },
  "language_info": {
   "codemirror_mode": {
    "name": "ipython",
    "version": 3
   },
   "file_extension": ".py",
   "mimetype": "text/x-python",
   "name": "python",
   "nbconvert_exporter": "python",
   "pygments_lexer": "ipython3",
   "version": "3.11.0"
  }
 },
 "nbformat": 4,
 "nbformat_minor": 5
}
