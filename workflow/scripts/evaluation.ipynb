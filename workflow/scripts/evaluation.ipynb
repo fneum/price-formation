{
 "cells": [
  {
   "cell_type": "code",
   "execution_count": null,
   "metadata": {},
   "outputs": [],
   "source": [
    "from plot import get_cost_recovery, get_price_duration, get_load_duration"
   ]
  },
  {
   "cell_type": "code",
   "execution_count": null,
   "metadata": {},
   "outputs": [],
   "source": [
    "import matplotlib.pyplot as plt\n",
    "import seaborn as sns\n",
    "import pypsa\n",
    "import pandas as pd\n",
    "import numpy as np\n",
    "\n",
    "plt.style.use([\"bmh\", \"../../matplotlibrc\"])"
   ]
  },
  {
   "cell_type": "code",
   "execution_count": null,
   "metadata": {},
   "outputs": [],
   "source": [
    "fn = \"../..//data/time_series_60min_singleindex_filtered.csv\"\n",
    "history = (\n",
    "    pd.read_csv(fn, index_col=0)[\"DE_LU_price_day_ahead\"]\n",
    "    .dropna()\n",
    "    .sort_values(ascending=False)\n",
    "    .reset_index(drop=True)\n",
    ")\n",
    "history.index = np.arange(0, 100, 100 / len(history.index))"
   ]
  },
  {
   "cell_type": "code",
   "execution_count": null,
   "metadata": {},
   "outputs": [],
   "source": [
    "files = {\n",
    "    \"inelastic\": \"../../results/35a-35a/network_solved_LT-country+DE-number_years+35-inelastic+true.nc\",\n",
    "    \"VOLL 2000 €/MWh\": \"../../results/35a-35a/network_solved_LT-country+DE-number_years+35-voll+true.nc\",\n",
    "    \"elasticity -5.3% @ 100 €/MWh\": \"../../results/35a-35a/network_solved_LT-country+DE-number_years+35-elastic+true-elastic_intercept+2000.nc\",\n",
    "    \"50:50 VOLL & elasticity\": \"../../results/35a-35a/network_solved_LT-country+DE-number_years+35-elastic+true-voll+true-elastic_intercept+2000-voll_share+0.5.nc\",\n",
    "    \"elasticity -100% @ 100 €/MWh\": \"../../results/35a-35a/network_solved_LT-country+DE-number_years+35-elastic+true-elastic_intercept+200.nc\",\n",
    "    \"elasticity -0.5% @ 100 €/MWh\": \"../../results/35a-35a/network_solved_LT-country+DE-number_years+35-elastic+true-elastic_intercept+20000.nc\",\n",
    "}"
   ]
  },
  {
   "cell_type": "code",
   "execution_count": null,
   "metadata": {},
   "outputs": [],
   "source": [
    "ns = {k: pypsa.Network(v) for k, v in files.items()}"
   ]
  },
  {
   "cell_type": "code",
   "execution_count": null,
   "metadata": {},
   "outputs": [],
   "source": [
    "lmp = pd.DataFrame({k: get_annual_mean_lmp(v) for k, v in ns.items()})"
   ]
  },
  {
   "cell_type": "code",
   "execution_count": null,
   "metadata": {},
   "outputs": [],
   "source": [
    "to_drop = [\"elasticity -100% @ 100 €/MWh\", \"elasticity -0.5% @ 100 €/MWh\"]\n",
    "lmp.drop(to_drop, errors=\"ignore\", axis=1, inplace=True)"
   ]
  },
  {
   "cell_type": "code",
   "execution_count": null,
   "metadata": {},
   "outputs": [],
   "source": [
    "def get_annual_mean_lmp(n):\n",
    "    lmp = n.buses_t.marginal_price[\"electricity\"]\n",
    "    return lmp.groupby(lmp.index.year).mean()\n",
    "\n",
    "\n",
    "fig, ax = plt.subplots(figsize=(7, 2.5))\n",
    "sns.stripplot(lmp, ax=ax, orient=\"h\", alpha=0.5, size=3)\n",
    "sns.violinplot(\n",
    "    lmp,\n",
    "    ax=ax,\n",
    "    orient=\"h\",\n",
    "    facecolor=\"lightgrey\",\n",
    "    edgecolor=\"grey\",\n",
    "    inner=\"quart\",\n",
    "    cut=0,\n",
    ")\n",
    "\n",
    "plt.xlabel(\"Annual Mean Electricity Price [€/MWh]\")\n",
    "\n",
    "plt.savefig(f\"../../slides/graphics/annual-prices.pdf\", bbox_inches=\"tight\")"
   ]
  },
  {
   "cell_type": "code",
   "execution_count": null,
   "metadata": {},
   "outputs": [],
   "source": [
    "for k, n in ns.items():\n",
    "\n",
    "    lmp = n.buses_t.marginal_price[\"electricity\"]\n",
    "    lmp = lmp.groupby([lmp.index.year, lmp.index.month]).mean().unstack()\n",
    "\n",
    "    fig, ax = plt.subplots()\n",
    "\n",
    "    sns.heatmap(\n",
    "        lmp.T,\n",
    "        ax=ax,\n",
    "        cmap=\"YlGn\",\n",
    "        square=True,\n",
    "        cbar_kws={\n",
    "            \"label\": \"Mean Electricity Price [€/MWh]\",\n",
    "            \"orientation\": \"horizontal\",\n",
    "            \"shrink\": 0.5,\n",
    "            \"extend\": \"max\",\n",
    "        },\n",
    "        vmin=0,\n",
    "        vmax=500,\n",
    "    )\n",
    "\n",
    "    plt.ylabel(\"Month\")\n",
    "    plt.xlabel(\"Year\")\n",
    "\n",
    "    fn = (\n",
    "        k.replace(\"@\", \"at\")\n",
    "        .replace(\" \", \"-\")\n",
    "        .replace(\"%\", \"perc\")\n",
    "        .replace(\"€\", \"EUR\")\n",
    "        .replace(\"/\", \"per\")\n",
    "    )\n",
    "    plt.savefig(f\"../../slides/graphics/price-heatmap-{fn}.pdf\", bbox_inches=\"tight\")"
   ]
  },
  {
   "cell_type": "code",
   "execution_count": null,
   "metadata": {},
   "outputs": [],
   "source": [
    "pdc = {k: get_price_duration(v) for k, v in ns.items()}\n",
    "pdc[\"day-ahead prices 2015-2020\"] = history"
   ]
  },
  {
   "cell_type": "code",
   "execution_count": null,
   "metadata": {},
   "outputs": [],
   "source": [
    "ldc = {k: get_load_duration(v) for k, v in ns.items()}"
   ]
  },
  {
   "cell_type": "code",
   "execution_count": null,
   "metadata": {},
   "outputs": [],
   "source": [
    "crf = pd.DataFrame({k: get_cost_recovery(v).sum(axis=1) for k, v in ns.items()})\n",
    "crf"
   ]
  },
  {
   "cell_type": "code",
   "execution_count": null,
   "metadata": {},
   "outputs": [],
   "source": [
    "fig, ax = plt.subplots(figsize=(4.5, 3.5))\n",
    "\n",
    "plt.xlabel(\"Fraction of Time [%]\")\n",
    "plt.ylabel(\"Electricity Price [€/MWh]\")\n",
    "plt.xlim(0, 100)\n",
    "plt.ylim(-50, 2500)\n",
    "plt.title(\"Price Duration Curve\")\n",
    "\n",
    "for i, c in enumerate(pdc):\n",
    "\n",
    "    linestyle = \"--\" if \"elasticity\" in c else \"-\"\n",
    "\n",
    "    pdc[c].plot(ax=ax, label=c, legend=True, linestyle=linestyle, linewidth=1.5)\n",
    "    plt.grid(axis=\"both\")\n",
    "\n",
    "    plt.savefig(f\"../../slides/graphics/pdc-{i}.pdf\", bbox_inches=\"tight\")"
   ]
  },
  {
   "cell_type": "code",
   "execution_count": null,
   "metadata": {},
   "outputs": [],
   "source": [
    "fig, ax = plt.subplots(figsize=(4.5, 3.5))\n",
    "\n",
    "plt.xlabel(\"Fraction of Time [%]\")\n",
    "plt.ylabel(\"Electricity Demand [MW]\")\n",
    "plt.xlim(0, 100)\n",
    "plt.ylim(0, 110)\n",
    "plt.title(\"Load Duration Curve\")\n",
    "\n",
    "for i, c in enumerate(ldc):\n",
    "\n",
    "    linestyle = \"--\" if \"elasticity\" in c else \"-\"\n",
    "\n",
    "    ldc[c].plot(ax=ax, label=c, legend=True, linestyle=linestyle, linewidth=1.5)\n",
    "    plt.grid(axis=\"both\")\n",
    "\n",
    "    plt.savefig(f\"../../slides/graphics/ldc-{i}.pdf\", bbox_inches=\"tight\")"
   ]
  },
  {
   "cell_type": "code",
   "execution_count": null,
   "metadata": {},
   "outputs": [],
   "source": [
    "files = {\n",
    "    \"elasticity -5.3% @ 100 €/MWh\": \"../../results/35a-35a/network_solved_LT-country+DE-number_years+35-elastic+true-elastic_intercept+2000.nc\",\n",
    "    \"perfect foresight\": \"../../results/35a-35a/network_myopic_LT-country+DE-number_years+35-elastic+true-elastic_intercept+2000_ST-number_years+35-perfect_foresight+true.nc\",\n",
    "    \"myopic foresight (4/2 days), no bidding\": \"../../results/35a-35a/network_myopic_LT-country+DE-number_years+35-elastic+true-elastic_intercept+2000_ST-number_years+35-horizon+96-overlap+48-hydrogen_bid+0-battery_bid+0.nc\",\n",
    "    \"myopic foresight (4/2 days)\": \"../../results/35a-35a/network_myopic_LT-country+DE-number_years+35-elastic+true-elastic_intercept+2000_ST-number_years+35-horizon+96-overlap+48.nc\",\n",
    "    # \"myopic foresight (4/2 days), capacities +1%\": \"../../results/35a-35a/network_myopic_LT-country+DE-number_years+35-elastic+true-elastic_intercept+2000_ST-number_years+35-horizon+96-overlap+48-perturbation+1.01.nc\",\n",
    "    # \"myopic foresight (4/2 days), capacities -1%\": \"../../results/35a-35a/network_myopic_LT-country+DE-number_years+35-elastic+true-elastic_intercept+2000_ST-number_years+35-horizon+96-overlap+48-perturbation+0.99.nc\",\n",
    "    \"myopic foresight (4/2 days), capacities +5%\": \"../../results/35a-35a/network_myopic_LT-country+DE-number_years+35-elastic+true-elastic_intercept+2000_ST-number_years+35-horizon+96-overlap+48-perturbation+1.05.nc\",\n",
    "    \"myopic foresight (4/2 days), capacities -5%\": \"../../results/35a-35a/network_myopic_LT-country+DE-number_years+35-elastic+true-elastic_intercept+2000_ST-number_years+35-horizon+96-overlap+48-perturbation+0.95.nc\",\n",
    "}\n",
    "\n",
    "ns = {k: pypsa.Network(v) for k, v in files.items()}\n",
    "\n",
    "pdc = {k: get_price_duration(v) for k, v in ns.items()}\n",
    "ldc = {k: get_load_duration(v) for k, v in ns.items()}\n",
    "crf = pd.DataFrame({k: get_cost_recovery(v).sum(axis=1) for k, v in ns.items()})"
   ]
  },
  {
   "cell_type": "code",
   "execution_count": null,
   "metadata": {},
   "outputs": [],
   "source": [
    "fig, ax = plt.subplots(figsize=(6.5, 3.5))\n",
    "crf.plot.bar(ax=ax, legend=False)\n",
    "plt.xlabel(\"\")\n",
    "plt.ylabel(\"Cost Recovery [%]\")\n",
    "plt.grid(axis=\"y\")\n",
    "ax.axhline(100, color=\"k\", linewidth=1)\n",
    "fig.legend(ncol=2, loc=\"outside upper right\", bbox_to_anchor=(1, 1.2))\n",
    "\n",
    "plt.savefig(f\"../../slides/graphics/crf.pdf\", bbox_inches=\"tight\")"
   ]
  },
  {
   "cell_type": "code",
   "execution_count": null,
   "metadata": {},
   "outputs": [],
   "source": [
    "fig, ax = plt.subplots(figsize=(4.5, 3.5))\n",
    "\n",
    "plt.xlabel(\"Fraction of Time [%]\")\n",
    "plt.ylabel(\"Electricity Demand [MW]\")\n",
    "plt.xlim(0, 100)\n",
    "plt.ylim(0, 110)\n",
    "plt.title(\"Load Duration Curve\")\n",
    "\n",
    "for i, c in enumerate(ldc):\n",
    "\n",
    "    linestyle = \"--\" if c.startswith(\"myopic\") else \"-\"\n",
    "    alpha = 0.5 if \"capacities\" in c else 1.0\n",
    "\n",
    "    ldc[c].plot(\n",
    "        ax=ax, label=c, legend=True, linestyle=linestyle, linewidth=1.5, alpha=alpha\n",
    "    )\n",
    "    plt.grid(axis=\"both\")\n",
    "\n",
    "    plt.savefig(f\"../../slides/graphics/ldc-myopic-{i}.pdf\", bbox_inches=\"tight\")"
   ]
  },
  {
   "cell_type": "code",
   "execution_count": null,
   "metadata": {},
   "outputs": [],
   "source": [
    "fig, ax = plt.subplots(figsize=(4.5, 3.5))\n",
    "\n",
    "plt.xlabel(\"Fraction of Time [%]\")\n",
    "plt.ylabel(\"Electricity Price [€/MWh]\")\n",
    "plt.xlim(0, 100)\n",
    "plt.ylim(-50, 2500)\n",
    "plt.title(\"Price Duration Curve\")\n",
    "\n",
    "for i, c in enumerate(pdc):\n",
    "\n",
    "    linestyle = \"--\" if c.startswith(\"myopic\") else \"-\"\n",
    "    alpha = 0.5 if \"capacities\" in c else 1.0\n",
    "\n",
    "    pdc[c].plot(\n",
    "        ax=ax, label=c, legend=True, linestyle=linestyle, linewidth=1.5, alpha=alpha\n",
    "    )\n",
    "    plt.grid(axis=\"both\")\n",
    "\n",
    "    plt.savefig(f\"../../slides/graphics/pdc-myopic-{i}.pdf\", bbox_inches=\"tight\")"
   ]
  },
  {
   "cell_type": "code",
   "execution_count": null,
   "metadata": {},
   "outputs": [],
   "source": []
  }
 ],
 "metadata": {
  "kernelspec": {
   "display_name": "price-formation",
   "language": "python",
   "name": "python3"
  },
  "language_info": {
   "codemirror_mode": {
    "name": "ipython",
    "version": 3
   },
   "file_extension": ".py",
   "mimetype": "text/x-python",
   "name": "python",
   "nbconvert_exporter": "python",
   "pygments_lexer": "ipython3",
   "version": "3.11.0"
  },
  "orig_nbformat": 4
 },
 "nbformat": 4,
 "nbformat_minor": 2
}
