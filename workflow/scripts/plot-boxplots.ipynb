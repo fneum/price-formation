{
 "cells": [
  {
   "cell_type": "code",
   "execution_count": null,
   "metadata": {},
   "outputs": [],
   "source": [
    "import matplotlib.pyplot as plt\n",
    "import seaborn as sns\n",
    "import pypsa\n",
    "import pandas as pd\n",
    "import numpy as np\n",
    "\n",
    "plt.style.use([\"bmh\", \"../../matplotlibrc\"])\n",
    "sns.set_palette(\"colorblind\")\n",
    "\n",
    "import matplotlib as mpl\n",
    "\n",
    "mpl.rcParams[\"figure.dpi\"] = 100"
   ]
  },
  {
   "cell_type": "code",
   "execution_count": null,
   "metadata": {},
   "outputs": [],
   "source": [
    "files = {\n",
    "    \"perfectly\\ninelastic\": \"../../results/20240506-70a/network_solved_LT-country+DE-inelastic+true.nc\",\n",
    "    \"VOLL\\n2000 €/MWh\": \"../../results/20240506-70a/network_solved_LT-country+DE-voll+true.nc\",\n",
    "    \"PWL-elastic\\ndefault\": \"../../results/20240506-70a/network_solved_LT-country+DE-elastic_pwl+default.nc\",\n",
    "    \"PWL-elastic\\nhigh\": \"../../results/20240506-70a/network_solved_LT-country+DE-elastic_pwl+higher.nc\",\n",
    "    \"PWL-elastic\\nlow\": \"../../results/20240506-70a/network_solved_LT-country+DE-elastic_pwl+lower.nc\",\n",
    "}\n",
    "ns = {k: pypsa.Network(v) for k, v in files.items()}"
   ]
  },
  {
   "cell_type": "code",
   "execution_count": null,
   "metadata": {},
   "outputs": [],
   "source": [
    "fn = \"../../data/time_series_60min_singleindex_filtered-2019-06-05.csv\"\n",
    "opsd = pd.read_csv(fn, parse_dates=True, index_col=0)\n",
    "fn = \"../../data/time_series_60min_singleindex_filtered-2020-10-06.csv\"\n",
    "opsd_supplement = pd.read_csv(fn, parse_dates=True, index_col=0)\n",
    "opsd = opsd.reindex(index=opsd.index.union(opsd_supplement.index))\n",
    "opsd[\"DE_LU_price_day_ahead\"] = opsd[\"DE_LU_price_day_ahead\"].combine_first(\n",
    "    opsd_supplement[\"DE_LU_price_day_ahead\"]\n",
    ")\n",
    "opsd = (\n",
    "    opsd[\"DE_price_day_ahead\"]\n",
    "    .combine_first(opsd[\"DE_AT_LU_price_day_ahead\"])\n",
    "    .combine_first(opsd[\"DE_LU_price_day_ahead\"])\n",
    ")\n",
    "\n",
    "fns = [\n",
    "    \"../../data/Day-ahead Prices_202001010000-202101010000.csv\",\n",
    "    \"../../data/Day-ahead Prices_202101010000-202201010000.csv\",\n",
    "    \"../../data/Day-ahead Prices_202201010000-202301010000.csv\",\n",
    "    \"../../data/Day-ahead Prices_202301010000-202401010000.csv\",\n",
    "    \"../../data/Day-ahead Prices_202401010000-202501010000.csv\",\n",
    "]\n",
    "entsoe = []\n",
    "for fn in fns:\n",
    "    s = pd.read_csv(\n",
    "        fn, delimiter=\",\", skipinitialspace=True, index_col=0, na_values=\"-\"\n",
    "    )[\"Day-ahead Price [EUR/MWh]\"].dropna()\n",
    "    s.index = (\n",
    "        pd.to_datetime(s.index.str.split(\" - \").str[0], format=\"%d.%m.%Y %H:%M\")\n",
    "        .tz_localize(\"Europe/Berlin\", nonexistent=\"shift_forward\", ambiguous=\"NaT\")\n",
    "        .tz_convert(\"UTC\")\n",
    "    )\n",
    "    entsoe.append(s)\n",
    "\n",
    "entsoe = pd.concat(entsoe)\n",
    "entsoe = entsoe[~entsoe.index.isna()].dropna()\n",
    "\n",
    "history = pd.concat([opsd, entsoe])\n",
    "history = history[~history.index.duplicated(keep=\"first\")]"
   ]
  },
  {
   "cell_type": "code",
   "execution_count": null,
   "metadata": {},
   "outputs": [],
   "source": [
    "def get_annual_mean_lmp(n):\n",
    "    lmp = n.buses_t.marginal_price[\"electricity\"]\n",
    "    return lmp.groupby(lmp.index.year).mean()"
   ]
  },
  {
   "cell_type": "code",
   "execution_count": null,
   "metadata": {},
   "outputs": [],
   "source": [
    "lmp = pd.DataFrame({k: get_annual_mean_lmp(v) for k, v in ns.items()})"
   ]
  },
  {
   "cell_type": "code",
   "execution_count": null,
   "metadata": {},
   "outputs": [],
   "source": [
    "pu_colors = sns.color_palette(\"rocket\", 5)\n",
    "cat_colors = sns.color_palette(\"colorblind\")\n",
    "\n",
    "fig, axs = plt.subplots(3, 1, height_ratios=[2, 3, 1], figsize=(5, 4), sharex=True)\n",
    "\n",
    "sets = [\n",
    "    [\"perfectly\\ninelastic\", \"VOLL\\n2000 €/MWh\"],\n",
    "    [\"PWL-elastic\\nlow\", \"PWL-elastic\\ndefault\", \"PWL-elastic\\nhigh\"],\n",
    "]\n",
    "\n",
    "violin_kwargs = dict(\n",
    "    orient=\"h\",\n",
    "    facecolor=\"lightgrey\",\n",
    "    edgecolor=\"grey\",\n",
    "    inner=\"quart\",\n",
    "    cut=0,\n",
    ")\n",
    "for i, s in enumerate(sets):\n",
    "    sns.stripplot(lmp[s], ax=axs[i], orient=\"h\", alpha=0.5, size=3)\n",
    "    sns.violinplot(lmp[s], ax=axs[i], **violin_kwargs)\n",
    "\n",
    "history_lmp = pd.DataFrame(\n",
    "    {\"historic\\n2005-2023\": history.groupby(history.index.year).mean()}\n",
    ")\n",
    "sns.stripplot(history_lmp, ax=axs[2], orient=\"h\", alpha=0.5, size=3)\n",
    "sns.violinplot(history_lmp, ax=axs[2], **violin_kwargs)\n",
    "\n",
    "for ax in axs:\n",
    "    ax.axvline(0, color=\"#bbb\", lw=1, zorder=0)\n",
    "\n",
    "plt.xlabel(\"Annual Mean Electricity Price [€/MWh]\")\n",
    "plt.xlim(-50, 650)\n",
    "\n",
    "for ext in [\"png\", \"pdf\"]:\n",
    "    plt.savefig(f\"../../resources/figure-boxplots.{ext}\", bbox_inches=\"tight\", dpi=300)"
   ]
  },
  {
   "cell_type": "code",
   "execution_count": null,
   "metadata": {},
   "outputs": [],
   "source": []
  }
 ],
 "metadata": {
  "kernelspec": {
   "display_name": "price-formation",
   "language": "python",
   "name": "python3"
  },
  "language_info": {
   "codemirror_mode": {
    "name": "ipython",
    "version": 3
   },
   "file_extension": ".py",
   "mimetype": "text/x-python",
   "name": "python",
   "nbconvert_exporter": "python",
   "pygments_lexer": "ipython3",
   "version": "3.11.0"
  }
 },
 "nbformat": 4,
 "nbformat_minor": 2
}
