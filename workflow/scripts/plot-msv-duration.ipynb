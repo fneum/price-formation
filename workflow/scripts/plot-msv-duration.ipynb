{
 "cells": [
  {
   "cell_type": "code",
   "execution_count": null,
   "metadata": {},
   "outputs": [],
   "source": [
    "import matplotlib.pyplot as plt\n",
    "import seaborn as sns\n",
    "import pypsa\n",
    "import pandas as pd\n",
    "import numpy as np\n",
    "\n",
    "plt.style.use([\"bmh\", \"../../matplotlibrc\"])\n",
    "sns.set_palette(\"colorblind\")\n",
    "\n",
    "import matplotlib as mpl\n",
    "\n",
    "mpl.rcParams[\"figure.dpi\"] = 100\n",
    "\n",
    "from plot import get_storage_value_duration"
   ]
  },
  {
   "cell_type": "code",
   "execution_count": null,
   "metadata": {},
   "outputs": [],
   "source": [
    "voll_files = {\n",
    "    1: \"../../results/20240506-num-years/network_solved_LT-country+DE-number_years+1-voll+true.nc\",\n",
    "    4: \"../../results/20240506-num-years/network_solved_LT-country+DE-number_years+4-voll+true.nc\",\n",
    "    # 16: \"../../results/20240506-num-years/network_solved_LT-country+DE-number_years+16-voll+true.nc\",\n",
    "    # 32: \"../../results/20240506-num-years/network_solved_LT-country+DE-number_years+32-voll+true.nc\",\n",
    "    70: \"../../results/20240506-num-years/network_solved_LT-country+DE-number_years+70-voll+true.nc\",\n",
    "}\n",
    "ns_voll = {k: pypsa.Network(v) for k, v in voll_files.items()}"
   ]
  },
  {
   "cell_type": "code",
   "execution_count": null,
   "metadata": {},
   "outputs": [],
   "source": [
    "pwl_files = {\n",
    "    1: \"../../results/20240506-num-years/network_solved_LT-country+DE-number_years+1-elastic_pwl+default.nc\",\n",
    "    4: \"../../results/20240506-num-years/network_solved_LT-country+DE-number_years+4-elastic_pwl+default.nc\",\n",
    "    16: \"../../results/20240506-num-years/network_solved_LT-country+DE-number_years+16-elastic_pwl+default.nc\",\n",
    "    32: \"../../results/20240506-num-years/network_solved_LT-country+DE-number_years+32-elastic_pwl+default.nc\",\n",
    "    70: \"../../results/20240506-num-years/network_solved_LT-country+DE-number_years+70-elastic_pwl+default.nc\",\n",
    "}\n",
    "ns_pwl = {k: pypsa.Network(v) for k, v in pwl_files.items()}"
   ]
  },
  {
   "cell_type": "code",
   "execution_count": null,
   "metadata": {},
   "outputs": [],
   "source": [
    "voll_st_files = {\n",
    "    \"LT\": \"../../results/20240506-70a/network_solved_LT-country+DE-voll+true.nc\",\n",
    "    \"ST\": \"../../results/20240506-70a/network_myopic_LT-country+DE-voll+true_ST-perfect_foresight+true-hydrogen_bid+0-battery_bid+0-cyclic+true.nc\",\n",
    "    \"ST - capacities +5%\": \"../../results/20240506-70a/network_myopic_LT-country+DE-voll+true_ST-horizon+96-overlap+48-perturbation+1.05.nc\",\n",
    "    \"ST - capacities -5%\": \"../../results/20240506-70a/network_myopic_LT-country+DE-voll+true_ST-horizon+96-overlap+48-perturbation+0.95.nc\",\n",
    "}\n",
    "ns_voll_st = {k: pypsa.Network(v) for k, v in voll_st_files.items()}"
   ]
  },
  {
   "cell_type": "code",
   "execution_count": null,
   "metadata": {},
   "outputs": [],
   "source": [
    "pwl_st_files = {\n",
    "    \"LT\": \"../../results/20240506-70a/network_solved_LT-country+DE-elastic_pwl+default.nc\",\n",
    "    \"ST\": \"../../results/20240506-70a/network_myopic_LT-country+DE-elastic_pwl+default_ST-perfect_foresight+true-hydrogen_bid+0-battery_bid+0-cyclic+true.nc\",\n",
    "    \"ST - capacities +5%\": \"../../results/20240506-70a/network_myopic_LT-country+DE-elastic_pwl+default_ST-horizon+96-overlap+48-perturbation+1.05.nc\",\n",
    "    \"ST - capacities -5%\": \"../../results/20240506-70a/network_myopic_LT-country+DE-elastic_pwl+default_ST-horizon+96-overlap+48-perturbation+0.95.nc\",\n",
    "}\n",
    "ns_pwl_st = {k: pypsa.Network(v) for k, v in pwl_st_files.items()}"
   ]
  },
  {
   "cell_type": "code",
   "execution_count": null,
   "metadata": {},
   "outputs": [],
   "source": [
    "voll_myopic_files = {\n",
    "    \"LT\": \"../../results/20240506-35a-35a/network_solved_LT-country+DE-number_years+35-voll+true.nc\",\n",
    "    \"ST perfect foresight\": \"../../results/20240506-35a-35a/network_myopic_LT-country+DE-number_years+35-voll+true_ST-number_years+35-perfect_foresight+true-hydrogen_bid+0-battery_bid+0-cyclic+true.nc\",\n",
    "    \"ST myopic\": \"../../results/20240506-35a-35a/network_myopic_LT-country+DE-number_years+35-voll+true_ST-number_years+35-horizon+96-overlap+48.nc\",\n",
    "    \"ST myopic / capacities +5%\": \"../../results/20240506-35a-35a/network_myopic_LT-country+DE-number_years+35-voll+true_ST-number_years+35-horizon+96-overlap+48-perturbation+1.05.nc\",\n",
    "    \"ST myopic / capacities -5%\": \"../../results/20240506-35a-35a/network_myopic_LT-country+DE-number_years+35-voll+true_ST-number_years+35-horizon+96-overlap+48-perturbation+0.95.nc\",\n",
    "}\n",
    "ns_voll_myopic = {k: pypsa.Network(v) for k, v in voll_myopic_files.items()}"
   ]
  },
  {
   "cell_type": "code",
   "execution_count": null,
   "metadata": {},
   "outputs": [],
   "source": [
    "pwl_myopic_files = {\n",
    "    \"LT\": \"../../results/20240506-35a-35a/network_solved_LT-country+DE-number_years+35-elastic_pwl+default.nc\",\n",
    "    \"ST perfect foresight\": \"../../results/20240506-35a-35a/network_myopic_LT-country+DE-number_years+35-elastic_pwl+default_ST-number_years+35-perfect_foresight+true-hydrogen_bid+0-battery_bid+0-cyclic+true.nc\",\n",
    "    \"ST myopic\": \"../../results/20240506-35a-35a/network_myopic_LT-country+DE-number_years+35-elastic_pwl+default_ST-number_years+35-horizon+96-overlap+48.nc\",\n",
    "    \"ST myopic / capacities +5%\": \"../../results/20240506-35a-35a/network_myopic_LT-country+DE-number_years+35-elastic_pwl+default_ST-number_years+35-horizon+96-overlap+48-perturbation+1.05.nc\",\n",
    "    \"ST myopic / capacities -5%\": \"../../results/20240506-35a-35a/network_myopic_LT-country+DE-number_years+35-elastic_pwl+default_ST-number_years+35-horizon+96-overlap+48-perturbation+0.95.nc\",\n",
    "}\n",
    "ns_pwl_myopic = {k: pypsa.Network(v) for k, v in pwl_myopic_files.items()}"
   ]
  },
  {
   "cell_type": "code",
   "execution_count": null,
   "metadata": {},
   "outputs": [],
   "source": [
    "msv_voll = {k: get_storage_value_duration(v) for k, v in ns_voll.items()}\n",
    "msv_pwl = {k: get_storage_value_duration(v) for k, v in ns_pwl.items()}\n",
    "\n",
    "msv_voll_st = {k: get_storage_value_duration(v) for k, v in ns_voll_st.items()}\n",
    "msv_pwl_st = {k: get_storage_value_duration(v) for k, v in ns_pwl_st.items()}\n",
    "\n",
    "msv_voll_myopic = {k: get_storage_value_duration(v) for k, v in ns_voll_myopic.items()}\n",
    "msv_pwl_myopic = {k: get_storage_value_duration(v) for k, v in ns_pwl_myopic.items()}"
   ]
  },
  {
   "cell_type": "code",
   "execution_count": null,
   "metadata": {},
   "outputs": [],
   "source": [
    "pu_colors = sns.color_palette(\"rocket\", 5)\n",
    "cat_colors = sns.color_palette(\"colorblind\")\n",
    "lw = 1.25\n",
    "\n",
    "fig, axs = plt.subplots(2, 2, figsize=(10, 6))\n",
    "\n",
    "for i, (ys, msv) in enumerate(msv_voll.items()):\n",
    "    label = f\"{ys} year\" if ys == 1 else f\"{ys} years\"\n",
    "    msv.plot(ax=axs[0, 0], label=label, color=pu_colors[i], linewidth=lw)\n",
    "\n",
    "for i, (ys, msv) in enumerate(msv_pwl.items()):\n",
    "    label = f\"{ys} year\" if ys == 1 else f\"{ys} years\"\n",
    "    msv.plot(ax=axs[0, 1], label=label, color=pu_colors[i], linewidth=lw)\n",
    "\n",
    "for i, (key, msv) in enumerate(msv_voll_st.items()):\n",
    "    ls = \":\" if key != \"LT\" else \"-\"\n",
    "    msv.plot(ax=axs[1, 0], label=key, color=cat_colors[i], linestyle=ls, linewidth=lw)\n",
    "\n",
    "for i, (key, msv) in enumerate(msv_pwl_st.items()):\n",
    "    ls = \":\" if key != \"LT\" else \"-\"\n",
    "    msv.plot(ax=axs[1, 1], label=key, color=cat_colors[i], linestyle=ls, linewidth=lw)\n",
    "\n",
    "axs[0, 0].set_title(\n",
    "    \"a) VOLL: storage value duration curve\", loc=\"left\", fontsize=\"medium\"\n",
    ")\n",
    "axs[0, 1].set_title(\n",
    "    \"b) PWL-elastic: storage value duration curve\", loc=\"left\", fontsize=\"medium\"\n",
    ")\n",
    "\n",
    "axs[1, 0].set_title(\n",
    "    \"c) VOLL: storage value duration curve with perturbations\",\n",
    "    loc=\"left\",\n",
    "    fontsize=\"medium\",\n",
    ")\n",
    "axs[1, 1].set_title(\n",
    "    \"d) PWL-elastic: storage value duration curve with perturbations\",\n",
    "    loc=\"left\",\n",
    "    fontsize=\"medium\",\n",
    ")\n",
    "\n",
    "for i in range(2):\n",
    "    for j in range(2):\n",
    "        axs[i, j].set_xlabel(\"Fraction of time [%]\")\n",
    "        axs[i, j].axhline(0, linewidth=1, color=\"#bbb\", zorder=0)\n",
    "        axs[i, j].set_xlim(0, 100)\n",
    "        axs[i, j].legend(loc=\"upper right\")\n",
    "        axs[i, j].set_ylim(-5, 1050)\n",
    "        axs[i, j].set_ylabel(\"Storage Value [€/MWh]\")\n",
    "        axs[i, j].set_yticks(range(0, 1001, 200))\n",
    "        axs[i, j].set_yticks(range(0, 1001, 100), minor=True)\n",
    "\n",
    "for ext in [\"png\", \"pdf\"]:\n",
    "    plt.savefig(f\"../../resources/figure-msv.{ext}\", bbox_inches=\"tight\", dpi=300)"
   ]
  },
  {
   "cell_type": "code",
   "execution_count": null,
   "metadata": {},
   "outputs": [],
   "source": []
  }
 ],
 "metadata": {
  "kernelspec": {
   "display_name": "price-formation",
   "language": "python",
   "name": "python3"
  },
  "language_info": {
   "codemirror_mode": {
    "name": "ipython",
    "version": 3
   },
   "file_extension": ".py",
   "mimetype": "text/x-python",
   "name": "python",
   "nbconvert_exporter": "python",
   "pygments_lexer": "ipython3",
   "version": "3.11.0"
  }
 },
 "nbformat": 4,
 "nbformat_minor": 2
}
