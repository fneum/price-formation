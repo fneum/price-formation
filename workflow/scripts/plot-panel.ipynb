{
 "cells": [
  {
   "cell_type": "code",
   "execution_count": null,
   "metadata": {},
   "outputs": [],
   "source": [
    "import matplotlib.pyplot as plt\n",
    "import seaborn as sns\n",
    "import pypsa\n",
    "import pandas as pd\n",
    "import numpy as np\n",
    "\n",
    "plt.style.use([\"bmh\", \"../../matplotlibrc\"])\n",
    "sns.set_palette(\"colorblind\")\n",
    "\n",
    "import matplotlib as mpl\n",
    "\n",
    "mpl.rcParams[\"figure.dpi\"] = 100\n",
    "\n",
    "from plot import get_price_duration"
   ]
  },
  {
   "cell_type": "code",
   "execution_count": null,
   "metadata": {},
   "outputs": [],
   "source": [
    "n = ns_pwl[70]\n",
    "n.buses_t.marginal_price[\"electricity\"].mean()"
   ]
  },
  {
   "cell_type": "code",
   "execution_count": null,
   "metadata": {},
   "outputs": [],
   "source": [
    "n.statistics.energy_balance(aggregate_time=False).T.xs()"
   ]
  },
  {
   "cell_type": "code",
   "execution_count": null,
   "metadata": {},
   "outputs": [],
   "source": [
    "voll_files = {\n",
    "    1: \"../../results/20240506-num-years/network_solved_LT-country+DE-number_years+1-voll+true.nc\",\n",
    "    4: \"../../results/20240506-num-years/network_solved_LT-country+DE-number_years+4-voll+true.nc\",\n",
    "    # 16: \"../../results/20240506-num-years/network_solved_LT-country+DE-number_years+16-voll+true.nc\",\n",
    "    # 32: \"../../results/20240506-num-years/network_solved_LT-country+DE-number_years+32-voll+true.nc\",\n",
    "    70: \"../../results/20240506-num-years/network_solved_LT-country+DE-number_years+70-voll+true.nc\",\n",
    "}\n",
    "ns_voll = {k: pypsa.Network(v) for k, v in voll_files.items()}"
   ]
  },
  {
   "cell_type": "code",
   "execution_count": null,
   "metadata": {},
   "outputs": [],
   "source": [
    "pwl_files = {\n",
    "    1: \"../../results/20240506-num-years/network_solved_LT-country+DE-number_years+1-elastic_pwl+default.nc\",\n",
    "    4: \"../../results/20240506-num-years/network_solved_LT-country+DE-number_years+4-elastic_pwl+default.nc\",\n",
    "    16: \"../../results/20240506-num-years/network_solved_LT-country+DE-number_years+16-elastic_pwl+default.nc\",\n",
    "    32: \"../../results/20240506-num-years/network_solved_LT-country+DE-number_years+32-elastic_pwl+default.nc\",\n",
    "    70: \"../../results/20240506-num-years/network_solved_LT-country+DE-number_years+70-elastic_pwl+default.nc\",\n",
    "}\n",
    "ns_pwl = {k: pypsa.Network(v) for k, v in pwl_files.items()}"
   ]
  },
  {
   "cell_type": "code",
   "execution_count": null,
   "metadata": {},
   "outputs": [],
   "source": [
    "pdc_voll = {k: get_price_duration(v) for k, v in ns_voll.items()}\n",
    "pdc_pwl = {k: get_price_duration(v) for k, v in ns_pwl.items()}"
   ]
  },
  {
   "cell_type": "code",
   "execution_count": null,
   "metadata": {},
   "outputs": [],
   "source": [
    "pdc_h2_voll = {k: get_price_duration(v, bus=\"hydrogen\") for k, v in ns_voll.items()}\n",
    "pdc_h2_pwl = {k: get_price_duration(v, bus=\"hydrogen\") for k, v in ns_pwl.items()}"
   ]
  },
  {
   "cell_type": "code",
   "execution_count": null,
   "metadata": {},
   "outputs": [],
   "source": [
    "voll_st_files = {\n",
    "    \"LT\": \"../../results/20240506-70a/network_solved_LT-country+DE-voll+true.nc\",\n",
    "    \"ST\": \"../../results/20240506-70a/network_myopic_LT-country+DE-voll+true_ST-perfect_foresight+true-hydrogen_bid+0-battery_bid+0-cyclic+true.nc\",\n",
    "    \"ST - capacities +5%\": \"../../results/20240506-70a/network_myopic_LT-country+DE-voll+true_ST-perfect_foresight+true-hydrogen_bid+0-battery_bid+0-cyclic+true-perturbation+1.05.nc\",\n",
    "    \"ST - capacities -5%\": \"../../results/20240506-70a/network_myopic_LT-country+DE-voll+true_ST-perfect_foresight+true-hydrogen_bid+0-battery_bid+0-cyclic+true-perturbation+0.95.nc\",\n",
    "}\n",
    "ns_voll_st = {k: pypsa.Network(v) for k, v in voll_st_files.items()}"
   ]
  },
  {
   "cell_type": "code",
   "execution_count": null,
   "metadata": {},
   "outputs": [],
   "source": [
    "pwl_st_files = {\n",
    "    \"LT\": \"../../results/20240506-70a/network_solved_LT-country+DE-elastic_pwl+default.nc\",\n",
    "    \"ST\": \"../../results/20240506-70a/network_myopic_LT-country+DE-elastic_pwl+default_ST-perfect_foresight+true-hydrogen_bid+0-battery_bid+0-cyclic+true.nc\",\n",
    "    \"ST - capacities +5%\": \"../../results/20240506-70a/network_myopic_LT-country+DE-elastic_pwl+default_ST-perfect_foresight+true-hydrogen_bid+0-battery_bid+0-cyclic+true-perturbation+1.05.nc\",\n",
    "    \"ST - capacities -5%\": \"../../results/20240506-70a/network_myopic_LT-country+DE-elastic_pwl+default_ST-perfect_foresight+true-hydrogen_bid+0-battery_bid+0-cyclic+true-perturbation+0.95.nc\",\n",
    "}\n",
    "ns_pwl_st = {k: pypsa.Network(v) for k, v in pwl_st_files.items()}"
   ]
  },
  {
   "cell_type": "code",
   "execution_count": null,
   "metadata": {},
   "outputs": [],
   "source": [
    "pdc_voll_st = {k: get_price_duration(v) for k, v in ns_voll_st.items()}\n",
    "pdc_pwl_st = {k: get_price_duration(v) for k, v in ns_pwl_st.items()}"
   ]
  },
  {
   "cell_type": "code",
   "execution_count": null,
   "metadata": {},
   "outputs": [],
   "source": [
    "pu_colors = sns.color_palette(\"rocket\", 5)\n",
    "cat_colors = sns.color_palette(\"colorblind\")\n",
    "lw = 1.25\n",
    "\n",
    "fig, axs = plt.subplots(3, 2, figsize=(10, 10))\n",
    "\n",
    "for i, (ys, pdc) in enumerate(pdc_voll.items()):\n",
    "    label = f\"{ys} year\" if ys == 1 else f\"{ys} years\"\n",
    "    pdc.plot(ax=axs[0, 0], label=label, color=pu_colors[i], clip_on=False, linewidth=lw)\n",
    "\n",
    "for i, (ys, pdc) in enumerate(pdc_pwl.items()):\n",
    "    label = f\"{ys} year\" if ys == 1 else f\"{ys} years\"\n",
    "    pdc.plot(ax=axs[0, 1], label=label, color=pu_colors[i], clip_on=False, linewidth=lw)\n",
    "\n",
    "for i, (ys, pdc) in enumerate(pdc_h2_voll.items()):\n",
    "    label = f\"{ys} year\" if ys == 1 else f\"{ys} years\"\n",
    "    pdc.plot(ax=axs[1, 0], label=label, color=pu_colors[i], clip_on=False, linewidth=lw)\n",
    "\n",
    "for i, (ys, pdc) in enumerate(pdc_h2_pwl.items()):\n",
    "    label = f\"{ys} year\" if ys == 1 else f\"{ys} years\"\n",
    "    pdc.plot(ax=axs[1, 1], label=label, color=pu_colors[i], clip_on=False, linewidth=lw)\n",
    "\n",
    "for i, (key, pdc) in enumerate(pdc_voll_st.items()):\n",
    "    ls = \":\" if key != \"LT\" else \"-\"\n",
    "    pdc.plot(ax=axs[2, 0], label=key, color=cat_colors[i], linestyle=ls, linewidth=lw)\n",
    "\n",
    "for i, (key, pdc) in enumerate(pdc_pwl_st.items()):\n",
    "    ls = \":\" if key != \"LT\" else \"-\"\n",
    "    pdc.plot(ax=axs[2, 1], label=key, color=cat_colors[i], linestyle=ls, linewidth=lw)\n",
    "\n",
    "axs[0, 0].set_title(\n",
    "    \"a) VOLL: electricity price duration curve\", loc=\"left\", fontsize=\"medium\"\n",
    ")\n",
    "axs[0, 1].set_title(\n",
    "    \"b) PWL-elastic: electricity price duration curve\", loc=\"left\", fontsize=\"medium\"\n",
    ")\n",
    "\n",
    "axs[1, 0].set_title(\n",
    "    \"c) VOLL: hydrogen price duration curve\", loc=\"left\", fontsize=\"medium\"\n",
    ")\n",
    "axs[1, 1].set_title(\n",
    "    \"d) PWL-elastic: hydrogen price duration curve\", loc=\"left\", fontsize=\"medium\"\n",
    ")\n",
    "\n",
    "axs[2, 0].set_title(\n",
    "    \"e) VOLL: price duration curve with perturbations\", loc=\"left\", fontsize=\"medium\"\n",
    ")\n",
    "axs[2, 1].set_title(\n",
    "    \"f) PWL-elastic: price duration curve with perturbations\",\n",
    "    loc=\"left\",\n",
    "    fontsize=\"medium\",\n",
    ")\n",
    "\n",
    "for i in range(2):\n",
    "    axs[0, i].set_ylim(-100, 2200)\n",
    "    axs[0, i].set_ylabel(\"Electricity Price [€/MWh]\")\n",
    "    axs[0, i].set_yticks(range(0, 2001, 250), minor=True)\n",
    "\n",
    "for i in range(2):\n",
    "    axs[2, i].set_ylim(-100, 2200)\n",
    "    axs[2, i].set_ylabel(\"Electricity Price [€/MWh]\")\n",
    "    axs[2, i].set_yticks(range(0, 2001, 250), minor=True)\n",
    "\n",
    "for i in range(2):\n",
    "    axs[1, i].set_ylim(-50, 800)\n",
    "    axs[1, i].set_ylabel(\"Hydrogen Price [€/MWh]\")\n",
    "    axs[1, i].set_yticks(range(0, 800, 100), minor=True)\n",
    "\n",
    "for i in range(3):\n",
    "    for j in range(2):\n",
    "        axs[i, j].set_xlabel(\"Fraction of time [%]\")\n",
    "        axs[i, j].axhline(0, linewidth=1, color=\"#bbb\", zorder=0)\n",
    "        axs[i, j].set_xlim(0, 100)\n",
    "        axs[i, j].legend()\n",
    "\n",
    "for ext in [\"png\", \"pdf\"]:\n",
    "    plt.savefig(f\"../../resources/figure-panel.{ext}\", bbox_inches=\"tight\", dpi=300)"
   ]
  },
  {
   "cell_type": "code",
   "execution_count": null,
   "metadata": {},
   "outputs": [],
   "source": []
  }
 ],
 "metadata": {
  "kernelspec": {
   "display_name": "price-formation",
   "language": "python",
   "name": "python3"
  },
  "language_info": {
   "codemirror_mode": {
    "name": "ipython",
    "version": 3
   },
   "file_extension": ".py",
   "mimetype": "text/x-python",
   "name": "python",
   "nbconvert_exporter": "python",
   "pygments_lexer": "ipython3",
   "version": "3.11.0"
  }
 },
 "nbformat": 4,
 "nbformat_minor": 2
}
